{
  "nbformat": 4,
  "nbformat_minor": 0,
  "metadata": {
    "colab": {
      "name": "2.1 Advanced Python Constructs.ipynb",
      "version": "0.3.2",
      "provenance": [],
      "collapsed_sections": [],
      "include_colab_link": true
    },
    "kernelspec": {
      "name": "python3",
      "display_name": "Python 3"
    }
  },
  "cells": [
    {
      "cell_type": "markdown",
      "metadata": {
        "id": "view-in-github",
        "colab_type": "text"
      },
      "source": [
        "<a href=\"https://colab.research.google.com/github/Stonepia/Scipy-Lec/blob/master/2_1_Advanced_Python_Constructs.ipynb\" target=\"_parent\"><img src=\"https://colab.research.google.com/assets/colab-badge.svg\" alt=\"Open In Colab\"/></a>"
      ]
    },
    {
      "cell_type": "markdown",
      "metadata": {
        "id": "fIUWFmWyURo6",
        "colab_type": "text"
      },
      "source": [
        "# 2.1 Advanced Python Constructs"
      ]
    },
    {
      "cell_type": "markdown",
      "metadata": {
        "id": "RE2J9BykkFMq",
        "colab_type": "text"
      },
      "source": [
        "## 2.1.1 Iterators, generator expressions and generators"
      ]
    },
    {
      "cell_type": "markdown",
      "metadata": {
        "id": "TacxiAvMkNtx",
        "colab_type": "text"
      },
      "source": [
        "### Iterators"
      ]
    },
    {
      "cell_type": "code",
      "metadata": {
        "id": "TEcrOqe3UBnF",
        "colab_type": "code",
        "outputId": "d0876061-22b3-4cb1-8b88-16938156a591",
        "colab": {
          "base_uri": "https://localhost:8080/",
          "height": 34
        }
      },
      "source": [
        "nums =[1,2,3]\n",
        "iter(nums)"
      ],
      "execution_count": 0,
      "outputs": [
        {
          "output_type": "execute_result",
          "data": {
            "text/plain": [
              "<list_iterator at 0x7f30022a09e8>"
            ]
          },
          "metadata": {
            "tags": []
          },
          "execution_count": 1
        }
      ]
    },
    {
      "cell_type": "code",
      "metadata": {
        "id": "O28uYTX3kSYQ",
        "colab_type": "code",
        "outputId": "53a4aac4-308b-429c-cac4-c9e02dc8d709",
        "colab": {
          "base_uri": "https://localhost:8080/",
          "height": 34
        }
      },
      "source": [
        "nums.__iter__() # another way"
      ],
      "execution_count": 0,
      "outputs": [
        {
          "output_type": "execute_result",
          "data": {
            "text/plain": [
              "<list_iterator at 0x7f6ad79afdd8>"
            ]
          },
          "metadata": {
            "tags": []
          },
          "execution_count": 3
        }
      ]
    },
    {
      "cell_type": "code",
      "metadata": {
        "id": "ugTC015mkWOr",
        "colab_type": "code",
        "outputId": "0bb78fe2-3298-461d-d7b9-8799c7be9850",
        "colab": {
          "base_uri": "https://localhost:8080/",
          "height": 34
        }
      },
      "source": [
        "nums.__reversed__()"
      ],
      "execution_count": 0,
      "outputs": [
        {
          "output_type": "execute_result",
          "data": {
            "text/plain": [
              "<list_reverseiterator at 0x7f6ad79afc88>"
            ]
          },
          "metadata": {
            "tags": []
          },
          "execution_count": 4
        }
      ]
    },
    {
      "cell_type": "code",
      "metadata": {
        "id": "6mP0_gM8kcIS",
        "colab_type": "code",
        "outputId": "2923a03d-1df7-41b2-b7d9-18c2c223d215",
        "colab": {
          "base_uri": "https://localhost:8080/",
          "height": 51
        }
      },
      "source": [
        "it = iter(nums)\n",
        "print(next(it))\n",
        "print(next(it))"
      ],
      "execution_count": 0,
      "outputs": [
        {
          "output_type": "stream",
          "text": [
            "1\n",
            "2\n"
          ],
          "name": "stdout"
        }
      ]
    },
    {
      "cell_type": "markdown",
      "metadata": {
        "id": "X_XFjJWEnuYn",
        "colab_type": "text"
      },
      "source": [
        "### Generator expressions"
      ]
    },
    {
      "cell_type": "markdown",
      "metadata": {
        "id": "F5By8LfOoKWa",
        "colab_type": "text"
      },
      "source": [
        "A second way in which iterator objects are created is through **generator expressions**, the basis for** list comprehensions**. To increase clarity, a generator expression must always be enclosed in parentheses or an expression. If round parentheses are used, then a generator iterator is created. If rectangular parentheses are used, the process is short-circuited and we get a `list`."
      ]
    },
    {
      "cell_type": "code",
      "metadata": {
        "id": "AebJtXXVkhjm",
        "colab_type": "code",
        "outputId": "02d390ab-352c-4ece-bdee-24d5e13bb716",
        "colab": {
          "base_uri": "https://localhost:8080/",
          "height": 34
        }
      },
      "source": [
        "(i for i in nums) # generator"
      ],
      "execution_count": 0,
      "outputs": [
        {
          "output_type": "execute_result",
          "data": {
            "text/plain": [
              "<generator object <genexpr> at 0x7f300228b780>"
            ]
          },
          "metadata": {
            "tags": []
          },
          "execution_count": 2
        }
      ]
    },
    {
      "cell_type": "code",
      "metadata": {
        "id": "bxkI_ZUZoXTD",
        "colab_type": "code",
        "outputId": "97f5df39-a0e0-430d-c7bf-1ec78d7aa02e",
        "colab": {
          "base_uri": "https://localhost:8080/",
          "height": 34
        }
      },
      "source": [
        "[i for i in nums] # list"
      ],
      "execution_count": 0,
      "outputs": [
        {
          "output_type": "execute_result",
          "data": {
            "text/plain": [
              "[1, 2, 3]"
            ]
          },
          "metadata": {
            "tags": []
          },
          "execution_count": 3
        }
      ]
    },
    {
      "cell_type": "code",
      "metadata": {
        "id": "9EvsRhp6oY-T",
        "colab_type": "code",
        "outputId": "35c9b37b-221a-4445-f226-72f52f5dacd5",
        "colab": {
          "base_uri": "https://localhost:8080/",
          "height": 34
        }
      },
      "source": [
        "list(i for i in nums)"
      ],
      "execution_count": 0,
      "outputs": [
        {
          "output_type": "execute_result",
          "data": {
            "text/plain": [
              "[1, 2, 3]"
            ]
          },
          "metadata": {
            "tags": []
          },
          "execution_count": 4
        }
      ]
    },
    {
      "cell_type": "markdown",
      "metadata": {
        "id": "Ixz7pCfyor1B",
        "colab_type": "text"
      },
      "source": [
        "The list comprehension syntax also extends to **dictionary and set comprehensions**. A `set` is created when the generator expression is enclosed in curly braces. A `dict` is created when the generator expression contains “pairs” of the form key:value:"
      ]
    },
    {
      "cell_type": "code",
      "metadata": {
        "id": "6k3UTMCPoghH",
        "colab_type": "code",
        "outputId": "71975313-6e8a-4f6c-e93f-c3d2e62a189d",
        "colab": {
          "base_uri": "https://localhost:8080/",
          "height": 34
        }
      },
      "source": [
        "{i for i in range(3)}"
      ],
      "execution_count": 0,
      "outputs": [
        {
          "output_type": "execute_result",
          "data": {
            "text/plain": [
              "{0, 1, 2}"
            ]
          },
          "metadata": {
            "tags": []
          },
          "execution_count": 5
        }
      ]
    },
    {
      "cell_type": "code",
      "metadata": {
        "id": "m3_sQXcco4yo",
        "colab_type": "code",
        "outputId": "586db42b-155a-4328-c6bc-9a20debfa289",
        "colab": {
          "base_uri": "https://localhost:8080/",
          "height": 34
        }
      },
      "source": [
        "{i:i**2 for i in range(3)}"
      ],
      "execution_count": 0,
      "outputs": [
        {
          "output_type": "execute_result",
          "data": {
            "text/plain": [
              "{0: 0, 1: 1, 2: 4}"
            ]
          },
          "metadata": {
            "tags": []
          },
          "execution_count": 6
        }
      ]
    },
    {
      "cell_type": "markdown",
      "metadata": {
        "id": "551AYGeUo-8S",
        "colab_type": "text"
      },
      "source": [
        "### Generators"
      ]
    },
    {
      "cell_type": "markdown",
      "metadata": {
        "id": "jfpKLcy2sCWr",
        "colab_type": "text"
      },
      "source": [
        "A third way to create iterator objects is to call a generator function.\n",
        "\n",
        "When `next` is called, the function is executed until the first `yield`. Each encountered yield statement gives a value becomes the return value of `next`. After executing the ` yield ` statement, the execution of this function is suspended.\n",
        "\n"
      ]
    },
    {
      "cell_type": "code",
      "metadata": {
        "id": "66-K2ThAo71b",
        "colab_type": "code",
        "colab": {}
      },
      "source": [
        "def f():\n",
        "  yield 1\n",
        "  yield 2\n",
        " \n",
        "gen = f()\n"
      ],
      "execution_count": 0,
      "outputs": []
    },
    {
      "cell_type": "code",
      "metadata": {
        "id": "NarqJfjFrCMu",
        "colab_type": "code",
        "outputId": "0a23df5a-00ac-42db-bb4a-dcd343a911ab",
        "colab": {
          "base_uri": "https://localhost:8080/",
          "height": 34
        }
      },
      "source": [
        "next(gen)"
      ],
      "execution_count": 0,
      "outputs": [
        {
          "output_type": "execute_result",
          "data": {
            "text/plain": [
              "1"
            ]
          },
          "metadata": {
            "tags": []
          },
          "execution_count": 2
        }
      ]
    },
    {
      "cell_type": "code",
      "metadata": {
        "id": "9JgXaXxqrDb0",
        "colab_type": "code",
        "outputId": "aa9a55f3-640d-407a-eb52-7554461c7287",
        "colab": {
          "base_uri": "https://localhost:8080/",
          "height": 34
        }
      },
      "source": [
        "next(gen)"
      ],
      "execution_count": 0,
      "outputs": [
        {
          "output_type": "execute_result",
          "data": {
            "text/plain": [
              "2"
            ]
          },
          "metadata": {
            "tags": []
          },
          "execution_count": 3
        }
      ]
    },
    {
      "cell_type": "code",
      "metadata": {
        "id": "Dv3tewQtrEZK",
        "colab_type": "code",
        "outputId": "4080efb5-529f-497c-a55a-09499383fc6d",
        "colab": {
          "base_uri": "https://localhost:8080/",
          "height": 163
        }
      },
      "source": [
        "next(gen)"
      ],
      "execution_count": 0,
      "outputs": [
        {
          "output_type": "error",
          "ename": "StopIteration",
          "evalue": "ignored",
          "traceback": [
            "\u001b[0;31m---------------------------------------------------------------------------\u001b[0m",
            "\u001b[0;31mStopIteration\u001b[0m                             Traceback (most recent call last)",
            "\u001b[0;32m<ipython-input-4-6e72e47198db>\u001b[0m in \u001b[0;36m<module>\u001b[0;34m()\u001b[0m\n\u001b[0;32m----> 1\u001b[0;31m \u001b[0mnext\u001b[0m\u001b[0;34m(\u001b[0m\u001b[0mgen\u001b[0m\u001b[0;34m)\u001b[0m\u001b[0;34m\u001b[0m\u001b[0;34m\u001b[0m\u001b[0m\n\u001b[0m",
            "\u001b[0;31mStopIteration\u001b[0m: "
          ]
        }
      ]
    },
    {
      "cell_type": "markdown",
      "metadata": {
        "id": "hV0VUv4Lw1-h",
        "colab_type": "text"
      },
      "source": [
        "### Bidirectional Communication"
      ]
    },
    {
      "cell_type": "markdown",
      "metadata": {
        "id": "MVebb8iLx1OK",
        "colab_type": "text"
      },
      "source": [
        "When the generator resumes execution after a `yield` statement, the caller can call a method on the generator object to either pass a value **into** the generator, which then is returned by the `yield` statement, or a different method to inject an exception into the generator.\n",
        "\n",
        "The first of the new methods is  [send(value)](https://docs.python.org/3/reference/expressions.html#generator.send()), which is similar to **next()**, but passes value into the generator to be used for the value of the `yield` expression. In fact, `g.next()` and `g.send(None)` are equivalent.\n",
        "\n",
        "The second new method is [throw(type, value=None, traceback=None)](https://docs.python.org/3/reference/expressions.html#generator.throw), which is equivalent to:\n",
        "\n",
        "\n",
        "```\n",
        "raise type, value, traceback\n",
        "```\n",
        "at the point of the yield statement.\n",
        "\n",
        "Unlike raise (which immediately raises an exception from the current execution point), throw() first resumes the generator, and only then raises the exception.\n",
        "\n",
        "What happens when an exception is raised inside the generator? It can be either raised explicitly or when executing some statements or it can be injected at the point of a `yield` statement by means of the `throw()` method. In either case, such an exception propagates in the standard manner: it can be intercepted by an `except` or `finally` clause, or otherwise it causes the execution of the generator function to be aborted and propagates in the caller.\n",
        "\n",
        "For completeness’ sake, it’s worth mentioning that generator iterators also have a [ close() ](https://docs.python.org/3/reference/expressions.html#generator.close)method, which can be used to force a generator that would otherwise be able to provide more values to finish immediately. It allows the generator **\\_\\_del__** method to destroy objects holding the state of generator."
      ]
    },
    {
      "cell_type": "code",
      "metadata": {
        "id": "CMpH3xTArFV8",
        "colab_type": "code",
        "colab": {}
      },
      "source": [
        "import itertools\n",
        "\n",
        "def g():\n",
        "  print('--start--')\n",
        "  for i in itertools.count():\n",
        "    print('--yielding %i--' % i)\n",
        "    try:\n",
        "      ans = yield i\n",
        "    except GeneratorExit:\n",
        "      print('--closing--')\n",
        "      raise\n",
        "    except Exception as e:\n",
        "      print('--yield raised %r --' %e)\n",
        "    else:\n",
        "      print('--yield returned %s --' %ans)\n",
        "      \n",
        "\n",
        "it = g()"
      ],
      "execution_count": 0,
      "outputs": []
    },
    {
      "cell_type": "code",
      "metadata": {
        "id": "r0BqVLqW5kFD",
        "colab_type": "code",
        "outputId": "71fd6b76-219d-4330-cc5e-c35587f7647d",
        "colab": {
          "base_uri": "https://localhost:8080/",
          "height": 68
        }
      },
      "source": [
        "next(it)"
      ],
      "execution_count": 0,
      "outputs": [
        {
          "output_type": "stream",
          "text": [
            "--start--\n",
            "--yielding 0--\n"
          ],
          "name": "stdout"
        },
        {
          "output_type": "execute_result",
          "data": {
            "text/plain": [
              "0"
            ]
          },
          "metadata": {
            "tags": []
          },
          "execution_count": 8
        }
      ]
    },
    {
      "cell_type": "code",
      "metadata": {
        "id": "BtniaKva5lor",
        "colab_type": "code",
        "outputId": "8f36acb6-e55d-49e2-ac07-2ca10990caaa",
        "colab": {
          "base_uri": "https://localhost:8080/",
          "height": 68
        }
      },
      "source": [
        "it.send(11)"
      ],
      "execution_count": 0,
      "outputs": [
        {
          "output_type": "stream",
          "text": [
            "--yield returned 11 --\n",
            "--yielding 1--\n"
          ],
          "name": "stdout"
        },
        {
          "output_type": "execute_result",
          "data": {
            "text/plain": [
              "1"
            ]
          },
          "metadata": {
            "tags": []
          },
          "execution_count": 9
        }
      ]
    },
    {
      "cell_type": "code",
      "metadata": {
        "id": "6ulysBmx5xwL",
        "colab_type": "code",
        "outputId": "2d511dd0-a263-47e4-c9bc-6c8cb053c16c",
        "colab": {
          "base_uri": "https://localhost:8080/",
          "height": 68
        }
      },
      "source": [
        "it.throw(IndexError)"
      ],
      "execution_count": 0,
      "outputs": [
        {
          "output_type": "stream",
          "text": [
            "--yield raised IndexError() --\n",
            "--yielding 2--\n"
          ],
          "name": "stdout"
        },
        {
          "output_type": "execute_result",
          "data": {
            "text/plain": [
              "2"
            ]
          },
          "metadata": {
            "tags": []
          },
          "execution_count": 10
        }
      ]
    },
    {
      "cell_type": "code",
      "metadata": {
        "id": "ABJ_b84P59CZ",
        "colab_type": "code",
        "outputId": "0361d922-836e-4d95-f7d2-a615aefd5c9c",
        "colab": {
          "base_uri": "https://localhost:8080/",
          "height": 34
        }
      },
      "source": [
        "it.close()"
      ],
      "execution_count": 0,
      "outputs": [
        {
          "output_type": "stream",
          "text": [
            "--closing--\n"
          ],
          "name": "stdout"
        }
      ]
    },
    {
      "cell_type": "markdown",
      "metadata": {
        "id": "bxYhHIiT_gVO",
        "colab_type": "text"
      },
      "source": [
        "### Chaining generators"
      ]
    },
    {
      "cell_type": "markdown",
      "metadata": {
        "id": "HJLtgmLGAWrm",
        "colab_type": "text"
      },
      "source": [
        "Let’s say we are writing a generator and we want to yield a number of values generated by a second generator, a subgenerator. If yielding of values is the only concern, this can be performed without much difficulty using a loop such as"
      ]
    },
    {
      "cell_type": "code",
      "metadata": {
        "id": "A-VQS-085-bN",
        "colab_type": "code",
        "colab": {}
      },
      "source": [
        "subgen = some_other_generator()\n",
        "for v in subgen:\n",
        "    yield v"
      ],
      "execution_count": 0,
      "outputs": []
    },
    {
      "cell_type": "markdown",
      "metadata": {
        "id": "O-nvlNGQAaXw",
        "colab_type": "text"
      },
      "source": [
        "However, if the subgenerator is to interact properly with the caller in the case of calls to send(), throw() and close(), things become considerably more difficult. The yield statement has to be guarded by a try..except..finally structure similar to the one defined in the previous section to “debug” the generator function. Such code is provided in PEP 380#id13, here it suffices to say that new syntax to properly yield from a subgenerator is being introduced in Python 3.3:"
      ]
    },
    {
      "cell_type": "code",
      "metadata": {
        "id": "7aldSU8N6nl9",
        "colab_type": "code",
        "colab": {}
      },
      "source": [
        "yield from some_other_generator()"
      ],
      "execution_count": 0,
      "outputs": []
    },
    {
      "cell_type": "markdown",
      "metadata": {
        "id": "YaxKx0apAgem",
        "colab_type": "text"
      },
      "source": [
        "This behaves like the explicit loop above, repeatedly yielding values from some_other_generator until it is exhausted, but also forwards send, throw and close to the subgenerator."
      ]
    },
    {
      "cell_type": "markdown",
      "metadata": {
        "id": "6tg_bwhkAi3C",
        "colab_type": "text"
      },
      "source": [
        "## Decorators"
      ]
    },
    {
      "cell_type": "markdown",
      "metadata": {
        "id": "4VZGRXPVFmp5",
        "colab_type": "text"
      },
      "source": [
        "### Decorators implemented as classes and as functions"
      ]
    },
    {
      "cell_type": "markdown",
      "metadata": {
        "id": "Akx196bVFs5G",
        "colab_type": "text"
      },
      "source": [
        "The only requirement on decorators is that they can be called with a single argument.  This means that decorators can be implemented as normal functions, or as classes with a __call__ method, or in theory, even as lambda functions.\n",
        "\n",
        "\n",
        "\n"
      ]
    },
    {
      "cell_type": "code",
      "metadata": {
        "id": "1t8-qKW4AiE4",
        "colab_type": "code",
        "outputId": "943b1a3a-72af-496a-9f48-173a2b4bcae8",
        "colab": {
          "base_uri": "https://localhost:8080/",
          "height": 51
        }
      },
      "source": [
        "def simple_decorator(function):\n",
        "  print(\"doing decoration\")\n",
        "  return function\n",
        "\n",
        "@simple_decorator\n",
        "def function():\n",
        "  print(\"inside func\")\n",
        "  \n",
        "function()"
      ],
      "execution_count": 0,
      "outputs": [
        {
          "output_type": "stream",
          "text": [
            "doing decoration\n",
            "inside func\n"
          ],
          "name": "stdout"
        }
      ]
    },
    {
      "cell_type": "code",
      "metadata": {
        "id": "JPk3Y04kG2TM",
        "colab_type": "code",
        "outputId": "69b206e8-ab4e-4acb-fae2-6d1d67ce98ff",
        "colab": {
          "base_uri": "https://localhost:8080/",
          "height": 68
        }
      },
      "source": [
        "def decorator_with_arguments(arg):\n",
        "  print(\"defining the decorator\")\n",
        "  def _decorator(function):\n",
        "    # in this inner function, arg is available too\n",
        "    print(\"doing decoration, %r\" %arg)\n",
        "    return function\n",
        "  return _decorator\n",
        "\n",
        "@decorator_with_arguments(\"abc\")\n",
        "def function():\n",
        "  print(\"inside func\")\n",
        "  \n",
        "function()"
      ],
      "execution_count": 0,
      "outputs": [
        {
          "output_type": "stream",
          "text": [
            "defining the decorator\n",
            "doing decoration, 'abc'\n",
            "inside func\n"
          ],
          "name": "stdout"
        }
      ]
    },
    {
      "cell_type": "markdown",
      "metadata": {
        "id": "icD74iWeHpCI",
        "colab_type": "text"
      },
      "source": [
        "The two trivial decorators above fall into the category of decorators which return the original function. If they were to return a new function, an extra level of nestedness would be required. In the worst case, three levels of nested functions."
      ]
    },
    {
      "cell_type": "code",
      "metadata": {
        "id": "1B938-kSHlDZ",
        "colab_type": "code",
        "outputId": "256b906f-a49f-47f0-8773-f8965c7e162c",
        "colab": {
          "base_uri": "https://localhost:8080/",
          "height": 85
        }
      },
      "source": [
        "def replacing_decorator_with_args(arg):\n",
        "  print(\"defining the decorator\")\n",
        "  def _decorator(function):\n",
        "    def _wrapper(*args, **kwargs):\n",
        "      print(\"inside wrapper, %r, %r\" % (args, kwargs))\n",
        "      return function(*args, **kwargs)\n",
        "    return _wrapper\n",
        "  return _decorator\n",
        "\n",
        "@replacing_decorator_with_args(\"abc\")\n",
        "def function(*args, **kwargs):\n",
        "  print(\"inside function, %r, %r\" % (args, kwargs))\n",
        "  return 14\n",
        "\n",
        "function(12,13)"
      ],
      "execution_count": 0,
      "outputs": [
        {
          "output_type": "stream",
          "text": [
            "defining the decorator\n",
            "inside wrapper, (12, 13), {}\n",
            "inside function, (12, 13), {}\n"
          ],
          "name": "stdout"
        },
        {
          "output_type": "execute_result",
          "data": {
            "text/plain": [
              "14"
            ]
          },
          "metadata": {
            "tags": []
          },
          "execution_count": 17
        }
      ]
    },
    {
      "cell_type": "markdown",
      "metadata": {
        "id": "E6aq-lGMePF-",
        "colab_type": "text"
      },
      "source": [
        "Compared to decorators defined as functions, complex decorators defined as classes are simpler. When an object is created, the **\\_\\_init\\_\\_** method is only allowed to return **None**, and the type of the created object cannot be changed. This means that when a decorator is defined as a class, it doesn’t make much sense to use the argument-less form: the final decorated object would just be an instance of the decorating class, returned by the constructor call, which is not very useful. Therefore it’s enough to discuss class-based decorators where arguments are given in the decorator expression and the decorator **\\_\\_init\\_\\_** method is used for decorator construction."
      ]
    },
    {
      "cell_type": "code",
      "metadata": {
        "id": "-gotkS2YZwkO",
        "colab_type": "code",
        "outputId": "71fafcaf-618e-43bb-eb06-4106ca3e56fa",
        "colab": {
          "base_uri": "https://localhost:8080/",
          "height": 34
        }
      },
      "source": [
        "class decorator_class(object):\n",
        "  def __init__(self, arg):\n",
        "    # This method is called in the decorator expression\n",
        "    print(\"in decorator init, %s\" % arg)\n",
        "    self.arg = arg\n",
        "  def __call__(self, function):\n",
        "    # This method is called to do the job\n",
        "    print(\"in decorator call, %s\" % self.arg)\n",
        "    return function\n",
        "  \n",
        "deco_instance = decorator_class('foo')"
      ],
      "execution_count": 0,
      "outputs": [
        {
          "output_type": "stream",
          "text": [
            "in decorator init, foo\n"
          ],
          "name": "stdout"
        }
      ]
    },
    {
      "cell_type": "code",
      "metadata": {
        "id": "q_UinqyseAhL",
        "colab_type": "code",
        "outputId": "954c31e3-a476-43a9-95e9-fd4801bae9c7",
        "colab": {
          "base_uri": "https://localhost:8080/",
          "height": 34
        }
      },
      "source": [
        "@deco_instance\n",
        "def function(*args, **kwargs):\n",
        "  print(\" in function, %s, %s\" %(args, kwargs))\n",
        "  "
      ],
      "execution_count": 0,
      "outputs": [
        {
          "output_type": "stream",
          "text": [
            "in decorator call, foo\n"
          ],
          "name": "stdout"
        }
      ]
    },
    {
      "cell_type": "code",
      "metadata": {
        "id": "YDaIWDUxgBez",
        "colab_type": "code",
        "outputId": "f16c070b-d5e5-4c6b-b1ad-f5a8dfb049d1",
        "colab": {
          "base_uri": "https://localhost:8080/",
          "height": 34
        }
      },
      "source": [
        "function()"
      ],
      "execution_count": 0,
      "outputs": [
        {
          "output_type": "stream",
          "text": [
            " in function, (), {}\n"
          ],
          "name": "stdout"
        }
      ]
    },
    {
      "cell_type": "markdown",
      "metadata": {
        "id": "S1__xQIBgcKZ",
        "colab_type": "text"
      },
      "source": [
        "In reality, it doesn’t make much sense to create a new class just to have a decorator which returns the original function. Objects are supposed to hold state, and such decorators are more useful when the decorator returns a new object."
      ]
    },
    {
      "cell_type": "code",
      "metadata": {
        "id": "eAZz9FiTgTBg",
        "colab_type": "code",
        "outputId": "0864aa76-68d3-4f45-8ab7-d4199b7e1eb7",
        "colab": {
          "base_uri": "https://localhost:8080/",
          "height": 34
        }
      },
      "source": [
        "class replacing_decorator_class(object):\n",
        "  def __init__(self,arg):\n",
        "    # This method is called in the decorator expression\n",
        "    print(\"in decorator init, %s\" %arg)\n",
        "    self.arg = arg\n",
        "  def __call__(self, function):\n",
        "    # This method is called to do the job\n",
        "    print(\"in decorator call, %s\" %self.arg)\n",
        "    self.function = function\n",
        "    return self._wrapper\n",
        "  def _wrapper(self, *args, **kwargs):\n",
        "    print(\"in the wrapper, %s %s\" %(args, kwargs))\n",
        "    return self.function(*args, **kwargs)\n",
        "  \n",
        "deco_instance = replacing_decorator_class('foo')"
      ],
      "execution_count": 0,
      "outputs": [
        {
          "output_type": "stream",
          "text": [
            "in decorator init, foo\n"
          ],
          "name": "stdout"
        }
      ]
    },
    {
      "cell_type": "code",
      "metadata": {
        "id": "B5RWdoKyrg90",
        "colab_type": "code",
        "outputId": "b3677e0d-1f93-4691-a7ac-8aa4f80e45ca",
        "colab": {
          "base_uri": "https://localhost:8080/",
          "height": 68
        }
      },
      "source": [
        "@deco_instance\n",
        "def function(*args, **kwargs):\n",
        "  \"Function doc\"\n",
        "  print(\"in function, %s %s\" %(args, kwargs))\n",
        "  \n",
        "function(11,12)"
      ],
      "execution_count": 0,
      "outputs": [
        {
          "output_type": "stream",
          "text": [
            "in decorator call, foo\n",
            "in the wrapper, (11, 12) {}\n",
            "in function, (11, 12) {}\n"
          ],
          "name": "stdout"
        }
      ]
    },
    {
      "cell_type": "code",
      "metadata": {
        "id": "nPfbla8aytbq",
        "colab_type": "code",
        "outputId": "277e2ec5-e711-43e2-d159-b83b76c3dfd7",
        "colab": {
          "base_uri": "https://localhost:8080/",
          "height": 34
        }
      },
      "source": [
        "print(function.__doc__)"
      ],
      "execution_count": 0,
      "outputs": [
        {
          "output_type": "stream",
          "text": [
            "None\n"
          ],
          "name": "stdout"
        }
      ]
    },
    {
      "cell_type": "markdown",
      "metadata": {
        "id": "nSrnJ5qZtTY4",
        "colab_type": "text"
      },
      "source": [
        "A decorator like this can do pretty much anything, since it can modify the original function object and mangle the arguments, call the original function or not, and afterwards mangle the return value."
      ]
    },
    {
      "cell_type": "markdown",
      "metadata": {
        "id": "mPjpxY7D5SpP",
        "colab_type": "text"
      },
      "source": [
        "### Copying the docstring and other attributes of the original function"
      ]
    },
    {
      "cell_type": "markdown",
      "metadata": {
        "id": "kP_plzDI6z99",
        "colab_type": "text"
      },
      "source": [
        "When a new function is returned by the decorator to replace the original function, an unfortunate consequence is that the original function name, the original docstring, the original argument list are lost. Those attributes of the original function can partially be “transplanted” to the new function by setting `__doc__` (the docstring), `__module__` and `__name__` (the full name of the function), and `__annotations__` (extra information about arguments and the return value of the function available in Python 3). This can be done automatically by using [functools.update_wrapper](https://docs.python.org/3/library/functools.html#functools.update_wrapper)."
      ]
    },
    {
      "cell_type": "code",
      "metadata": {
        "id": "Iii8OjN9sDjJ",
        "colab_type": "code",
        "outputId": "a8a4ddd0-cd5e-4d27-c58d-fc53f04c1edc",
        "colab": {
          "base_uri": "https://localhost:8080/",
          "height": 51
        }
      },
      "source": [
        "import functools\n",
        "def replacing_decorator_with_args(arg):\n",
        "  print(\" defining the decorator\")\n",
        "  def _decorator(function):\n",
        "    print(\"doing decoration, %r\" %arg)\n",
        "    def _wrapper(*args, **kwargs):\n",
        "      print(\"inside the wrapper, %r, %r\" %(args, kwargs))\n",
        "      return function(*args,**kwargs)\n",
        "    return functools.update_wrapper(_wrapper, function)\n",
        "  return _decorator\n",
        "\n",
        "\n",
        "@replacing_decorator_with_args(\"abc\")\n",
        "def function():\n",
        "  \"extensive documentation\"\n",
        "  print(\"inside function\")\n",
        "  return 14"
      ],
      "execution_count": 0,
      "outputs": [
        {
          "output_type": "stream",
          "text": [
            " defining the decorator\n",
            "doing decoration, 'abc'\n"
          ],
          "name": "stdout"
        }
      ]
    },
    {
      "cell_type": "code",
      "metadata": {
        "id": "oxsHnpkjylVk",
        "colab_type": "code",
        "outputId": "04747d9a-e7b5-46db-b2bb-4b2ff68eeac9",
        "colab": {
          "base_uri": "https://localhost:8080/",
          "height": 34
        }
      },
      "source": [
        "print(function.__doc__)"
      ],
      "execution_count": 0,
      "outputs": [
        {
          "output_type": "stream",
          "text": [
            "extensive documentation\n"
          ],
          "name": "stdout"
        }
      ]
    },
    {
      "cell_type": "markdown",
      "metadata": {
        "id": "lu7QZzL8Cg3w",
        "colab_type": "text"
      },
      "source": [
        "To sum things up, decorators should always use functools.update_wrapper or some other means of copying function attributes."
      ]
    },
    {
      "cell_type": "markdown",
      "metadata": {
        "id": "OI0UIcRXzKdV",
        "colab_type": "text"
      },
      "source": [
        "### Examples in the standard library"
      ]
    },
    {
      "cell_type": "markdown",
      "metadata": {
        "id": "SMH66Ea6zw1g",
        "colab_type": "text"
      },
      "source": [
        " - [classmethod](https://docs.python.org/3/library/functions.html#classmethod) causes a method to become a “class method”, which means that it can be invoked without creating an instance of the class. When a normal method is invoked, the interpreter inserts the instance object as the first positional parameter, `self`. When a class method is invoked, the class itself is given as the first parameter, often called `cls`.\n",
        " \n",
        " Class methods are still accessible through the class’ namespace, so they don’t pollute the module’s namespace. Class methods can be used to provide alternative constructors:"
      ]
    },
    {
      "cell_type": "code",
      "metadata": {
        "id": "BUr2jweqzJ45",
        "colab_type": "code",
        "colab": {}
      },
      "source": [
        "class Array(object):\n",
        "  def __init__(self, data):\n",
        "    self.data = data\n",
        "    \n",
        "  @classmethod\n",
        "  def fromfile(cls, file):\n",
        "    data = numpy.load(file)\n",
        "    return cls(data)"
      ],
      "execution_count": 0,
      "outputs": []
    },
    {
      "cell_type": "markdown",
      "metadata": {
        "id": "N3yIUWtDTKRK",
        "colab_type": "text"
      },
      "source": [
        "- [staticmethod](https://docs.python.org/3/library/functions.html#staticmethod) is applied to methods to make them “static”, i.e. basically a normal function, but accessible through the class namespace. This can be useful when the function is only needed inside this class (its name would then be prefixed with _), or when we want the user to think of the method as connected to the class, despite an implementation which doesn’t require this.\n",
        "\n",
        "[Example](https://stackoverflow.com/questions/12179271/meaning-of-classmethod-and-staticmethod-for-beginner)\n",
        "\n",
        "- [property](https://docs.python.org/3/library/functions.html#property) is the pythonic answer to the problem of getters and setters. A method decorated with property becomes a getter which is automatically called on attribute access."
      ]
    },
    {
      "cell_type": "code",
      "metadata": {
        "id": "QejW5Tdv1AFV",
        "colab_type": "code",
        "outputId": "3041dff6-04fe-4195-ca0b-fffb79c1309d",
        "colab": {
          "base_uri": "https://localhost:8080/",
          "height": 35
        }
      },
      "source": [
        "class A(object):\n",
        "  @property\n",
        "  def a(self):\n",
        "    \" an important attribute\"\n",
        "    return \"a value\"\n",
        "  \n",
        "A.a"
      ],
      "execution_count": 0,
      "outputs": [
        {
          "output_type": "execute_result",
          "data": {
            "text/plain": [
              "<property at 0x7f7131c6f368>"
            ]
          },
          "metadata": {
            "tags": []
          },
          "execution_count": 1
        }
      ]
    },
    {
      "cell_type": "code",
      "metadata": {
        "id": "QxNaXVFrUdmc",
        "colab_type": "code",
        "outputId": "4d4374e6-dd8c-499a-ce51-2b6a73d6b335",
        "colab": {
          "base_uri": "https://localhost:8080/",
          "height": 35
        }
      },
      "source": [
        "A().a"
      ],
      "execution_count": 0,
      "outputs": [
        {
          "output_type": "execute_result",
          "data": {
            "text/plain": [
              "'a value'"
            ]
          },
          "metadata": {
            "tags": []
          },
          "execution_count": 2
        }
      ]
    },
    {
      "cell_type": "markdown",
      "metadata": {
        "id": "BAscwZvyUg7F",
        "colab_type": "text"
      },
      "source": [
        "In this example, `A.a` is an read-only attribute. It is also documented: `help(A)` includes the docstring for attribute a taken from the getter method. Defining `a` as a property allows it to be a calculated on the fly, and has the side effect of making it read-only, because no setter is defined.\n",
        "\n",
        "To have a setter and a getter, two methods are required, obviously."
      ]
    },
    {
      "cell_type": "code",
      "metadata": {
        "id": "XMWZ1zWzUe81",
        "colab_type": "code",
        "colab": {}
      },
      "source": [
        "class Rectangle(object):\n",
        "  def __init__(self, edge):\n",
        "    self.edge=edge\n",
        "  \n",
        "  @property\n",
        "  def area(self):\n",
        "    \"\"\"\n",
        "    Compute area.\n",
        "    \"\"\"\n",
        "    return self.edge**2\n",
        "  \n",
        "  @area.setter\n",
        "  def area(self, area):\n",
        "    self.edge = area**.5"
      ],
      "execution_count": 0,
      "outputs": []
    },
    {
      "cell_type": "markdown",
      "metadata": {
        "id": "RJGprZAoVYW4",
        "colab_type": "text"
      },
      "source": [
        "The way that this works, is that the `property` decorator replaces the getter method with a property object. This object in turn has three methods, `getter`, `setter`, and `deleter`, which can be used as decorators. Their job is to set the getter, setter and deleter of the property object (stored as attributes `fget`, `fset`, and `fdel`). The getter can be set like in the example above, when creating the object. When defining the setter, we already have the property object under `area`, and we add the setter to it by using the `setter` method. All this happens when we are creating the class.\n",
        "\n",
        "Afterwards, when an instance of the class has been created, the property object is special. When the interpreter executes attribute access, assignment, or deletion, the job is delegated to the methods of the property object.\n",
        "\n",
        "To make everything crystal clear, let’s define a “debug” example:"
      ]
    },
    {
      "cell_type": "code",
      "metadata": {
        "id": "Z7xlq5yFVLaW",
        "colab_type": "code",
        "outputId": "953ff03a-cef4-4124-dbe4-2a00ed4d3b51",
        "colab": {
          "base_uri": "https://localhost:8080/",
          "height": 126
        }
      },
      "source": [
        "class D(object):\n",
        "  @property\n",
        "  def a(self):\n",
        "    print(\"getting 1\")\n",
        "    return 1\n",
        "  @a.setter\n",
        "  def a(self, value):\n",
        "    print(\"setting %r\" %value)\n",
        "  @a.deleter\n",
        "  def a(self):\n",
        "    print(\"deleting\")\n",
        "    \n",
        "print(D.a)\n",
        "print(D.a.fget)\n",
        "print(D.a.fset)\n",
        "print(D.a.fdel)\n",
        "\n",
        "d = D()\n",
        "d.a"
      ],
      "execution_count": 0,
      "outputs": [
        {
          "output_type": "stream",
          "text": [
            "<property object at 0x7f7131c14958>\n",
            "<function D.a at 0x7f7131c139d8>\n",
            "<function D.a at 0x7f7131c13a60>\n",
            "<function D.a at 0x7f7131c13ae8>\n",
            "getting 1\n"
          ],
          "name": "stdout"
        },
        {
          "output_type": "execute_result",
          "data": {
            "text/plain": [
              "1"
            ]
          },
          "metadata": {
            "tags": []
          },
          "execution_count": 9
        }
      ]
    },
    {
      "cell_type": "code",
      "metadata": {
        "id": "WqQk6gUHWAwk",
        "colab_type": "code",
        "outputId": "99e27b11-03c2-41dc-c583-7d72838329bc",
        "colab": {
          "base_uri": "https://localhost:8080/",
          "height": 35
        }
      },
      "source": [
        "d.a = 2"
      ],
      "execution_count": 0,
      "outputs": [
        {
          "output_type": "stream",
          "text": [
            "setting 2\n"
          ],
          "name": "stdout"
        }
      ]
    },
    {
      "cell_type": "code",
      "metadata": {
        "id": "ybneThuqWQkc",
        "colab_type": "code",
        "outputId": "5972550b-9d1f-4251-afe3-56bb7d5e1714",
        "colab": {
          "base_uri": "https://localhost:8080/",
          "height": 54
        }
      },
      "source": [
        "d.a"
      ],
      "execution_count": 0,
      "outputs": [
        {
          "output_type": "stream",
          "text": [
            "getting 1\n"
          ],
          "name": "stdout"
        },
        {
          "output_type": "execute_result",
          "data": {
            "text/plain": [
              "1"
            ]
          },
          "metadata": {
            "tags": []
          },
          "execution_count": 11
        }
      ]
    },
    {
      "cell_type": "code",
      "metadata": {
        "id": "v8Or-OsRWRgb",
        "colab_type": "code",
        "outputId": "cfabe1df-bae4-4b7d-e5c1-7ff27ad863d1",
        "colab": {
          "base_uri": "https://localhost:8080/",
          "height": 35
        }
      },
      "source": [
        "del d.a"
      ],
      "execution_count": 0,
      "outputs": [
        {
          "output_type": "stream",
          "text": [
            "deleting\n"
          ],
          "name": "stdout"
        }
      ]
    },
    {
      "cell_type": "markdown",
      "metadata": {
        "id": "YM_12za9Xhco",
        "colab_type": "text"
      },
      "source": [
        "### 2.1.2.6  A while-loop removing decorator"
      ]
    },
    {
      "cell_type": "markdown",
      "metadata": {
        "id": "LfHHcBxiXmeB",
        "colab_type": "text"
      },
      "source": [
        "Let’s say we have function which returns a lists of things, and this list created by running a loop. If we don’t know how many objects will be needed, the standard way to do this is something like:"
      ]
    },
    {
      "cell_type": "code",
      "metadata": {
        "id": "CzS11cwzWTWk",
        "colab_type": "code",
        "colab": {}
      },
      "source": [
        "def find_answers():\n",
        "    answers = []\n",
        "    while True:\n",
        "        ans = look_for_next_answer()\n",
        "        if ans is None:\n",
        "            break\n",
        "        answers.append(ans)\n",
        "    return answers"
      ],
      "execution_count": 0,
      "outputs": []
    },
    {
      "cell_type": "markdown",
      "metadata": {
        "id": "YRa_ROloYKoj",
        "colab_type": "text"
      },
      "source": [
        "This is fine, as long as the body of the loop is fairly compact. Once it becomes more complicated, as often happens in real code, this becomes pretty unreadable. We could simplify this by using `yield` statements, but then the user would have to explicitly call `list(find_answers())`.\n",
        "\n",
        "We can define a decorator which constructs the list for us:"
      ]
    },
    {
      "cell_type": "code",
      "metadata": {
        "id": "INNde0z-Xo9F",
        "colab_type": "code",
        "colab": {}
      },
      "source": [
        "import functools\n",
        "def vectorized(generator_func):\n",
        "    def wrapper(*args, **kwargs):\n",
        "        return list(generator_func(*args, **kwargs))\n",
        "    return functools.update_wrapper(wrapper, generator_func)"
      ],
      "execution_count": 0,
      "outputs": []
    },
    {
      "cell_type": "markdown",
      "metadata": {
        "id": "LS4FxQuIYZmS",
        "colab_type": "text"
      },
      "source": [
        "Our function then becomes:"
      ]
    },
    {
      "cell_type": "code",
      "metadata": {
        "id": "QBAL2DlbYYH2",
        "colab_type": "code",
        "colab": {}
      },
      "source": [
        "@vectorized\n",
        "def find_answers():\n",
        "    while True:\n",
        "        ans = look_for_next_answer()\n",
        "        if ans is None:\n",
        "            break\n",
        "        yield ans"
      ],
      "execution_count": 0,
      "outputs": []
    },
    {
      "cell_type": "markdown",
      "metadata": {
        "id": "EDX4G4MLYlFE",
        "colab_type": "text"
      },
      "source": [
        "### 2.1.2.7 A plutin registration system"
      ]
    },
    {
      "cell_type": "markdown",
      "metadata": {
        "id": "WwdGcOphZRym",
        "colab_type": "text"
      },
      "source": [
        "This is a class decorator which doesn’t modify the class, but just puts it in a global registry. It falls into the category of decorators returning the original object:"
      ]
    },
    {
      "cell_type": "code",
      "metadata": {
        "id": "5-AXcC-VYbqW",
        "colab_type": "code",
        "colab": {}
      },
      "source": [
        "class WordProcessor(object):\n",
        "  PLUGINS =[]\n",
        "  def process(self, text):\n",
        "    for plugin in self.PLUGINS:\n",
        "      text = plugin().cleanup(text)\n",
        "    return text\n",
        "  \n",
        "  @classmethod\n",
        "  def plugin(cls, plugin):\n",
        "    cls.PLUGINS.append(plugin)\n",
        "    \n",
        "\n",
        "@WordProcessor.plugin\n",
        "class CleanMdashesExtension(object):\n",
        "  def cleanup(self, text):\n",
        "    return text.replace('&mdash;', u'\\N{em dash}')"
      ],
      "execution_count": 0,
      "outputs": []
    },
    {
      "cell_type": "markdown",
      "metadata": {
        "id": "t3iFj1dOc6bJ",
        "colab_type": "text"
      },
      "source": [
        "Here we use a decorator to decentralise the registration of plugins. We call our decorator with a noun, instead of a verb, because we use it to declare that our class is a plugin for WordProcessor. Method plugin simply appends the class to the list of plugins.\n",
        "\n",
        "A word about the plugin itself: it replaces HTML entity for em-dash with a real Unicode em-dash character. It exploits the unicode literal notation to insert a character by using its name in the unicode database (“EM DASH”). If the Unicode character was inserted directly, it would be impossible to distinguish it from an en-dash in the source of a program."
      ]
    },
    {
      "cell_type": "markdown",
      "metadata": {
        "id": "8ZxGuKeJdQBW",
        "colab_type": "text"
      },
      "source": [
        "## 2.1.3 Context Manager"
      ]
    },
    {
      "cell_type": "markdown",
      "metadata": {
        "id": "ajtjruXRdTzE",
        "colab_type": "text"
      },
      "source": [
        "A context manager is an object with `__enter__` and `__exit__` methods which can be used in the `with` statement:"
      ]
    },
    {
      "cell_type": "code",
      "metadata": {
        "id": "Lj4HD5TcZ8-S",
        "colab_type": "code",
        "colab": {}
      },
      "source": [
        "with manager as var:\n",
        "    do_something(var)"
      ],
      "execution_count": 0,
      "outputs": []
    },
    {
      "cell_type": "markdown",
      "metadata": {
        "id": "Tib6iMsNdjuz",
        "colab_type": "text"
      },
      "source": [
        "is in the simplest case equivalent to"
      ]
    },
    {
      "cell_type": "code",
      "metadata": {
        "id": "4wcya8Mydfrr",
        "colab_type": "code",
        "colab": {}
      },
      "source": [
        "var = manager.__enter__()\n",
        "try:\n",
        "    do_something(var)\n",
        "finally:\n",
        "    manager.__exit__()"
      ],
      "execution_count": 0,
      "outputs": []
    },
    {
      "cell_type": "markdown",
      "metadata": {
        "id": "hcaeJvEJdmUQ",
        "colab_type": "text"
      },
      "source": [
        ""
      ]
    },
    {
      "cell_type": "code",
      "metadata": {
        "id": "-HJ5VMpbdl9_",
        "colab_type": "code",
        "colab": {}
      },
      "source": [
        "class closing(object):\n",
        "  def __init__(self, obj):\n",
        "    self.obj = obj\n",
        "  def __enter__(self):\n",
        "    return self.obj\n",
        "  def __exit__(self, *args):\n",
        "    self.obj.close()\n",
        "with closing(open('/tmp/file', 'w')) as f:\n",
        "  f.write('the contents\\n') "
      ],
      "execution_count": 0,
      "outputs": []
    },
    {
      "cell_type": "markdown",
      "metadata": {
        "id": "Y3knlkYNd-zL",
        "colab_type": "text"
      },
      "source": [
        "Here we have made sure that the f.close() is called when the with block is exited. Since closing files is such a common operation, the support for this is already present in the file class. It has an __exit__ method which calls close and can be used as a context manager itself:"
      ]
    },
    {
      "cell_type": "code",
      "metadata": {
        "id": "OIKGnflkd_ii",
        "colab_type": "code",
        "colab": {}
      },
      "source": [
        "with open('/tmp/file', 'a') as f:\n",
        "  f.write('more contents\\n')  "
      ],
      "execution_count": 0,
      "outputs": []
    },
    {
      "cell_type": "markdown",
      "metadata": {
        "id": "01BSjWt6eBcB",
        "colab_type": "text"
      },
      "source": [
        "### 2.1.3.1 Catching exceptions\n"
      ]
    },
    {
      "cell_type": "markdown",
      "metadata": {
        "id": "o8xHkINpefW7",
        "colab_type": "text"
      },
      "source": [
        "When an exception is thrown in the with-block, it is passed as arguments to `__exit__`. Three arguments are used, the same as returned by [sys.exc_info()](https://docs.python.org/3/library/sys.html#sys.exc_info): type, value, traceback. When no exception is thrown, `None` is used for all three arguments. The context manager can “swallow” the exception by returning a true value from `__exit__`. Exceptions can be easily ignored, because if `__exit__` doesn’t use return and just falls of the end, `None` is returned, a false value, and therefore the exception is rethrown after` __exit__` is finished.\n",
        "\n",
        "The ability to catch exceptions opens interesting possibilities. A classic example comes from unit-tests — we want to make sure that some code throws the right kind of exception:"
      ]
    },
    {
      "cell_type": "code",
      "metadata": {
        "id": "pFAxs_Qgeepi",
        "colab_type": "code",
        "colab": {}
      },
      "source": [
        "class assert_raises(object):\n",
        "    # based on pytest and unittest.TestCase\n",
        "    def __init__(self, type):\n",
        "        self.type = type\n",
        "    def __enter__(self):\n",
        "        pass\n",
        "    def __exit__(self, type, value, traceback):\n",
        "        if type is None:\n",
        "            raise AssertionError('exception expected')\n",
        "        if issubclass(type, self.type):\n",
        "            return True # swallow the expected exception\n",
        "        raise AssertionError('wrong exception type')\n",
        "\n",
        "with assert_raises(KeyError):\n",
        "    {}['foo']"
      ],
      "execution_count": 0,
      "outputs": []
    },
    {
      "cell_type": "markdown",
      "metadata": {
        "id": "-mioPkRGfVUG",
        "colab_type": "text"
      },
      "source": [
        "### 2.1.3.2 Using generators to define context managers"
      ]
    },
    {
      "cell_type": "markdown",
      "metadata": {
        "id": "1VYvhdEwgdaI",
        "colab_type": "text"
      },
      "source": [
        "When discussing generators, it was said that we prefer generators to iterators implemented as classes because they are shorter, sweeter, and the state is stored as local, not instance, variables. On the other hand, as described in Bidirectional communication, the flow of data between the generator and its caller can be bidirectional. This includes exceptions, which can be thrown into the generator. We would like to implement context managers as special generator functions. In fact, the generator protocol was designed to support this use case."
      ]
    },
    {
      "cell_type": "code",
      "metadata": {
        "id": "WIayVUQ8gNyY",
        "colab_type": "code",
        "colab": {}
      },
      "source": [
        "@contextlib.contextmanager\n",
        "def some_generator(<arguments>):\n",
        "    <setup>\n",
        "    try:\n",
        "        yield <value>\n",
        "    finally:\n",
        "        <cleanup>\n"
      ],
      "execution_count": 0,
      "outputs": []
    },
    {
      "cell_type": "markdown",
      "metadata": {
        "id": "fArlrgy4ggsq",
        "colab_type": "text"
      },
      "source": [
        "The [contextlib.contextmanager](https://docs.python.org/3/library/contextlib.html#contextlib.contextmanager) helper takes a generator and turns it into a context manager. The generator has to obey some rules which are enforced by the wrapper function — most importantly it must `yield` **exactly once**. The part before the yield is executed from `__enter__`, the block of code protected by the context manager is executed when the generator is suspended in yield, and the rest is executed in` __exit__`. If an exception is thrown, the interpreter hands it to the wrapper through ` __exit__ `arguments, and the wrapper function then throws it at the point of the `yield` statement. Through the use of generators, the context manager is shorter and simpler.\n",
        "\n",
        "Let’s rewrite the `closing` example as a generator:"
      ]
    },
    {
      "cell_type": "code",
      "metadata": {
        "id": "xm_9FZTqh6bk",
        "colab_type": "code",
        "colab": {}
      },
      "source": [
        "@contextlib.contextmanager\n",
        "def closing(obj):\n",
        "    try:\n",
        "        yield obj\n",
        "    finally:\n",
        "        obj.close()"
      ],
      "execution_count": 0,
      "outputs": []
    },
    {
      "cell_type": "markdown",
      "metadata": {
        "id": "te3F-KgGh83j",
        "colab_type": "text"
      },
      "source": [
        "Let’s rewrite the `assert_raises` example as a generator:"
      ]
    },
    {
      "cell_type": "code",
      "metadata": {
        "id": "2zQrMg3eh-4K",
        "colab_type": "code",
        "colab": {}
      },
      "source": [
        "@contextlib.contextmanager\n",
        "def assert_raises(type):\n",
        "    try:\n",
        "        yield\n",
        "    except type:\n",
        "        return\n",
        "    except Exception as value:\n",
        "        raise AssertionError('wrong exception type')\n",
        "    else:\n",
        "        raise AssertionError('exception expected')"
      ],
      "execution_count": 0,
      "outputs": []
    }
  ]
}