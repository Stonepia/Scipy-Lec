{
  "nbformat": 4,
  "nbformat_minor": 0,
  "metadata": {
    "colab": {
      "name": "2.5_Sparse Matrices in SciPy.ipynb",
      "version": "0.3.2",
      "provenance": [],
      "collapsed_sections": [
        "-aKLwcvF2fd4",
        "gydk00bo3gEi",
        "BgIvgkix9ly2",
        "JlLyP3IwHIkY"
      ],
      "include_colab_link": true
    },
    "kernelspec": {
      "name": "python3",
      "display_name": "Python 3"
    }
  },
  "cells": [
    {
      "cell_type": "markdown",
      "metadata": {
        "id": "view-in-github",
        "colab_type": "text"
      },
      "source": [
        "<a href=\"https://colab.research.google.com/github/Stonepia/Scipy-Lec/blob/master/2_5_Sparse_Matrices_in_SciPy.ipynb\" target=\"_parent\"><img src=\"https://colab.research.google.com/assets/colab-badge.svg\" alt=\"Open In Colab\"/></a>"
      ]
    },
    {
      "cell_type": "markdown",
      "metadata": {
        "id": "ohH4eQEvzJ0N",
        "colab_type": "text"
      },
      "source": [
        "* sparse matrix is a matrix, which is* almost empty*\n",
        "* storing all the zeros is wasteful -> store only nonzero items\n",
        "* think **compression**\n",
        "* pros: huge memory savings\n",
        "* cons: depends on actual storage scheme, (\\*) usually does not hold"
      ]
    },
    {
      "cell_type": "markdown",
      "metadata": {
        "id": "26KSeLtizahV",
        "colab_type": "text"
      },
      "source": [
        "# Storage Schemes\n",
        "\n",
        "\n",
        "- seven sparse matrix types in scipy.sparse:\n",
        ">1. csc_matrix: Compressed Sparse Column format\n",
        ">2. csr_matrix: Compressed Sparse Row format\n",
        ">3. bsr_matrix: Block Sparse Row format\n",
        ">4. lil_matrix: List of Lists format\n",
        ">5. dok_matrix: Dictionary of Keys format\n",
        ">6. coo_matrix: COOrdinate format (aka IJV, triplet format)\n",
        ">7. dia_matrix: DIAgonal format\n",
        "\n",
        "\n",
        "- each suitable for some tasks\n",
        "\n",
        "- many employ sparsetools C++ module by Nathan Bell\n",
        "\n",
        "passing a sparse matrix object to NumPy functions expecting ndarray/matrix does **not** work"
      ]
    },
    {
      "cell_type": "code",
      "metadata": {
        "id": "aEa_Z9D2uk0X",
        "colab_type": "code",
        "colab": {}
      },
      "source": [
        "import numpy as np\n",
        "import scipy.sparse as sparse\n",
        "import matplotlib.pyplot as plt"
      ],
      "execution_count": 0,
      "outputs": []
    },
    {
      "cell_type": "markdown",
      "metadata": {
        "id": "-aKLwcvF2fd4",
        "colab_type": "text"
      },
      "source": [
        "## Common Methods"
      ]
    },
    {
      "cell_type": "markdown",
      "metadata": {
        "id": "genIt8rl3BQR",
        "colab_type": "text"
      },
      "source": [
        "* all scipy.sparse classes are subclasses of spmatrix\n",
        "> * default implementation of arithmetic operations\n",
        "> > *   always converts to CSR\n",
        "> > * subclasses override for efficiency\n",
        "> * shape, data type set/get\n",
        "> * nonzero indices\n",
        "> * format conversion, interaction with NumPy (toarray(), todense())\n",
        "> * …\n",
        "* attributes:\n",
        "> * mtx.A - same as mtx.toarray()\n",
        "> * mtx.T - transpose (same as mtx.transpose())\n",
        "> * mtx.H - Hermitian (conjugate) transpose\n",
        "> * mtx.real - real part of complex matrix\n",
        "> * mtx.imag - imaginary part of complex matrix\n",
        "> * mtx.size - the number of nonzeros (same as self.getnnz())\n",
        "> * mtx.shape - the number of rows and columns (tuple)\n",
        "* data usually stored in NumPy arrays"
      ]
    },
    {
      "cell_type": "markdown",
      "metadata": {
        "id": "gydk00bo3gEi",
        "colab_type": "text"
      },
      "source": [
        "## Sparse Matrix Classes"
      ]
    },
    {
      "cell_type": "markdown",
      "metadata": {
        "id": "RFj4UhVA3j7x",
        "colab_type": "text"
      },
      "source": [
        "### [Diagnoal  Format](https://docs.scipy.org/doc/scipy/reference/generated/scipy.sparse.dia_matrix.html)\n",
        "\n",
        "* very simple scheme\n",
        "* diagonals in dense NumPy array of shape `(n_diag, length)`\n",
        "> * fixed length -> waste space a bit when far from main diagonal\n",
        "> * subclass of `_data_matrix` (sparse matrix classes with `.data` attribute)\n",
        "* offset for each diagonal\n",
        "> * 0 is the main diagonal\n",
        "> * negative offset = below\n",
        "> * positive offset = above\n",
        "> * Subdiagnoals are \"left aligned\" , and the super diagonals are\"right aligned\". Specifically, the mappint between the `data` and the sparse matrix `A` is `data[i,j] == A[j - offsets[i], j]`\n",
        "\n",
        "* fast matrix * vector (sparsetools)\n",
        "* fast and easy item-wise operations\n",
        "> * manipulate data array directly (fast NumPy machinery)\n",
        "* constructor accepts:\n",
        "> * dense matrix (array)\n",
        "> * sparse matrix\n",
        "> * shape tuple (create empty matrix)\n",
        "> * (`data, offsets`) tuple\n",
        "* no slicing, no individual item access\n",
        "* use:\n",
        "> * rather specialized\n",
        "> * solving PDEs by finite differences\n",
        "> * with an iterative solver"
      ]
    },
    {
      "cell_type": "code",
      "metadata": {
        "id": "9usD1s9r2Umq",
        "colab_type": "code",
        "outputId": "659fc995-7963-48dd-bea9-bb25d66c3b45",
        "colab": {
          "base_uri": "https://localhost:8080/",
          "height": 101
        }
      },
      "source": [
        "data = np.array([[1,2,3,4]]).repeat(3, axis=0)\n",
        "print(data)\n",
        "offsets = np.array([0,-1,2])\n",
        "mtx = sparse.dia_matrix((data, offsets), shape=(4,4))\n",
        "mtx"
      ],
      "execution_count": 0,
      "outputs": [
        {
          "output_type": "stream",
          "text": [
            "[[1 2 3 4]\n",
            " [1 2 3 4]\n",
            " [1 2 3 4]]\n"
          ],
          "name": "stdout"
        },
        {
          "output_type": "execute_result",
          "data": {
            "text/plain": [
              "<4x4 sparse matrix of type '<class 'numpy.int64'>'\n",
              "\twith 9 stored elements (3 diagonals) in DIAgonal format>"
            ]
          },
          "metadata": {
            "tags": []
          },
          "execution_count": 16
        }
      ]
    },
    {
      "cell_type": "code",
      "metadata": {
        "id": "kSzV5dB65nRH",
        "colab_type": "code",
        "outputId": "6ef57045-7d7d-4d3e-8180-b0a37af2862d",
        "colab": {
          "base_uri": "https://localhost:8080/",
          "height": 84
        }
      },
      "source": [
        "mtx.todense()"
      ],
      "execution_count": 0,
      "outputs": [
        {
          "output_type": "execute_result",
          "data": {
            "text/plain": [
              "matrix([[1, 0, 3, 0],\n",
              "        [1, 2, 0, 4],\n",
              "        [0, 2, 3, 0],\n",
              "        [0, 0, 3, 4]])"
            ]
          },
          "metadata": {
            "tags": []
          },
          "execution_count": 20
        }
      ]
    },
    {
      "cell_type": "code",
      "metadata": {
        "id": "n2XVRfOB9WsM",
        "colab_type": "code",
        "outputId": "f65206a6-45d6-4e8e-9069-31daecb0ef7f",
        "colab": {
          "base_uri": "https://localhost:8080/",
          "height": 34
        }
      },
      "source": [
        "vec = np.ones((4,))\n",
        "mtx*vec"
      ],
      "execution_count": 0,
      "outputs": [
        {
          "output_type": "execute_result",
          "data": {
            "text/plain": [
              "array([4., 7., 5., 7.])"
            ]
          },
          "metadata": {
            "tags": []
          },
          "execution_count": 18
        }
      ]
    },
    {
      "cell_type": "code",
      "metadata": {
        "id": "cs6CFFbC9aw5",
        "colab_type": "code",
        "outputId": "5f47d9d2-5549-4ecc-b763-1591030422bc",
        "colab": {
          "base_uri": "https://localhost:8080/",
          "height": 84
        }
      },
      "source": [
        "print(mtx.toarray() * vec)"
      ],
      "execution_count": 0,
      "outputs": [
        {
          "output_type": "stream",
          "text": [
            "[[1. 0. 3. 0.]\n",
            " [1. 2. 0. 4.]\n",
            " [0. 2. 3. 0.]\n",
            " [0. 0. 3. 4.]]\n"
          ],
          "name": "stdout"
        }
      ]
    },
    {
      "cell_type": "code",
      "metadata": {
        "id": "-mypny8-57J0",
        "colab_type": "code",
        "outputId": "592e0272-bad9-4d44-8fbb-9fc25a63bb19",
        "colab": {
          "base_uri": "https://localhost:8080/",
          "height": 101
        }
      },
      "source": [
        "N = 5\n",
        "data = np.ones((3, 5))\n",
        "offsets = np.array([0,-1,1])\n",
        "A = sps.dia_matrix((data, offsets), shape=(N, N), dtype=float)\n",
        "A.A"
      ],
      "execution_count": 0,
      "outputs": [
        {
          "output_type": "execute_result",
          "data": {
            "text/plain": [
              "array([[1., 1., 0., 0., 0.],\n",
              "       [1., 1., 1., 0., 0.],\n",
              "       [0., 1., 1., 1., 0.],\n",
              "       [0., 0., 1., 1., 1.],\n",
              "       [0., 0., 0., 1., 1.]])"
            ]
          },
          "metadata": {
            "tags": []
          },
          "execution_count": 15
        }
      ]
    },
    {
      "cell_type": "markdown",
      "metadata": {
        "id": "BgIvgkix9ly2",
        "colab_type": "text"
      },
      "source": [
        "### [Lists of LIsts Format (LIL)](https://docs.scipy.org/doc/scipy/reference/generated/scipy.sparse.lil_matrix.html)\n",
        "\n",
        "* row-based linked list\n",
        "> * each row is a Python list (sorted) of column indices of **non-zero** elements\n",
        "> * rows stored in a NumPy array (`dtype=np.object`)\n",
        "> * non-zero values data stored analogously\n",
        "* efficient for constructing sparse matrices incrementally\n",
        "* constructor accepts:\n",
        "> * dense matrix (array)\n",
        "> * sparse matrix\n",
        "> * shape tuple (create empty matrix)\n",
        "* flexible slicing, changing sparsity structure is efficient\n",
        "* slow arithmetics, slow column slicing due to being row-based\n",
        "* use:\n",
        "> * when sparsity pattern is not known apriori or changes\n",
        "> * example: reading a sparse matrix from a text file\n",
        "* inserting a single item can take linear time in the worst case; to construct a matrix efficiently, make sure the items are pre-sorted by index, per row."
      ]
    },
    {
      "cell_type": "code",
      "metadata": {
        "id": "oUXZW8529st-",
        "colab_type": "code",
        "outputId": "b7e3c24b-13e5-4b34-bf24-9fc0b8b8162e",
        "colab": {
          "base_uri": "https://localhost:8080/",
          "height": 151
        }
      },
      "source": [
        "from numpy.random import rand\n",
        "\n",
        "mtx = sparse.lil_matrix((4, 5))\n",
        "data = np.round(rand(2,3))\n",
        "print(data)\n",
        "\n",
        "# assign the data using fancy indexing:\n",
        "mtx[:2, [1,2,3]] = data\n",
        "mtx"
      ],
      "execution_count": 0,
      "outputs": [
        {
          "output_type": "stream",
          "text": [
            "[[0. 0. 0. 0. 0.]\n",
            " [0. 0. 0. 0. 0.]\n",
            " [0. 0. 0. 0. 0.]\n",
            " [0. 0. 0. 0. 0.]]\n",
            "[[1. 1. 0.]\n",
            " [1. 1. 1.]]\n"
          ],
          "name": "stdout"
        },
        {
          "output_type": "execute_result",
          "data": {
            "text/plain": [
              "<4x5 sparse matrix of type '<class 'numpy.float64'>'\n",
              "\twith 5 stored elements in LInked List format>"
            ]
          },
          "metadata": {
            "tags": []
          },
          "execution_count": 34
        }
      ]
    },
    {
      "cell_type": "code",
      "metadata": {
        "id": "cquA1QblAdWH",
        "colab_type": "code",
        "outputId": "d9544f0e-4c77-4fe4-801f-beee379354b4",
        "colab": {
          "base_uri": "https://localhost:8080/",
          "height": 84
        }
      },
      "source": [
        "mtx.todense()"
      ],
      "execution_count": 0,
      "outputs": [
        {
          "output_type": "execute_result",
          "data": {
            "text/plain": [
              "matrix([[0., 1., 1., 0., 0.],\n",
              "        [0., 1., 1., 1., 0.],\n",
              "        [0., 0., 0., 0., 0.],\n",
              "        [0., 0., 0., 0., 0.]])"
            ]
          },
          "metadata": {
            "tags": []
          },
          "execution_count": 35
        }
      ]
    },
    {
      "cell_type": "code",
      "metadata": {
        "id": "ObdhgPJnA8Ob",
        "colab_type": "code",
        "outputId": "bcfa7eca-1e8a-452d-db05-43020d73d477",
        "colab": {
          "base_uri": "https://localhost:8080/",
          "height": 67
        }
      },
      "source": [
        "# More Slicing and indexing:\n",
        "mtx = sparse.lil_matrix([[0, 1, 2, 0], [3, 0, 1, 0], [1, 0, 0, 1]])\n",
        "mtx.todense()"
      ],
      "execution_count": 0,
      "outputs": [
        {
          "output_type": "execute_result",
          "data": {
            "text/plain": [
              "matrix([[0, 1, 2, 0],\n",
              "        [3, 0, 1, 0],\n",
              "        [1, 0, 0, 1]], dtype=int64)"
            ]
          },
          "metadata": {
            "tags": []
          },
          "execution_count": 36
        }
      ]
    },
    {
      "cell_type": "code",
      "metadata": {
        "id": "6rZL_l1tEq6W",
        "colab_type": "code",
        "outputId": "82126f17-003b-4b64-e7a1-b794c8969741",
        "colab": {
          "base_uri": "https://localhost:8080/",
          "height": 50
        }
      },
      "source": [
        "mtx[:2,:]"
      ],
      "execution_count": 0,
      "outputs": [
        {
          "output_type": "execute_result",
          "data": {
            "text/plain": [
              "<2x4 sparse matrix of type '<class 'numpy.int64'>'\n",
              "\twith 4 stored elements in LInked List format>"
            ]
          },
          "metadata": {
            "tags": []
          },
          "execution_count": 37
        }
      ]
    },
    {
      "cell_type": "code",
      "metadata": {
        "id": "0rJh9CyfEt2n",
        "colab_type": "code",
        "outputId": "0fd02202-f232-4241-93b3-401bfd03c7c6",
        "colab": {
          "base_uri": "https://localhost:8080/",
          "height": 50
        }
      },
      "source": [
        "mtx[:2,:].todense()"
      ],
      "execution_count": 0,
      "outputs": [
        {
          "output_type": "execute_result",
          "data": {
            "text/plain": [
              "matrix([[0, 1, 2, 0],\n",
              "        [3, 0, 1, 0]], dtype=int64)"
            ]
          },
          "metadata": {
            "tags": []
          },
          "execution_count": 38
        }
      ]
    },
    {
      "cell_type": "code",
      "metadata": {
        "id": "gehIbvDpExNi",
        "colab_type": "code",
        "outputId": "439d0755-cdff-41de-8f2d-fb018f680a15",
        "colab": {
          "base_uri": "https://localhost:8080/",
          "height": 34
        }
      },
      "source": [
        "%timeit mtx[1:2,[0,2]].todense()"
      ],
      "execution_count": 0,
      "outputs": [
        {
          "output_type": "stream",
          "text": [
            "10000 loops, best of 3: 109 µs per loop\n"
          ],
          "name": "stdout"
        }
      ]
    },
    {
      "cell_type": "markdown",
      "metadata": {
        "id": "L0O0gXsXFVSv",
        "colab_type": "text"
      },
      "source": [
        "### [Dictionary of Keys Format (DOK)](https://docs.scipy.org/doc/scipy-0.14.0/reference/generated/scipy.sparse.dok_matrix.html)\n",
        "\n",
        "* subclass of Python dict\n",
        "> * keys are `(row, column)` index tuples (no duplicate entries allowed)\n",
        "> * values are corresponding non-zero values\n",
        "* efficient for constructing sparse matrices incrementally\n",
        "* constructor accepts:\n",
        "> * dense matrix (array)\n",
        "> * sparse matrix\n",
        "> * shape tuple (create empty matrix)\n",
        "* efficient O(1) access to individual elements\n",
        "* flexible slicing, changing sparsity structure is efficient\n",
        "* can be efficiently converted to a coo_matrix once constructed\n",
        "* slow arithmetics (`for` loops with `dict.iteritems()`)\n",
        "* use:\n",
        "> * when sparsity pattern is not known apriori or changes"
      ]
    },
    {
      "cell_type": "code",
      "metadata": {
        "id": "vyOs_0gQE2yh",
        "colab_type": "code",
        "outputId": "5dd20b25-432f-413f-8412-e2bf4d8752d6",
        "colab": {
          "base_uri": "https://localhost:8080/",
          "height": 50
        }
      },
      "source": [
        "mtx = sparse.dok_matrix((5,5), dtype=np.float64)\n",
        "mtx"
      ],
      "execution_count": 0,
      "outputs": [
        {
          "output_type": "execute_result",
          "data": {
            "text/plain": [
              "<5x5 sparse matrix of type '<class 'numpy.float64'>'\n",
              "\twith 0 stored elements in Dictionary Of Keys format>"
            ]
          },
          "metadata": {
            "tags": []
          },
          "execution_count": 43
        }
      ]
    },
    {
      "cell_type": "code",
      "metadata": {
        "id": "awPN7tlhGV-P",
        "colab_type": "code",
        "outputId": "94007663-865d-4bd9-873d-f4659da7aa8f",
        "colab": {
          "base_uri": "https://localhost:8080/",
          "height": 101
        }
      },
      "source": [
        "for ir in range(5):\n",
        "  for ic in range(5):\n",
        "    mtx[ir,ic] = 1.0 * (ir !=ic)\n",
        "\n",
        "mtx.todense()"
      ],
      "execution_count": 0,
      "outputs": [
        {
          "output_type": "execute_result",
          "data": {
            "text/plain": [
              "matrix([[0., 1., 1., 1., 1.],\n",
              "        [1., 0., 1., 1., 1.],\n",
              "        [1., 1., 0., 1., 1.],\n",
              "        [1., 1., 1., 0., 1.],\n",
              "        [1., 1., 1., 1., 0.]])"
            ]
          },
          "metadata": {
            "tags": []
          },
          "execution_count": 45
        }
      ]
    },
    {
      "cell_type": "code",
      "metadata": {
        "id": "faAY70IRGeSX",
        "colab_type": "code",
        "outputId": "6e620b01-a2f3-4d17-cfbe-ecad0fc5fe3c",
        "colab": {
          "base_uri": "https://localhost:8080/",
          "height": 34
        }
      },
      "source": [
        "mtx[1,[1,3]].todense()"
      ],
      "execution_count": 0,
      "outputs": [
        {
          "output_type": "execute_result",
          "data": {
            "text/plain": [
              "matrix([[0., 1.]])"
            ]
          },
          "metadata": {
            "tags": []
          },
          "execution_count": 47
        }
      ]
    },
    {
      "cell_type": "markdown",
      "metadata": {
        "id": "JlLyP3IwHIkY",
        "colab_type": "text"
      },
      "source": [
        "### [Coordinate Format (COO)](https://docs.scipy.org/doc/scipy/reference/generated/scipy.sparse.coo_matrix.html)\n",
        "* also known as the ‘ijv’ or ‘triplet’ format\n",
        "> * three NumPy arrays: row, col, data\n",
        "`data[i]` is value at `(row[i], col[i])` position\n",
        "> * permits duplicate entries\n",
        "> * subclass of `_data_matrix `(sparse matrix classes with `.data` attribute)\n",
        "* fast format for constructing sparse matrices\n",
        "* constructor accepts:\n",
        "> * dense matrix (array)\n",
        "> * sparse matrix\n",
        "> * shape tuple (create empty matrix)\n",
        "> * `(data, (i,j))` tuple\n",
        "* very fast conversion to and from CSR/CSC formats\n",
        "* fast matrix * vector (sparsetools)\n",
        "* fast and easy item-wise operations\n",
        "> * manipulate data array directly (fast NumPy machinery)\n",
        "* no slicing, no arithmetics (directly)\n",
        "* use:\n",
        "> * facilitates fast conversion among sparse formats\n",
        "> * when converting to other format (usually CSR or CSC), duplicate entries are summed together\n",
        "> > * facilitates efficient construction of finite element matrices"
      ]
    },
    {
      "cell_type": "code",
      "metadata": {
        "id": "YsDFJ53OIDQA",
        "colab_type": "code",
        "outputId": "72bea490-b8b2-420d-9df4-4150f30cc4d3",
        "colab": {
          "base_uri": "https://localhost:8080/",
          "height": 84
        }
      },
      "source": [
        "row = np.array([0, 3, 1, 0])\n",
        "col = np.array([0, 3, 1, 2])\n",
        "data = np.array([4, 5, 7, 9])\n",
        "mtx = sparse.coo_matrix((data, (row, col)), shape=(4, 4))\n",
        "mtx.todense()"
      ],
      "execution_count": 0,
      "outputs": [
        {
          "output_type": "execute_result",
          "data": {
            "text/plain": [
              "matrix([[4, 0, 9, 0],\n",
              "        [0, 7, 0, 0],\n",
              "        [0, 0, 0, 0],\n",
              "        [0, 0, 0, 5]])"
            ]
          },
          "metadata": {
            "tags": []
          },
          "execution_count": 48
        }
      ]
    },
    {
      "cell_type": "markdown",
      "metadata": {
        "id": "LO3klquCIn1h",
        "colab_type": "text"
      },
      "source": [
        "duplicates entries are summed together:"
      ]
    },
    {
      "cell_type": "code",
      "metadata": {
        "id": "UsucIG-OIhp2",
        "colab_type": "code",
        "outputId": "770f72d2-258f-4a06-8596-079597f0724c",
        "colab": {
          "base_uri": "https://localhost:8080/",
          "height": 84
        }
      },
      "source": [
        "row = np.array([0, 0, 1, 3, 1, 0, 0])\n",
        "col = np.array([0, 2, 1, 3, 1, 0, 0])\n",
        "data = np.array([1, 1, 1, 1, 1, 1, 1])\n",
        "mtx = sparse.coo_matrix((data, (row, col)), shape=(4, 4))\n",
        "mtx.todense()"
      ],
      "execution_count": 0,
      "outputs": [
        {
          "output_type": "execute_result",
          "data": {
            "text/plain": [
              "matrix([[3, 0, 1, 0],\n",
              "        [0, 2, 0, 0],\n",
              "        [0, 0, 0, 0],\n",
              "        [0, 0, 0, 1]])"
            ]
          },
          "metadata": {
            "tags": []
          },
          "execution_count": 49
        }
      ]
    },
    {
      "cell_type": "markdown",
      "metadata": {
        "id": "LIOIxTosIwVl",
        "colab_type": "text"
      },
      "source": [
        "No slicing:"
      ]
    },
    {
      "cell_type": "code",
      "metadata": {
        "id": "KUA73qp0Ir7G",
        "colab_type": "code",
        "outputId": "2128466f-8f90-420b-87b4-c2d2d3720f4a",
        "colab": {
          "base_uri": "https://localhost:8080/",
          "height": 162
        }
      },
      "source": [
        "mtx[2, 3]"
      ],
      "execution_count": 0,
      "outputs": [
        {
          "output_type": "error",
          "ename": "TypeError",
          "evalue": "ignored",
          "traceback": [
            "\u001b[0;31m---------------------------------------------------------------------------\u001b[0m",
            "\u001b[0;31mTypeError\u001b[0m                                 Traceback (most recent call last)",
            "\u001b[0;32m<ipython-input-50-e8f6680c1ea3>\u001b[0m in \u001b[0;36m<module>\u001b[0;34m()\u001b[0m\n\u001b[0;32m----> 1\u001b[0;31m \u001b[0mmtx\u001b[0m\u001b[0;34m[\u001b[0m\u001b[0;36m2\u001b[0m\u001b[0;34m,\u001b[0m \u001b[0;36m3\u001b[0m\u001b[0;34m]\u001b[0m\u001b[0;34m\u001b[0m\u001b[0;34m\u001b[0m\u001b[0m\n\u001b[0m",
            "\u001b[0;31mTypeError\u001b[0m: 'coo_matrix' object is not subscriptable"
          ]
        }
      ]
    },
    {
      "cell_type": "markdown",
      "metadata": {
        "id": "NoI5o5LcI5pF",
        "colab_type": "text"
      },
      "source": [
        "### [Compressed Sparse Row Format (CSR)](https://docs.scipy.org/doc/scipy/reference/generated/scipy.sparse.csr_matrix.html)\n",
        "\n",
        "* row oriented\n",
        "> * three NumPy arrays: `indices, indptr, data`\n",
        "> > * `indices` is array of column indices\n",
        "> > * `data` is array of corresponding nonzero values\n",
        "> > * `indptr` points to row starts in `indices` and `data`\n",
        "> > * length is n_row + 1, last item = number of values = length of both indices and data\n",
        "> > * nonzero values of the i-th row are `data[indptr[i]:indptr[i+1]]` with column indices `indices[indptr[i]:indptr[i+1]]`\n",
        "> > * ` item (i, j)` can be accessed as `data[indptr[i]+k]`, where `k` is position of `j` in `indices[indptr[i]:indptr[i+1]]`\n",
        "> * subclass of `_cs_matrix `(common CSR/CSC functionality)\n",
        "> >  * subclass of `_data_matrix` (sparse matrix classes with .data attribute)\n",
        "* fast matrix vector products and other arithmetics (sparsetools)\n",
        "* constructor accepts:\n",
        "> * dense matrix (array)\n",
        "> * sparse matrix\n",
        "> * shape tuple (create empty matrix)\n",
        "> * `(data, ij)` tuple\n",
        "> * `(data, indices, indptr)` tuple\n",
        "* efficient row slicing, row-oriented operations\n",
        "* slow column slicing, expensive changes to the sparsity structure\n",
        "* use:\n",
        "> * actual computations (most linear solvers support this format)"
      ]
    },
    {
      "cell_type": "code",
      "metadata": {
        "id": "0B_Eb6lCI0Fg",
        "colab_type": "code",
        "outputId": "521dd12a-e170-4cc3-da2a-e15c367a38ff",
        "colab": {
          "base_uri": "https://localhost:8080/",
          "height": 118
        }
      },
      "source": [
        "row = np.array([0, 0, 1, 2, 2, 2])\n",
        "col = np.array([0, 2, 2, 0, 1, 2])\n",
        "data = np.array([1, 2, 3, 4, 5, 6])\n",
        "mtx = sparse.csr_matrix((data, (row, col)), shape=(3, 3))\n",
        "\n",
        "print(mtx.todense())\n",
        "print(mtx.data)\n",
        "print(mtx.indices)\n",
        "print(mtx.indptr)"
      ],
      "execution_count": 0,
      "outputs": [
        {
          "output_type": "stream",
          "text": [
            "[[1 0 2]\n",
            " [0 0 3]\n",
            " [4 5 6]]\n",
            "[1 2 3 4 5 6]\n",
            "[0 2 2 0 1 2]\n",
            "[0 2 3 6]\n"
          ],
          "name": "stdout"
        }
      ]
    },
    {
      "cell_type": "markdown",
      "metadata": {
        "id": "Uhv9-JeXMYP2",
        "colab_type": "text"
      },
      "source": [
        "the indices for row i are stored in `indices[indptr[i]:indptr[i+1]] ` , and their correspoding values are stored in `data[indptr[i]:indptr[i+1]]`. \n",
        "\n",
        "So , for row 0, the indices are stored in `indices[indptr[0]: indptr[1]]`, that is in `indices[0:2]`, so we get 0 and 2. the data is 1 and 2.\n",
        "For row 1, the indices stored in `indices[2:3]`, get 2, the data is 3."
      ]
    },
    {
      "cell_type": "markdown",
      "metadata": {
        "id": "r46wrNA3NlgK",
        "colab_type": "text"
      },
      "source": [
        "As an example of how to construct a CSR matrix incrementally, the following snippet builds a term-document matrix from texts:"
      ]
    },
    {
      "cell_type": "code",
      "metadata": {
        "id": "yfH89zcTLFs6",
        "colab_type": "code",
        "outputId": "521985f2-8bfd-4cea-a684-9320c920e425",
        "colab": {
          "base_uri": "https://localhost:8080/",
          "height": 50
        }
      },
      "source": [
        "docs = [[\"hello\", \"world\", \"hello\"], [\"goodbye\", \"cruel\", \"world\"]]\n",
        "indptr = [0]\n",
        "indices = []\n",
        "data = []\n",
        "vocabulary = {}\n",
        "for d in docs:\n",
        "    for term in d:\n",
        "        index = vocabulary.setdefault(term, len(vocabulary))\n",
        "        indices.append(index)\n",
        "        data.append(1)\n",
        "    indptr.append(len(indices))\n",
        "\n",
        "sparse.csr_matrix((data, indices, indptr), dtype=int).toarray()"
      ],
      "execution_count": 0,
      "outputs": [
        {
          "output_type": "execute_result",
          "data": {
            "text/plain": [
              "array([[2, 1, 0, 0],\n",
              "       [0, 1, 1, 1]])"
            ]
          },
          "metadata": {
            "tags": []
          },
          "execution_count": 54
        }
      ]
    },
    {
      "cell_type": "markdown",
      "metadata": {
        "id": "KIX6pPDiOJ0a",
        "colab_type": "text"
      },
      "source": [
        "###  [Compressed Sparse Column Format (CSC)](https://scipy-lectures.org/advanced/scipy_sparse/csc_matrix.html)\n",
        "\n",
        "\n",
        "* length is n_row + 1, last item = number of values = length of both indices and data\n",
        "* nonzero values of the i-th row are `data[indptr[i]:indptr[i+1]]` with column indices `indices[indptr[i]:indptr[i+1]]`\n",
        "* ` item (i, j)` can be accessed as `data[indptr[i]+k]`, where `k` is position of `j` in `indices[indptr[i]:indptr[i+1]]`\n",
        "\n",
        "* efficient column slicing, column-oriented operations\n",
        "* slow row slicing, expensive changes to the sparsity structure\n",
        "\n",
        "The operations is same as CSR"
      ]
    },
    {
      "cell_type": "markdown",
      "metadata": {
        "id": "Dt627iOKPE3E",
        "colab_type": "text"
      },
      "source": [
        "### [Block Compressed Row Format (BSR)](https://docs.scipy.org/doc/scipy-1.2.1/reference/generated/scipy.sparse.bsr_matrix.html#scipy.sparse.bsr_matrix)\n",
        "\n",
        "* basically a CSR with dense sub-matrices of fixed shape instead of scalar items\n",
        "\n",
        "> * block size `(R, C)` must evenly divide the shape of the `matrix (M, N)`\n",
        "> * three NumPy arrays:` indices, indptr, data`\n",
        "> > * `indices` is array of column indices for each block\n",
        "> > * `data` is array of corresponding nonzero values of `shape (nnz, R, C)`\n",
        "> > * …\n",
        "> * subclass of `_cs_matrix` (common CSR/CSC functionality)\n",
        "> > * subclass of `_data_matrix` (sparse matrix classes with `.data` attribute)\n",
        "* fast matrix vector products and other arithmetics (sparsetools)\n",
        "\n",
        "* constructor accepts:\n",
        "> * dense matrix (array)\n",
        "> * sparse matrix\n",
        "> * shape tuple (create empty matrix)\n",
        "> * `(data, ij`) tuple\n",
        "> * `(data, indices, indptr)` tuple\n",
        "* many arithmetic operations considerably more efficient than CSR for sparse matrices with dense sub-matrices\n",
        "\n",
        "* use:\n",
        "> * like CSR\n",
        "> * vector-valued finite element discretizations"
      ]
    },
    {
      "cell_type": "code",
      "metadata": {
        "id": "8jY-tIscNqYO",
        "colab_type": "code",
        "outputId": "929b567d-7109-43ae-f276-47a4412cdf83",
        "colab": {
          "base_uri": "https://localhost:8080/",
          "height": 50
        }
      },
      "source": [
        "mtx = sparse.bsr_matrix((3, 4), dtype=np.int8)\n",
        "mtx"
      ],
      "execution_count": 0,
      "outputs": [
        {
          "output_type": "execute_result",
          "data": {
            "text/plain": [
              "<3x4 sparse matrix of type '<class 'numpy.int8'>'\n",
              "\twith 0 stored elements (blocksize = 1x1) in Block Sparse Row format>"
            ]
          },
          "metadata": {
            "tags": []
          },
          "execution_count": 55
        }
      ]
    },
    {
      "cell_type": "code",
      "metadata": {
        "id": "hSpEyZY9Qljh",
        "colab_type": "code",
        "outputId": "42e35f45-306c-4719-d6aa-b2544da1e721",
        "colab": {
          "base_uri": "https://localhost:8080/",
          "height": 50
        }
      },
      "source": [
        "mtx = sparse.bsr_matrix((3, 4), blocksize=(3, 2), dtype=np.int8)\n",
        "mtx"
      ],
      "execution_count": 0,
      "outputs": [
        {
          "output_type": "execute_result",
          "data": {
            "text/plain": [
              "<3x4 sparse matrix of type '<class 'numpy.int8'>'\n",
              "\twith 0 stored elements (blocksize = 3x2) in Block Sparse Row format>"
            ]
          },
          "metadata": {
            "tags": []
          },
          "execution_count": 56
        }
      ]
    },
    {
      "cell_type": "code",
      "metadata": {
        "id": "I-qD7HE3QpMZ",
        "colab_type": "code",
        "outputId": "8d6272c5-7bf6-49b2-afd6-915c9620f3d0",
        "colab": {
          "base_uri": "https://localhost:8080/",
          "height": 50
        }
      },
      "source": [
        "row = np.array([0, 0, 1, 2, 2, 2])\n",
        "col = np.array([0, 2, 2, 0, 1, 2])\n",
        "data = np.array([1, 2, 3, 4, 5, 6])\n",
        "mtx = sparse.bsr_matrix((data, (row, col)), shape=(3, 3))\n",
        "mtx  "
      ],
      "execution_count": 0,
      "outputs": [
        {
          "output_type": "execute_result",
          "data": {
            "text/plain": [
              "<3x3 sparse matrix of type '<class 'numpy.int64'>'\n",
              "\twith 6 stored elements (blocksize = 1x1) in Block Sparse Row format>"
            ]
          },
          "metadata": {
            "tags": []
          },
          "execution_count": 57
        }
      ]
    },
    {
      "cell_type": "code",
      "metadata": {
        "id": "1oo-Fa7OQrw9",
        "colab_type": "code",
        "outputId": "d422732a-a312-4e10-e380-05e259f52cb7",
        "colab": {
          "base_uri": "https://localhost:8080/",
          "height": 67
        }
      },
      "source": [
        "mtx.todense()"
      ],
      "execution_count": 0,
      "outputs": [
        {
          "output_type": "execute_result",
          "data": {
            "text/plain": [
              "matrix([[1, 0, 2],\n",
              "        [0, 0, 3],\n",
              "        [4, 5, 6]], dtype=int64)"
            ]
          },
          "metadata": {
            "tags": []
          },
          "execution_count": 58
        }
      ]
    },
    {
      "cell_type": "code",
      "metadata": {
        "id": "8Ec7KGbHQxD0",
        "colab_type": "code",
        "outputId": "1ba1bd2d-0ec8-4f7c-bef1-9de27dbe9265",
        "colab": {
          "base_uri": "https://localhost:8080/",
          "height": 118
        }
      },
      "source": [
        "indptr = np.array([0, 2, 3, 6])\n",
        "indices = np.array([0, 2, 2, 0, 1, 2])\n",
        "#data = np.array([1, 2, 3, 4, 5, 6]).repeat(4).reshape(6, 2, 2)\n",
        "data = np.around(np.random.rand(6*4)*100).reshape(6,2,2)\n",
        "mtx = sparse.bsr_matrix((data, indices, indptr))\n",
        "mtx.todense()"
      ],
      "execution_count": 0,
      "outputs": [
        {
          "output_type": "execute_result",
          "data": {
            "text/plain": [
              "matrix([[22., 89.,  0.,  0., 94., 87.],\n",
              "        [67.,  0.,  0.,  0., 82., 38.],\n",
              "        [ 0.,  0.,  0.,  0., 96., 24.],\n",
              "        [ 0.,  0.,  0.,  0., 11., 16.],\n",
              "        [66., 77., 90., 54., 56.,  3.],\n",
              "        [60., 89., 78., 28.,  8., 72.]])"
            ]
          },
          "metadata": {
            "tags": []
          },
          "execution_count": 79
        }
      ]
    },
    {
      "cell_type": "code",
      "metadata": {
        "id": "JZw1gLZgQ094",
        "colab_type": "code",
        "outputId": "b5bb4329-d589-44ff-9670-899b38321177",
        "colab": {
          "base_uri": "https://localhost:8080/",
          "height": 336
        }
      },
      "source": [
        "print(mtx.indices)\n",
        "print(mtx.indptr)\n",
        "print(data)"
      ],
      "execution_count": 0,
      "outputs": [
        {
          "output_type": "stream",
          "text": [
            "[0 2 2 0 1 2]\n",
            "[0 2 3 6]\n",
            "[[[93. 76.]\n",
            "  [49. 43.]]\n",
            "\n",
            " [[86. 42.]\n",
            "  [30. 79.]]\n",
            "\n",
            " [[85. 37.]\n",
            "  [59. 76.]]\n",
            "\n",
            " [[ 9. 82.]\n",
            "  [14. 76.]]\n",
            "\n",
            " [[51. 41.]\n",
            "  [79.  9.]]\n",
            "\n",
            " [[ 0.  0.]\n",
            "  [97. 94.]]]\n"
          ],
          "name": "stdout"
        }
      ]
    },
    {
      "cell_type": "markdown",
      "metadata": {
        "id": "jw2VdTb6RI8J",
        "colab_type": "text"
      },
      "source": [
        ""
      ]
    },
    {
      "cell_type": "code",
      "metadata": {
        "id": "LA6n2cZRQ2ei",
        "colab_type": "code",
        "outputId": "40836e7f-a289-4abe-86ac-fad202133940",
        "colab": {
          "base_uri": "https://localhost:8080/",
          "height": 302
        }
      },
      "source": [
        "mtx.data"
      ],
      "execution_count": 0,
      "outputs": [
        {
          "output_type": "execute_result",
          "data": {
            "text/plain": [
              "array([[[22., 89.],\n",
              "        [67.,  0.]],\n",
              "\n",
              "       [[94., 87.],\n",
              "        [82., 38.]],\n",
              "\n",
              "       [[96., 24.],\n",
              "        [11., 16.]],\n",
              "\n",
              "       [[66., 77.],\n",
              "        [60., 89.]],\n",
              "\n",
              "       [[90., 54.],\n",
              "        [78., 28.]],\n",
              "\n",
              "       [[56.,  3.],\n",
              "        [ 8., 72.]]])"
            ]
          },
          "metadata": {
            "tags": []
          },
          "execution_count": 81
        }
      ]
    },
    {
      "cell_type": "code",
      "metadata": {
        "id": "19Z5IwdjRDIC",
        "colab_type": "code",
        "outputId": "3b38a1ea-f9a1-46c1-d7c4-7f3f906ee209",
        "colab": {
          "base_uri": "https://localhost:8080/",
          "height": 279
        }
      },
      "source": [
        "# BSR does not support indexing\n",
        "mtx[0,0]"
      ],
      "execution_count": 0,
      "outputs": [
        {
          "output_type": "error",
          "ename": "NotImplementedError",
          "evalue": "ignored",
          "traceback": [
            "\u001b[0;31m---------------------------------------------------------------------------\u001b[0m",
            "\u001b[0;31mNotImplementedError\u001b[0m                       Traceback (most recent call last)",
            "\u001b[0;32m<ipython-input-84-5ef8cfc19d6f>\u001b[0m in \u001b[0;36m<module>\u001b[0;34m()\u001b[0m\n\u001b[0;32m----> 1\u001b[0;31m \u001b[0mmtx\u001b[0m\u001b[0;34m[\u001b[0m\u001b[0;36m0\u001b[0m\u001b[0;34m,\u001b[0m\u001b[0;36m0\u001b[0m\u001b[0;34m]\u001b[0m\u001b[0;34m\u001b[0m\u001b[0;34m\u001b[0m\u001b[0m\n\u001b[0m",
            "\u001b[0;32m/usr/local/lib/python3.6/dist-packages/scipy/sparse/bsr.py\u001b[0m in \u001b[0;36m__getitem__\u001b[0;34m(self, key)\u001b[0m\n\u001b[1;32m    315\u001b[0m \u001b[0;34m\u001b[0m\u001b[0m\n\u001b[1;32m    316\u001b[0m     \u001b[0;32mdef\u001b[0m \u001b[0m__getitem__\u001b[0m\u001b[0;34m(\u001b[0m\u001b[0mself\u001b[0m\u001b[0;34m,\u001b[0m\u001b[0mkey\u001b[0m\u001b[0;34m)\u001b[0m\u001b[0;34m:\u001b[0m\u001b[0;34m\u001b[0m\u001b[0;34m\u001b[0m\u001b[0m\n\u001b[0;32m--> 317\u001b[0;31m         \u001b[0;32mraise\u001b[0m \u001b[0mNotImplementedError\u001b[0m\u001b[0;34m\u001b[0m\u001b[0;34m\u001b[0m\u001b[0m\n\u001b[0m\u001b[1;32m    318\u001b[0m \u001b[0;34m\u001b[0m\u001b[0m\n\u001b[1;32m    319\u001b[0m     \u001b[0;32mdef\u001b[0m \u001b[0m__setitem__\u001b[0m\u001b[0;34m(\u001b[0m\u001b[0mself\u001b[0m\u001b[0;34m,\u001b[0m\u001b[0mkey\u001b[0m\u001b[0;34m,\u001b[0m\u001b[0mval\u001b[0m\u001b[0;34m)\u001b[0m\u001b[0;34m:\u001b[0m\u001b[0;34m\u001b[0m\u001b[0;34m\u001b[0m\u001b[0m\n",
            "\u001b[0;31mNotImplementedError\u001b[0m: "
          ]
        }
      ]
    },
    {
      "cell_type": "markdown",
      "metadata": {
        "id": "7ZNm8yEbW31g",
        "colab_type": "text"
      },
      "source": [
        "## Summary\n",
        "\n",
        "\n",
        "\n",
        ">format\t| matrix \\* vector |\tget item\t| fancy get |\tset item |\tfancy set |\tsolvers |\tnote\n",
        ">--- | --- |  --- |  --- |  --- |  --- | --- | ---\n",
        ">DIA | sparsetools  | \t. | \t. | \t. | \t. | \titerative | has data array, specialized\n",
        "> LIL\t | via CSR\t | yes\t | yes | \tyes\t | yes | \titerative | \tarithmetics via CSR, incremental construction\n",
        ">DOK | \tpython | \tyes\t | one axis only\t | yes\t | yes\t | iterative | \tO(1) item access, incremental construction\n",
        ">COO\t | sparsetools | \t. | \t. | \t. | \t.\t | iterative | \thas data array, facilitates fast conversion\n",
        ">CSR\t | sparsetools | \tyes | \tyes\t | slow | \t.\t | any\t | has data array, fast row-wise ops\n",
        ">CSC | \tsparsetools\t | yes | \tyes | \tslow\t | . | \tany\t | has data array, fast column-wise ops\n",
        ">BSR | \tsparsetools\t | . | \t.\t | .\t | .\t | specialized | \thas data array, specialized"
      ]
    },
    {
      "cell_type": "markdown",
      "metadata": {
        "id": "lFrA6nJ_XK6y",
        "colab_type": "text"
      },
      "source": [
        "# Linear System Solvers"
      ]
    },
    {
      "cell_type": "markdown",
      "metadata": {
        "id": "hWeGi5uSZ-i4",
        "colab_type": "text"
      },
      "source": [
        "* sparse matrix/eigenvalue problem solvers live in [scipy.sparse.linalg](https://docs.scipy.org/doc/scipy/reference/sparse.linalg.html#module-scipy.sparse.linalg)\n",
        "\n",
        "* the submodules:\n",
        "> * `dsolve`: direct factorization methods for solving linear systems\n",
        "> * `isolve`: iterative methods for solving linear systems\n",
        "> * `eigen`: sparse eigenvalue problem solvers"
      ]
    },
    {
      "cell_type": "code",
      "metadata": {
        "id": "4XKBb5cmVY3c",
        "colab_type": "code",
        "colab": {}
      },
      "source": [
        "import scipy.sparse.linalg as spla\n",
        "# spla.__all__"
      ],
      "execution_count": 0,
      "outputs": []
    },
    {
      "cell_type": "markdown",
      "metadata": {
        "id": "5YZQwDm0a97O",
        "colab_type": "text"
      },
      "source": [
        "## Sparse Direct Solvers"
      ]
    },
    {
      "cell_type": "markdown",
      "metadata": {
        "id": "RKfcfiRqbAzP",
        "colab_type": "text"
      },
      "source": [
        "* default solver: SuperLU 4.0\n",
        "> * included in SciPy\n",
        "> * real and complex systems\n",
        "> * both single and double precision\n",
        "* optional: umfpack\n",
        "> * real and complex systems\n",
        "> * double precision only\n",
        "> * recommended for performance\n",
        "> * wrappers now live in `scikits.umfpack`\n",
        "> * check-out the new `scikits.suitesparse` by Nathaniel Smith"
      ]
    },
    {
      "cell_type": "markdown",
      "metadata": {
        "id": "maEUgtpob3xS",
        "colab_type": "text"
      },
      "source": [
        "import the whole module, and see its docstring:"
      ]
    },
    {
      "cell_type": "code",
      "metadata": {
        "id": "4a_w1kK7axUN",
        "colab_type": "code",
        "colab": {}
      },
      "source": [
        "from scipy.sparse.linalg import dsolve\n",
        "help(dsolve)"
      ],
      "execution_count": 0,
      "outputs": []
    },
    {
      "cell_type": "markdown",
      "metadata": {
        "id": "zhSsANYcbxs2",
        "colab_type": "text"
      },
      "source": [
        "both superlu and umfpack can be used (if the latter is installed) as follows:"
      ]
    },
    {
      "cell_type": "code",
      "metadata": {
        "id": "fVGNinCNbNX_",
        "colab_type": "code",
        "colab": {}
      },
      "source": [
        "import numpy as np\n",
        "from scipy import sparse"
      ],
      "execution_count": 0,
      "outputs": []
    },
    {
      "cell_type": "code",
      "metadata": {
        "id": "SiHvfoEMbz56",
        "colab_type": "code",
        "colab": {}
      },
      "source": [
        "mtx = sparse.spdiags([[1, 2, 3, 4, 5], [6, 5, 8, 9, 10]], [0, 1], 5, 5)\n",
        "mtx.todense()\n",
        "rhs = np.array([1, 2, 3, 4, 5], dtype=np.float32)"
      ],
      "execution_count": 0,
      "outputs": []
    },
    {
      "cell_type": "markdown",
      "metadata": {
        "id": "ft0vXPGtcOzj",
        "colab_type": "text"
      },
      "source": [
        "* solve as single precision real:"
      ]
    },
    {
      "cell_type": "code",
      "metadata": {
        "id": "ANpCxxopcB9p",
        "colab_type": "code",
        "outputId": "ce646007-e77d-4951-beb1-460263cb88ac",
        "colab": {
          "base_uri": "https://localhost:8080/",
          "height": 104
        }
      },
      "source": [
        "mtx1 = mtx.astype(np.float32)\n",
        "x = dsolve.spsolve(mtx1, rhs, use_umfpack=False)\n",
        "print(x)\n",
        "print(\"Error: %s\" % (mtx1 * x - rhs))  \n"
      ],
      "execution_count": 0,
      "outputs": [
        {
          "output_type": "stream",
          "text": [
            "[106.  -21.    5.5  -1.5   1. ]\n",
            "Error: [0. 0. 0. 0. 0.]\n"
          ],
          "name": "stdout"
        },
        {
          "output_type": "stream",
          "text": [
            "/usr/local/lib/python3.6/dist-packages/scipy/sparse/linalg/dsolve/linsolve.py:133: SparseEfficiencyWarning: spsolve requires A be CSC or CSR matrix format\n",
            "  SparseEfficiencyWarning)\n"
          ],
          "name": "stderr"
        }
      ]
    },
    {
      "cell_type": "markdown",
      "metadata": {
        "id": "Jw4u4-F_ckYy",
        "colab_type": "text"
      },
      "source": [
        "* solve as double precision real:"
      ]
    },
    {
      "cell_type": "code",
      "metadata": {
        "id": "vLk61_DecalZ",
        "colab_type": "code",
        "outputId": "2c883714-e58d-43ba-de26-a5de0ee22435",
        "colab": {
          "base_uri": "https://localhost:8080/",
          "height": 104
        }
      },
      "source": [
        "mtx2 = mtx.astype(np.float64)\n",
        "x = dsolve.spsolve(mtx2, rhs, use_umfpack=True)\n",
        "print(x)  \n",
        "\n",
        "print(\"Error: %s\" % (mtx2 * x - rhs))"
      ],
      "execution_count": 0,
      "outputs": [
        {
          "output_type": "stream",
          "text": [
            "[106.  -21.    5.5  -1.5   1. ]\n",
            "Error: [0. 0. 0. 0. 0.]\n"
          ],
          "name": "stdout"
        },
        {
          "output_type": "stream",
          "text": [
            "/usr/local/lib/python3.6/dist-packages/scipy/sparse/linalg/dsolve/linsolve.py:133: SparseEfficiencyWarning: spsolve requires A be CSC or CSR matrix format\n",
            "  SparseEfficiencyWarning)\n"
          ],
          "name": "stderr"
        }
      ]
    },
    {
      "cell_type": "markdown",
      "metadata": {
        "id": "8fHeSnS4mveh",
        "colab_type": "text"
      },
      "source": [
        "* solve as single precision complex:"
      ]
    },
    {
      "cell_type": "code",
      "metadata": {
        "id": "Cd8Nmg9Umrx8",
        "colab_type": "code",
        "outputId": "94c43d4c-7e30-40fa-9fa9-29173d0db770",
        "colab": {
          "base_uri": "https://localhost:8080/",
          "height": 104
        }
      },
      "source": [
        "mtx1 = mtx.astype(np.complex64)\n",
        "x = dsolve.spsolve(mtx1, rhs, use_umfpack=False)\n",
        "print(x)  \n",
        "\n",
        "print(\"Error: %s\" % (mtx1 * x - rhs))"
      ],
      "execution_count": 0,
      "outputs": [
        {
          "output_type": "stream",
          "text": [
            "[106. +0.j -21. +0.j   5.5+0.j  -1.5+0.j   1. +0.j]\n",
            "Error: [0.+0.j 0.+0.j 0.+0.j 0.+0.j 0.+0.j]\n"
          ],
          "name": "stdout"
        },
        {
          "output_type": "stream",
          "text": [
            "/usr/local/lib/python3.6/dist-packages/scipy/sparse/linalg/dsolve/linsolve.py:133: SparseEfficiencyWarning: spsolve requires A be CSC or CSR matrix format\n",
            "  SparseEfficiencyWarning)\n"
          ],
          "name": "stderr"
        }
      ]
    },
    {
      "cell_type": "markdown",
      "metadata": {
        "id": "SvFN9d2wmypZ",
        "colab_type": "text"
      },
      "source": [
        "* solve as double precision complex:"
      ]
    },
    {
      "cell_type": "code",
      "metadata": {
        "id": "kaZsdl0ZmyA0",
        "colab_type": "code",
        "outputId": "dcc974e3-180f-4c6e-94ca-cc2e1e222746",
        "colab": {
          "base_uri": "https://localhost:8080/",
          "height": 104
        }
      },
      "source": [
        "mtx2 = mtx.astype(np.complex128)\n",
        "x = dsolve.spsolve(mtx2, rhs, use_umfpack=True)\n",
        "print(x)\n",
        "\n",
        "print(\"Error: %s\" % (mtx2 * x - rhs)) "
      ],
      "execution_count": 0,
      "outputs": [
        {
          "output_type": "stream",
          "text": [
            "[106. +0.j -21. +0.j   5.5+0.j  -1.5+0.j   1. +0.j]\n",
            "Error: [0.+0.j 0.+0.j 0.+0.j 0.+0.j 0.+0.j]\n"
          ],
          "name": "stdout"
        },
        {
          "output_type": "stream",
          "text": [
            "/usr/local/lib/python3.6/dist-packages/scipy/sparse/linalg/dsolve/linsolve.py:133: SparseEfficiencyWarning: spsolve requires A be CSC or CSR matrix format\n",
            "  SparseEfficiencyWarning)\n"
          ],
          "name": "stderr"
        }
      ]
    },
    {
      "cell_type": "code",
      "metadata": {
        "id": "2SLwVEaRm7n8",
        "colab_type": "code",
        "outputId": "c5f19e87-bcc2-4d39-da88-1253709239fa",
        "colab": {
          "base_uri": "https://localhost:8080/",
          "height": 288
        }
      },
      "source": [
        "\"\"\"\n",
        "Solve a linear system\n",
        "=======================\n",
        "\n",
        "Construct a 1000x1000 lil_matrix and add some values to it, convert it\n",
        "to CSR format and solve A x = b for x:and solve a linear system with a\n",
        "direct solver.\n",
        "\"\"\"\n",
        "import numpy as np\n",
        "import scipy.sparse as sps\n",
        "from matplotlib import pyplot as plt\n",
        "from scipy.sparse.linalg.dsolve import linsolve\n",
        "\n",
        "rand = np.random.rand\n",
        "\n",
        "mtx = sps.lil_matrix((1000, 1000), dtype=np.float64)\n",
        "mtx[0, :100] = rand(100)\n",
        "mtx[1, 100:200] = mtx[0, :100]\n",
        "mtx.setdiag(rand(1000))\n",
        "\n",
        "plt.clf()\n",
        "plt.spy(mtx, marker='.', markersize=2)\n",
        "plt.show()\n",
        "\n",
        "mtx = mtx.tocsr()\n",
        "rhs = rand(1000)\n",
        "\n",
        "x = linsolve.spsolve(mtx, rhs)\n",
        "\n",
        "print('rezidual: %r' % np.linalg.norm(mtx * x - rhs))"
      ],
      "execution_count": 0,
      "outputs": [
        {
          "output_type": "display_data",
          "data": {
            "image/png": "[encoded data removed]",
            "text/plain": [
              "<Figure size 432x288 with 1 Axes>"
            ]
          },
          "metadata": {
            "tags": []
          }
        },
        {
          "output_type": "stream",
          "text": [
            "rezidual: 2.6838142380927864e-14\n"
          ],
          "name": "stdout"
        }
      ]
    },
    {
      "cell_type": "markdown",
      "metadata": {
        "id": "9EF6a2w7CyFm",
        "colab_type": "text"
      },
      "source": [
        "## Iterative Solvers"
      ]
    },
    {
      "cell_type": "markdown",
      "metadata": {
        "id": "_qAwn0kUC0yy",
        "colab_type": "text"
      },
      "source": [
        "* the isolve module contains the following solvers:\n",
        "> * `bicg` (BIConjugate Gradient)\n",
        "> * `bicgstab` (BIConjugate Gradient STABilized)\n",
        "> * `cg` (Conjugate Gradient) - symmetric positive definite matrices only\n",
        "> * `cgs` (Conjugate Gradient Squared)\n",
        "> * `gmres` (Generalized Minimal RESidual)\n",
        "> * `minres` (MINimum RESidual)\n",
        "> * `qmr` (Quasi-Minimal Residual)"
      ]
    },
    {
      "cell_type": "code",
      "metadata": {
        "id": "nvEgSBt7m3Y5",
        "colab_type": "code",
        "colab": {
          "base_uri": "https://localhost:8080/",
          "height": 34
        },
        "outputId": "a3a0bdf4-a02b-4374-f791-183c1053b976"
      },
      "source": [
        "import numpy as np\n",
        "from scipy.sparse.linalg import LinearOperator\n",
        "def mv(v):\n",
        "    return np.array([2*v[0], 3*v[1]])\n",
        "\n",
        "A = LinearOperator((2, 2), matvec=mv)\n",
        "A\n",
        "\n",
        "A.matvec(np.ones(2))\n",
        "\n",
        "A * np.ones(2)"
      ],
      "execution_count": 1,
      "outputs": [
        {
          "output_type": "execute_result",
          "data": {
            "text/plain": [
              "array([2., 3.])"
            ]
          },
          "metadata": {
            "tags": []
          },
          "execution_count": 1
        }
      ]
    },
    {
      "cell_type": "markdown",
      "metadata": {
        "id": "AkRXSP4tETua",
        "colab_type": "text"
      },
      "source": [
        "## Eigenvalue Problem Solvers"
      ]
    },
    {
      "cell_type": "code",
      "metadata": {
        "id": "VGvoHK-5EOoi",
        "colab_type": "code",
        "colab": {}
      },
      "source": [
        ""
      ],
      "execution_count": 0,
      "outputs": []
    }
  ]
}