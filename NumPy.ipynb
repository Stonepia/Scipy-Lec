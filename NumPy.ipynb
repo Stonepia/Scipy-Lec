{
  "nbformat": 4,
  "nbformat_minor": 0,
  "metadata": {
    "colab": {
      "name": "NumPy.ipynb",
      "version": "0.3.2",
      "provenance": [],
      "collapsed_sections": [
        "ltAKBicYCQqm",
        "U8FncPvSCpQ6",
        "nrJYR39udHBg"
      ]
    },
    "kernelspec": {
      "name": "python3",
      "display_name": "Python 3"
    },
    "accelerator": "GPU"
  },
  "cells": [
    {
      "cell_type": "markdown",
      "metadata": {
        "id": "hOMrzhSBw5TI",
        "colab_type": "text"
      },
      "source": [
        "# Python Basics"
      ]
    },
    {
      "cell_type": "markdown",
      "metadata": {
        "id": "yt3fXdvRyAGu",
        "colab_type": "text"
      },
      "source": [
        "- When paste some code from the web to console,use `%cpaste`\n",
        "- `%timeit` allows you to time the execution of short snippets.\n",
        "\n",
        "\n",
        "```\n",
        "        %timeit x=10\n",
        "```\n",
        "\n",
        "- `%cd` . change directory\n",
        "    "
      ]
    },
    {
      "cell_type": "markdown",
      "metadata": {
        "id": "f5VKwGncw9O5",
        "colab_type": "text"
      },
      "source": [
        "### Enumeration Number\n",
        "\n",
        "Common task is th iterate over a sequeance while keeping track of the item number.\n",
        "-  Could use a for loop:"
      ]
    },
    {
      "cell_type": "code",
      "metadata": {
        "id": "KPUcICxAw2uR",
        "colab_type": "code",
        "outputId": "32ee09c3-9214-48ba-fef2-1c148a748982",
        "colab": {
          "base_uri": "https://localhost:8080/",
          "height": 68
        }
      },
      "source": [
        "words = ('I', 'am', 'Biu')\n",
        "for i in range(0, len(words)):\n",
        "  print((i,words[i]))"
      ],
      "execution_count": 0,
      "outputs": [
        {
          "output_type": "stream",
          "text": [
            "(0, 'I')\n",
            "(1, 'am')\n",
            "(2, 'Biu')\n"
          ],
          "name": "stdout"
        }
      ]
    },
    {
      "cell_type": "markdown",
      "metadata": {
        "id": "qG0SzY1QxgWP",
        "colab_type": "text"
      },
      "source": [
        "- But Python profices a built-in function `enumerate` for this:"
      ]
    },
    {
      "cell_type": "code",
      "metadata": {
        "id": "9BW08tN4xfdT",
        "colab_type": "code",
        "outputId": "5c688aa8-de9b-4f7f-9201-17f6e2b27a22",
        "colab": {
          "base_uri": "https://localhost:8080/",
          "height": 68
        }
      },
      "source": [
        "for index, item in enumerate(words):\n",
        "  print((index, item))"
      ],
      "execution_count": 0,
      "outputs": [
        {
          "output_type": "stream",
          "text": [
            "(0, 'I')\n",
            "(1, 'am')\n",
            "(2, 'Biu')\n"
          ],
          "name": "stdout"
        }
      ]
    },
    {
      "cell_type": "markdown",
      "metadata": {
        "id": "9ZgH_xsu0_Zi",
        "colab_type": "text"
      },
      "source": [
        "## Standard Library"
      ]
    },
    {
      "cell_type": "markdown",
      "metadata": {
        "id": "pd0RlSZf1EXM",
        "colab_type": "text"
      },
      "source": [
        "## `os` module"
      ]
    },
    {
      "cell_type": "code",
      "metadata": {
        "id": "qP3__cauxqfe",
        "colab_type": "code",
        "outputId": "313db8ae-0e06-42bb-ef6e-84801f9902d3",
        "colab": {
          "base_uri": "https://localhost:8080/",
          "height": 34
        }
      },
      "source": [
        "import os\n",
        "os.getcwd()"
      ],
      "execution_count": 0,
      "outputs": [
        {
          "output_type": "execute_result",
          "data": {
            "text/plain": [
              "'/content'"
            ]
          },
          "metadata": {
            "tags": []
          },
          "execution_count": 8
        }
      ]
    },
    {
      "cell_type": "code",
      "metadata": {
        "id": "NyQzUsWf1LB7",
        "colab_type": "code",
        "outputId": "041bb52a-c2ff-454e-f9ee-0dde5c3f09ea",
        "colab": {
          "base_uri": "https://localhost:8080/",
          "height": 34
        }
      },
      "source": [
        "os.listdir(os.curdir)"
      ],
      "execution_count": 0,
      "outputs": [
        {
          "output_type": "execute_result",
          "data": {
            "text/plain": [
              "['.config', 'sample_data']"
            ]
          },
          "metadata": {
            "tags": []
          },
          "execution_count": 9
        }
      ]
    },
    {
      "cell_type": "code",
      "metadata": {
        "id": "EpNdlacz1n13",
        "colab_type": "code",
        "colab": {}
      },
      "source": [
        "os.mkdir('some dir')\n",
        "os.rename('some dir', 'othername')\n",
        "os.rmdir('othername')"
      ],
      "execution_count": 0,
      "outputs": []
    },
    {
      "cell_type": "code",
      "metadata": {
        "id": "zT-R1SF016qj",
        "colab_type": "code",
        "outputId": "700afae8-b859-4d8c-b924-34b50900326f",
        "colab": {
          "base_uri": "https://localhost:8080/",
          "height": 34
        }
      },
      "source": [
        "fp=open('biu.txt','w')\n",
        "fp.write('Hello world')\n",
        "fp.close()\n",
        "\n",
        "fp = open('biu.txt','r')\n",
        "print(fp.read())\n",
        "fp.close()"
      ],
      "execution_count": 0,
      "outputs": [
        {
          "output_type": "stream",
          "text": [
            "Hello world\n"
          ],
          "name": "stdout"
        }
      ]
    },
    {
      "cell_type": "code",
      "metadata": {
        "id": "0bJua9ga2UWG",
        "colab_type": "code",
        "outputId": "e3b06028-a381-434a-87e4-4b7e2ffaabeb",
        "colab": {
          "base_uri": "https://localhost:8080/",
          "height": 34
        }
      },
      "source": [
        "os.listdir()"
      ],
      "execution_count": 0,
      "outputs": [
        {
          "output_type": "execute_result",
          "data": {
            "text/plain": [
              "['.config', 'biu.txt', 'sample_data']"
            ]
          },
          "metadata": {
            "tags": []
          },
          "execution_count": 12
        }
      ]
    },
    {
      "cell_type": "code",
      "metadata": {
        "id": "2SuiI38Z2Ygq",
        "colab_type": "code",
        "outputId": "d696d6a7-6d5d-4998-d79e-2636c5695036",
        "colab": {
          "base_uri": "https://localhost:8080/",
          "height": 34
        }
      },
      "source": [
        "a = os.path.abspath(\"biu.txt\")\n",
        "a"
      ],
      "execution_count": 0,
      "outputs": [
        {
          "output_type": "execute_result",
          "data": {
            "text/plain": [
              "'/content/biu.txt'"
            ]
          },
          "metadata": {
            "tags": []
          },
          "execution_count": 15
        }
      ]
    },
    {
      "cell_type": "code",
      "metadata": {
        "id": "JHKrotGa2dI6",
        "colab_type": "code",
        "outputId": "a75b5d5f-4794-4182-8fc2-2bbb9b8741cc",
        "colab": {
          "base_uri": "https://localhost:8080/",
          "height": 34
        }
      },
      "source": [
        "os.path.split(a)"
      ],
      "execution_count": 0,
      "outputs": [
        {
          "output_type": "execute_result",
          "data": {
            "text/plain": [
              "('/content', 'biu.txt')"
            ]
          },
          "metadata": {
            "tags": []
          },
          "execution_count": 16
        }
      ]
    },
    {
      "cell_type": "code",
      "metadata": {
        "id": "aD44ahh62fH2",
        "colab_type": "code",
        "outputId": "6aa664cd-0c00-45ac-dabc-ffa3387cdd13",
        "colab": {
          "base_uri": "https://localhost:8080/",
          "height": 34
        }
      },
      "source": [
        "os.path.dirname(a)"
      ],
      "execution_count": 0,
      "outputs": [
        {
          "output_type": "execute_result",
          "data": {
            "text/plain": [
              "'/content'"
            ]
          },
          "metadata": {
            "tags": []
          },
          "execution_count": 17
        }
      ]
    },
    {
      "cell_type": "code",
      "metadata": {
        "id": "_z34QAwG2mDa",
        "colab_type": "code",
        "outputId": "2012221d-9041-48af-8aa1-bdb4def38f80",
        "colab": {
          "base_uri": "https://localhost:8080/",
          "height": 34
        }
      },
      "source": [
        "os.path.basename(a)"
      ],
      "execution_count": 0,
      "outputs": [
        {
          "output_type": "execute_result",
          "data": {
            "text/plain": [
              "'biu.txt'"
            ]
          },
          "metadata": {
            "tags": []
          },
          "execution_count": 18
        }
      ]
    },
    {
      "cell_type": "code",
      "metadata": {
        "id": "DW-02lTw2p2O",
        "colab_type": "code",
        "outputId": "4e2ae51d-6873-4f29-f095-99f06e77d096",
        "colab": {
          "base_uri": "https://localhost:8080/",
          "height": 34
        }
      },
      "source": [
        "os.path.splitext(os.path.basename(a))"
      ],
      "execution_count": 0,
      "outputs": [
        {
          "output_type": "execute_result",
          "data": {
            "text/plain": [
              "('biu', '.txt')"
            ]
          },
          "metadata": {
            "tags": []
          },
          "execution_count": 19
        }
      ]
    },
    {
      "cell_type": "code",
      "metadata": {
        "id": "aa2C6a3i2vSn",
        "colab_type": "code",
        "outputId": "977d90ed-6aee-4a2a-a735-7893beaf3207",
        "colab": {
          "base_uri": "https://localhost:8080/",
          "height": 34
        }
      },
      "source": [
        "os.path.splitext(os.path.abspath(a))"
      ],
      "execution_count": 0,
      "outputs": [
        {
          "output_type": "execute_result",
          "data": {
            "text/plain": [
              "('/content/biu', '.txt')"
            ]
          },
          "metadata": {
            "tags": []
          },
          "execution_count": 21
        }
      ]
    },
    {
      "cell_type": "code",
      "metadata": {
        "id": "A8lm7p8G2x0G",
        "colab_type": "code",
        "outputId": "8c43971e-d5d7-4216-9476-a21eee9641cf",
        "colab": {
          "base_uri": "https://localhost:8080/",
          "height": 34
        }
      },
      "source": [
        "os.path.exists('biu.txt')"
      ],
      "execution_count": 0,
      "outputs": [
        {
          "output_type": "execute_result",
          "data": {
            "text/plain": [
              "True"
            ]
          },
          "metadata": {
            "tags": []
          },
          "execution_count": 22
        }
      ]
    },
    {
      "cell_type": "code",
      "metadata": {
        "id": "RfEkxztZ265_",
        "colab_type": "code",
        "outputId": "233e71e5-551f-45f0-a6cb-14767ae08420",
        "colab": {
          "base_uri": "https://localhost:8080/",
          "height": 34
        }
      },
      "source": [
        "os.path.isfile('biu.txt')\n",
        "# os.path.isdir('biu.txt')"
      ],
      "execution_count": 0,
      "outputs": [
        {
          "output_type": "execute_result",
          "data": {
            "text/plain": [
              "True"
            ]
          },
          "metadata": {
            "tags": []
          },
          "execution_count": 23
        }
      ]
    },
    {
      "cell_type": "code",
      "metadata": {
        "id": "97fR-6Jc2-Su",
        "colab_type": "code",
        "outputId": "6fa367dd-5e59-410b-c210-e1346aa34f93",
        "colab": {
          "base_uri": "https://localhost:8080/",
          "height": 34
        }
      },
      "source": [
        "os.path.join(os.path.expanduser('~'),'local','bin')"
      ],
      "execution_count": 0,
      "outputs": [
        {
          "output_type": "execute_result",
          "data": {
            "text/plain": [
              "'/root/local/bin'"
            ]
          },
          "metadata": {
            "tags": []
          },
          "execution_count": 24
        }
      ]
    },
    {
      "cell_type": "markdown",
      "metadata": {
        "id": "laIeuig_4E8_",
        "colab_type": "text"
      },
      "source": [
        "### Running an external command"
      ]
    },
    {
      "cell_type": "code",
      "metadata": {
        "id": "17t9dwn63Jva",
        "colab_type": "code",
        "outputId": "9eff9f35-55d6-4537-ea6a-24fb92ce3508",
        "colab": {
          "base_uri": "https://localhost:8080/",
          "height": 34
        }
      },
      "source": [
        "os.system('ls sample_data')"
      ],
      "execution_count": 0,
      "outputs": [
        {
          "output_type": "execute_result",
          "data": {
            "text/plain": [
              "0"
            ]
          },
          "metadata": {
            "tags": []
          },
          "execution_count": 31
        }
      ]
    },
    {
      "cell_type": "markdown",
      "metadata": {
        "id": "pTo0gjAg43I0",
        "colab_type": "text"
      },
      "source": [
        "An  alternative to os.system is the [sh module]( http://amoffat.github.io/sh/)\n",
        "\n",
        "\n",
        "\n",
        "```\n",
        "import sh\n",
        "\n",
        "com = sh.ls()\n",
        "print (com)\n",
        "```\n",
        "\n"
      ]
    },
    {
      "cell_type": "markdown",
      "metadata": {
        "id": "trp3K3Bf5Nbc",
        "colab_type": "text"
      },
      "source": [
        "### Walking a directory\n",
        "\n",
        "`os.path.walk` generates a list of filenames in a directory tree"
      ]
    },
    {
      "cell_type": "code",
      "metadata": {
        "id": "tnbUMEIZ4JI4",
        "colab_type": "code",
        "outputId": "be016f50-27bd-4638-9d6a-52fe28e3f6fa",
        "colab": {
          "base_uri": "https://localhost:8080/",
          "height": 306
        }
      },
      "source": [
        "for dirpath, dirnames, filenames in os.walk(os.curdir):\n",
        "  for fp in filenames:\n",
        "    print (os.path.abspath(fp))"
      ],
      "execution_count": 0,
      "outputs": [
        {
          "output_type": "stream",
          "text": [
            "/content/biu.txt\n",
            "/content/active_config\n",
            "/content/config_sentinel\n",
            "/content/gce\n",
            "/content/.last_update_check.json\n",
            "/content/config_default\n",
            "/content/16.32.29.773392.log\n",
            "/content/16.32.26.511860.log\n",
            "/content/16.32.18.715364.log\n",
            "/content/16.32.28.981306.log\n",
            "/content/16.32.14.838477.log\n",
            "/content/anscombe.json\n",
            "/content/README.md\n",
            "/content/california_housing_test.csv\n",
            "/content/california_housing_train.csv\n",
            "/content/mnist_train_small.csv\n",
            "/content/mnist_test.csv\n"
          ],
          "name": "stdout"
        }
      ]
    },
    {
      "cell_type": "markdown",
      "metadata": {
        "id": "Z6U8XkhF5qYV",
        "colab_type": "text"
      },
      "source": [
        "### Environment vatiables"
      ]
    },
    {
      "cell_type": "code",
      "metadata": {
        "id": "kkIyInnp4UrE",
        "colab_type": "code",
        "outputId": "4ef997e6-b049-41c8-e582-3bc599b4c7c4",
        "colab": {
          "base_uri": "https://localhost:8080/",
          "height": 54
        }
      },
      "source": [
        "os.environ.keys()"
      ],
      "execution_count": 0,
      "outputs": [
        {
          "output_type": "execute_result",
          "data": {
            "text/plain": [
              "KeysView(environ({'ENV': '/root/.bashrc', 'GCS_READ_CACHE_BLOCK_SIZE_MB': '16', 'CLOUDSDK_CONFIG': '/content/.config', 'CUDA_VERSION': '10.0.130', 'PATH': '/usr/local/bin:/usr/local/nvidia/bin:/usr/local/cuda/bin:/usr/local/sbin:/usr/local/bin:/usr/sbin:/usr/bin:/sbin:/bin:/tools/node/bin:/tools/google-cloud-sdk/bin:/opt/bin', 'HOME': '/root', 'LD_LIBRARY_PATH': '/usr/local/nvidia/lib:/usr/local/nvidia/lib64', 'LANG': 'en_US.UTF-8', 'SHELL': '/bin/bash', 'LIBRARY_PATH': '/usr/local/cuda/lib64/stubs', 'CUDA_PKG_VERSION': '10-0=10.0.130-1', 'SHLVL': '1', 'NCCL_VERSION': '2.4.2', 'NVIDIA_VISIBLE_DEVICES': 'all', 'TF_FORCE_GPU_ALLOW_GROWTH': 'true', 'DEBIAN_FRONTEND': 'noninteractive', 'CUDNN_VERSION': '7.5.0.56', 'JPY_PARENT_PID': '34', 'PYTHONPATH': '/env/python', 'DATALAB_SETTINGS_OVERRIDES': '{\"kernelManagerProxyPort\":6000,\"kernelManagerProxyHost\":\"172.28.0.3\",\"jupyterArgs\":[\"--ip=\\\\\"172.28.0.2\\\\\"\"]}', 'NO_GCE_CHECK': 'True', 'GLIBCXX_FORCE_NEW': '1', 'NVIDIA_DRIVER_CAPABILITIES': 'compute,utility', '_': '/tools/node/bin/forever', 'LD_PRELOAD': '/usr/lib/x86_64-linux-gnu/libtcmalloc.so.4', 'NVIDIA_REQUIRE_CUDA': 'cuda>=10.0 brand=tesla,driver>=384,driver<385 brand=tesla,driver>=410,driver<411', 'OLDPWD': '/', 'HOSTNAME': 'bcce10cbfe2d', 'COLAB_GPU': '0', 'PWD': '/', 'GLIBCPP_FORCE_NEW': '1', 'PYTHONWARNINGS': 'ignore:::pip._internal.cli.base_command', 'TERM': 'xterm-color', 'CLICOLOR': '1', 'PAGER': 'cat', 'GIT_PAGER': 'cat', 'MPLBACKEND': 'module://ipykernel.pylab.backend_inline'}))"
            ]
          },
          "metadata": {
            "tags": []
          },
          "execution_count": 36
        }
      ]
    },
    {
      "cell_type": "code",
      "metadata": {
        "id": "KeHF7Qx35umi",
        "colab_type": "code",
        "outputId": "680181d5-2e61-4cef-ee4c-c3a8a4be76d1",
        "colab": {
          "base_uri": "https://localhost:8080/",
          "height": 34
        }
      },
      "source": [
        "os.environ['PYTHONPATH']"
      ],
      "execution_count": 0,
      "outputs": [
        {
          "output_type": "execute_result",
          "data": {
            "text/plain": [
              "'/env/python'"
            ]
          },
          "metadata": {
            "tags": []
          },
          "execution_count": 37
        }
      ]
    },
    {
      "cell_type": "code",
      "metadata": {
        "id": "DCCRsuYj5zHG",
        "colab_type": "code",
        "outputId": "c1d4420b-5b59-4d0f-f3e3-4629f6f6afdd",
        "colab": {
          "base_uri": "https://localhost:8080/",
          "height": 34
        }
      },
      "source": [
        "os.getenv('PYTHONPATH')"
      ],
      "execution_count": 0,
      "outputs": [
        {
          "output_type": "execute_result",
          "data": {
            "text/plain": [
              "'/env/python'"
            ]
          },
          "metadata": {
            "tags": []
          },
          "execution_count": 38
        }
      ]
    },
    {
      "cell_type": "markdown",
      "metadata": {
        "id": "PAwL6Rpt6DNr",
        "colab_type": "text"
      },
      "source": [
        "## `shutil`: high-level file operations\n",
        "\n",
        "- `shutil.rmtree` : Recursively delete a directory tree\n",
        "- `shutil.move` Recursively move a file or directory to another location\n",
        "- `shutil.copy` Copy files or directorys"
      ]
    },
    {
      "cell_type": "markdown",
      "metadata": {
        "id": "TIqbKmmc6Zd2",
        "colab_type": "text"
      },
      "source": [
        "##  `glob`: Pattern matching on files"
      ]
    },
    {
      "cell_type": "code",
      "metadata": {
        "id": "HI-HOtsS582q",
        "colab_type": "code",
        "outputId": "66e8cf9b-db60-4288-cb3b-116a8ba939ce",
        "colab": {
          "base_uri": "https://localhost:8080/",
          "height": 34
        }
      },
      "source": [
        "import glob\n",
        "glob.glob(\"*.txt\")"
      ],
      "execution_count": 0,
      "outputs": [
        {
          "output_type": "execute_result",
          "data": {
            "text/plain": [
              "['biu.txt']"
            ]
          },
          "metadata": {
            "tags": []
          },
          "execution_count": 39
        }
      ]
    },
    {
      "cell_type": "markdown",
      "metadata": {
        "id": "5qnt9Xy16nhC",
        "colab_type": "text"
      },
      "source": [
        "## `sys` module: system-specific information"
      ]
    },
    {
      "cell_type": "code",
      "metadata": {
        "id": "eczq0C7x6k9C",
        "colab_type": "code",
        "outputId": "a620edde-7d45-49a6-da96-d1bf753c5679",
        "colab": {
          "base_uri": "https://localhost:8080/",
          "height": 34
        }
      },
      "source": [
        "import sys\n",
        "\n",
        "sys.platform"
      ],
      "execution_count": 0,
      "outputs": [
        {
          "output_type": "execute_result",
          "data": {
            "text/plain": [
              "'linux'"
            ]
          },
          "metadata": {
            "tags": []
          },
          "execution_count": 41
        }
      ]
    },
    {
      "cell_type": "code",
      "metadata": {
        "id": "LVoBRP766t_2",
        "colab_type": "code",
        "outputId": "8d4890d5-35f1-4cd3-b493-26b4f7c2ad45",
        "colab": {
          "base_uri": "https://localhost:8080/",
          "height": 34
        }
      },
      "source": [
        "sys.version"
      ],
      "execution_count": 0,
      "outputs": [
        {
          "output_type": "execute_result",
          "data": {
            "text/plain": [
              "'3.6.7 (default, Oct 22 2018, 11:32:17) \\n[GCC 8.2.0]'"
            ]
          },
          "metadata": {
            "tags": []
          },
          "execution_count": 42
        }
      ]
    },
    {
      "cell_type": "code",
      "metadata": {
        "id": "jOOa2PaV6x_S",
        "colab_type": "code",
        "outputId": "0d94fed7-f6a5-4892-f11a-d02ad9efacc2",
        "colab": {
          "base_uri": "https://localhost:8080/",
          "height": 68
        }
      },
      "source": [
        "sys.argv"
      ],
      "execution_count": 0,
      "outputs": [
        {
          "output_type": "execute_result",
          "data": {
            "text/plain": [
              "['/usr/local/lib/python3.6/dist-packages/ipykernel_launcher.py',\n",
              " '-f',\n",
              " '/root/.local/share/jupyter/runtime/kernel-d4b2d398-48a4-40cc-81e7-62521c2847cb.json']"
            ]
          },
          "metadata": {
            "tags": []
          },
          "execution_count": 43
        }
      ]
    },
    {
      "cell_type": "code",
      "metadata": {
        "id": "q7TGc6Um60gr",
        "colab_type": "code",
        "colab": {}
      },
      "source": [
        ""
      ],
      "execution_count": 0,
      "outputs": []
    },
    {
      "cell_type": "markdown",
      "metadata": {
        "id": "IhiowplP-VP2",
        "colab_type": "text"
      },
      "source": [
        "# Numpy"
      ]
    },
    {
      "cell_type": "markdown",
      "metadata": {
        "id": "jE2CfTd-BzQD",
        "colab_type": "text"
      },
      "source": [
        "why numpy is efficient?"
      ]
    },
    {
      "cell_type": "code",
      "metadata": {
        "id": "N2OwGdtt-Xc7",
        "colab_type": "code",
        "outputId": "c93555fb-5046-46de-fc99-cdc3c100d9fc",
        "colab": {
          "base_uri": "https://localhost:8080/",
          "height": 34
        }
      },
      "source": [
        "L = range(1000)\n",
        "\n",
        "%timeit [i**2 for i in L]"
      ],
      "execution_count": 0,
      "outputs": [
        {
          "output_type": "stream",
          "text": [
            "1000 loops, best of 3: 277 µs per loop\n"
          ],
          "name": "stdout"
        }
      ]
    },
    {
      "cell_type": "code",
      "metadata": {
        "id": "TF5g7BkkBu01",
        "colab_type": "code",
        "outputId": "d2e2996f-4b9b-455c-9aa7-bfdcfed8e1bb",
        "colab": {
          "base_uri": "https://localhost:8080/",
          "height": 71
        }
      },
      "source": [
        "import numpy as np\n",
        "a = np.arange(1000)\n",
        "\n",
        "%timeit a**2"
      ],
      "execution_count": 0,
      "outputs": [
        {
          "output_type": "stream",
          "text": [
            "The slowest run took 40.56 times longer than the fastest. This could mean that an intermediate result is being cached.\n",
            "1000000 loops, best of 3: 1.36 µs per loop\n"
          ],
          "name": "stdout"
        }
      ]
    },
    {
      "cell_type": "markdown",
      "metadata": {
        "id": "ltAKBicYCQqm",
        "colab_type": "text"
      },
      "source": [
        "### Reference Documentation"
      ]
    },
    {
      "cell_type": "code",
      "metadata": {
        "id": "MPDk7GiCCCWz",
        "colab_type": "code",
        "colab": {}
      },
      "source": [
        "np.array?"
      ],
      "execution_count": 0,
      "outputs": []
    },
    {
      "cell_type": "code",
      "metadata": {
        "id": "DbBrShgMCUWs",
        "colab_type": "code",
        "outputId": "432aa8d8-d6e6-4df7-9eeb-7ba294667a2f",
        "colab": {
          "base_uri": "https://localhost:8080/",
          "height": 2465
        }
      },
      "source": [
        "np.lookfor('create array')"
      ],
      "execution_count": 0,
      "outputs": [
        {
          "output_type": "stream",
          "text": [
            "Search results for 'create array'\n",
            "---------------------------------\n",
            "numpy.array\n",
            "    Create an array.\n",
            "numpy.memmap\n",
            "    Create a memory-map to an array stored in a *binary* file on disk.\n",
            "numpy.diagflat\n",
            "    Create a two-dimensional array with the flattened input as a diagonal.\n",
            "numpy.fromiter\n",
            "    Create a new 1-dimensional array from an iterable object.\n",
            "numpy.partition\n",
            "    Return a partitioned copy of an array.\n",
            "numpy.ctypeslib.as_array\n",
            "    Create a numpy array from a ctypes array or POINTER.\n",
            "numpy.ma.diagflat\n",
            "    Create a two-dimensional array with the flattened input as a diagonal.\n",
            "numpy.ma.make_mask\n",
            "    Create a boolean mask from an array.\n",
            "numpy.ctypeslib.as_ctypes\n",
            "    Create and return a ctypes object from a numpy array.  Actually\n",
            "numpy.ma.mrecords.fromarrays\n",
            "    Creates a mrecarray from a (flat) list of masked arrays.\n",
            "numpy.ma.mvoid.__new__\n",
            "    Create a new masked array from scratch.\n",
            "numpy.lib.format.open_memmap\n",
            "    Open a .npy file as a memory-mapped array.\n",
            "numpy.ma.MaskedArray.__new__\n",
            "    Create a new masked array from scratch.\n",
            "numpy.lib.arrayterator.Arrayterator\n",
            "    Buffered iterator for big arrays.\n",
            "numpy.ma.mrecords.fromtextfile\n",
            "    Creates a mrecarray from data stored in the file `filename`.\n",
            "numpy.asarray\n",
            "    Convert the input to an array.\n",
            "numpy.ndarray\n",
            "    ndarray(shape, dtype=float, buffer=None, offset=0,\n",
            "numpy.recarray\n",
            "    Construct an ndarray that allows field access using attributes.\n",
            "numpy.chararray\n",
            "    chararray(shape, itemsize=1, unicode=False, buffer=None, offset=0,\n",
            "numpy.pad\n",
            "    Pads an array.\n",
            "numpy.asanyarray\n",
            "    Convert the input to an ndarray, but pass ndarray subclasses through.\n",
            "numpy.copy\n",
            "    Return an array copy of the given object.\n",
            "numpy.diag\n",
            "    Extract a diagonal or construct a diagonal array.\n",
            "numpy.load\n",
            "    Load arrays or pickled objects from ``.npy``, ``.npz`` or pickled files.\n",
            "numpy.sort\n",
            "    Return a sorted copy of an array.\n",
            "numpy.array_equiv\n",
            "    Returns True if input arrays are shape consistent and all elements equal.\n",
            "numpy.dtype\n",
            "    Create a data type object.\n",
            "numpy.ufunc\n",
            "    Functions that operate element by element on whole arrays.\n",
            "numpy.choose\n",
            "    Construct an array from an index array and a set of arrays to choose from.\n",
            "numpy.nditer\n",
            "    Efficient multi-dimensional iterator object to iterate over arrays.\n",
            "numpy.swapaxes\n",
            "    Interchange two axes of an array.\n",
            "numpy.full_like\n",
            "    Return a full array with the same shape and type as a given array.\n",
            "numpy.ones_like\n",
            "    Return an array of ones with the same shape and type as a given array.\n",
            "numpy.empty_like\n",
            "    Return a new array with the same shape and type as a given array.\n",
            "numpy.zeros_like\n",
            "    Return an array of zeros with the same shape and type as a given array.\n",
            "numpy.asarray_chkfinite\n",
            "    Convert the input to an array, checking for NaNs or Infs.\n",
            "numpy.diag_indices\n",
            "    Return the indices to access the main diagonal of an array.\n",
            "numpy.nested_iters\n",
            "    Create nditers for use in nested loops\n",
            "numpy.chararray.tolist\n",
            "    a.tolist()\n",
            "numpy.put_along_axis\n",
            "    Put values into the destination array by matching 1d index and data slices.\n",
            "numpy.ma.choose\n",
            "    Use an index array to construct a new array from a set of choices.\n",
            "numpy.ma.mrecords.MaskedRecords.__new__\n",
            "    Create a new masked array from scratch.\n",
            "numpy.savez_compressed\n",
            "    Save several arrays into a single file in compressed ``.npz`` format.\n",
            "numpy.matlib.rand\n",
            "    Return a matrix of random values with given shape.\n",
            "numpy.datetime_as_string\n",
            "    Convert an array of datetimes into an array of strings.\n",
            "numpy.ma.empty_like\n",
            "    Return a new array with the same shape and type as a given array.\n",
            "numpy.ma.make_mask_none\n",
            "    Return a boolean mask of the given shape, filled with False.\n",
            "numpy.ma.tests.test_subclassing.MSubArray.__new__\n",
            "    Create a new masked array from scratch.\n",
            "numpy.core.tests.test_overrides._new_duck_type_and_implements\n",
            "    Create a duck array type and implements functions.\n",
            "numpy.ma.tests.test_subclassing.SubMaskedArray.__new__\n",
            "    Create a new masked array from scratch.\n",
            "numpy.ma.mrecords.fromrecords\n",
            "    Creates a MaskedRecords from a list of records.\n",
            "numpy.f2py.tests.test_array_from_pyobj.Array.has_shared_memory\n",
            "    Check that created array shares data with input array.\n",
            "numpy.core._dtype._construction_repr\n",
            "    Creates a string repr of the dtype, excluding the 'dtype()' part\n",
            "numpy.around\n",
            "    Evenly round to the given number of decimals.\n",
            "numpy.source\n",
            "    Print or write to a file the source code for a NumPy object.\n",
            "numpy.diagonal\n",
            "    Return specified diagonals.\n",
            "numpy.nan_to_num\n",
            "    Replace NaN with zero and infinity with large finite numbers.\n",
            "numpy.einsum_path\n",
            "    Evaluates the lowest cost contraction order for an einsum expression by\n",
            "numpy.histogram2d\n",
            "    Compute the bi-dimensional histogram of two data samples.\n",
            "numpy.fft.ifft\n",
            "    Compute the one-dimensional inverse discrete Fourier Transform.\n",
            "numpy.fft.ifftn\n",
            "    Compute the N-dimensional inverse discrete Fourier Transform.\n",
            "numpy.busdaycalendar\n",
            "    A business day calendar object that efficiently stores information\n",
            "numpy.ma.tests.test_subclassing.SubArray\n",
            "    ndarray(shape, dtype=float, buffer=None, offset=0,\n",
            "numpy.core.tests.test_function_base.PhysicalQuantity2\n",
            "    ndarray(shape, dtype=float, buffer=None, offset=0,\n",
            "numpy.lib.tests.test_stride_tricks.SimpleSubClass\n",
            "    ndarray(shape, dtype=float, buffer=None, offset=0,\n",
            "numpy.ma.tests.test_subclassing.ComplicatedSubArray\n",
            "    ndarray(shape, dtype=float, buffer=None, offset=0,\n",
            "numpy.core.tests.test_numeric.TestKeepdims.sub_array\n",
            "    ndarray(shape, dtype=float, buffer=None, offset=0,\n",
            "numpy.lib.tests.test_stride_tricks.VerySimpleSubClass\n",
            "    ndarray(shape, dtype=float, buffer=None, offset=0,\n",
            "numpy.core.tests.test_multiarray.TestArrayPriority.Bar\n",
            "    ndarray(shape, dtype=float, buffer=None, offset=0,\n",
            "numpy.core.tests.test_multiarray.TestArrayPriority.Foo\n",
            "    ndarray(shape, dtype=float, buffer=None, offset=0,\n",
            "numpy.testing._gen_alignment_data\n",
            "    generator producing data with different alignment and offsets"
          ],
          "name": "stdout"
        }
      ]
    },
    {
      "cell_type": "code",
      "metadata": {
        "id": "R0oj2Mz4CZxc",
        "colab_type": "code",
        "colab": {}
      },
      "source": [
        "np.con*?"
      ],
      "execution_count": 0,
      "outputs": []
    },
    {
      "cell_type": "markdown",
      "metadata": {
        "id": "U8FncPvSCpQ6",
        "colab_type": "text"
      },
      "source": [
        "## Creating arrays"
      ]
    },
    {
      "cell_type": "code",
      "metadata": {
        "id": "WTBVzYwmCmwk",
        "colab_type": "code",
        "colab": {}
      },
      "source": [
        "# 1D\n",
        "a = np.array([0,1,2,3])"
      ],
      "execution_count": 0,
      "outputs": []
    },
    {
      "cell_type": "code",
      "metadata": {
        "id": "NdcRO1FlC91n",
        "colab_type": "code",
        "outputId": "1120a633-1be9-4aa0-fb74-02224a699410",
        "colab": {
          "base_uri": "https://localhost:8080/",
          "height": 34
        }
      },
      "source": [
        "a.shape"
      ],
      "execution_count": 0,
      "outputs": [
        {
          "output_type": "execute_result",
          "data": {
            "text/plain": [
              "(4,)"
            ]
          },
          "metadata": {
            "tags": []
          },
          "execution_count": 52
        }
      ]
    },
    {
      "cell_type": "code",
      "metadata": {
        "id": "ujerLN4qC_dH",
        "colab_type": "code",
        "outputId": "72799617-83c5-4de7-8000-f5b1ff931a70",
        "colab": {
          "base_uri": "https://localhost:8080/",
          "height": 34
        }
      },
      "source": [
        "a.ndim"
      ],
      "execution_count": 0,
      "outputs": [
        {
          "output_type": "execute_result",
          "data": {
            "text/plain": [
              "1"
            ]
          },
          "metadata": {
            "tags": []
          },
          "execution_count": 53
        }
      ]
    },
    {
      "cell_type": "code",
      "metadata": {
        "id": "JRawkP0kDAy7",
        "colab_type": "code",
        "colab": {}
      },
      "source": [
        "# 2D, 3D...\n",
        "b = np.array([[0,1,2],[3,4,5]])"
      ],
      "execution_count": 0,
      "outputs": []
    },
    {
      "cell_type": "code",
      "metadata": {
        "id": "Kfof99xaDIxf",
        "colab_type": "code",
        "outputId": "82833725-3fbf-4df6-f42f-57206725122d",
        "colab": {
          "base_uri": "https://localhost:8080/",
          "height": 34
        }
      },
      "source": [
        "b.shape"
      ],
      "execution_count": 0,
      "outputs": [
        {
          "output_type": "execute_result",
          "data": {
            "text/plain": [
              "(2, 3)"
            ]
          },
          "metadata": {
            "tags": []
          },
          "execution_count": 62
        }
      ]
    },
    {
      "cell_type": "code",
      "metadata": {
        "id": "3i25DPQoDt2T",
        "colab_type": "code",
        "outputId": "f26c5fb9-ea4a-499f-d81a-ac43d27457c7",
        "colab": {
          "base_uri": "https://localhost:8080/",
          "height": 34
        }
      },
      "source": [
        "len(b)"
      ],
      "execution_count": 0,
      "outputs": [
        {
          "output_type": "execute_result",
          "data": {
            "text/plain": [
              "2"
            ]
          },
          "metadata": {
            "tags": []
          },
          "execution_count": 63
        }
      ]
    },
    {
      "cell_type": "code",
      "metadata": {
        "id": "bFf8j6bmDJ0I",
        "colab_type": "code",
        "colab": {}
      },
      "source": [
        "# 3D\n",
        "c = np.array([[[1],[2]], [[3],[4]]])"
      ],
      "execution_count": 0,
      "outputs": []
    },
    {
      "cell_type": "code",
      "metadata": {
        "id": "dYNpYdwIDOVf",
        "colab_type": "code",
        "outputId": "f55e98db-e178-4250-82d3-995f9d745094",
        "colab": {
          "base_uri": "https://localhost:8080/",
          "height": 34
        }
      },
      "source": [
        "c.shape"
      ],
      "execution_count": 0,
      "outputs": [
        {
          "output_type": "execute_result",
          "data": {
            "text/plain": [
              "(2, 2, 1)"
            ]
          },
          "metadata": {
            "tags": []
          },
          "execution_count": 60
        }
      ]
    },
    {
      "cell_type": "code",
      "metadata": {
        "id": "0aleOw4nDhbl",
        "colab_type": "code",
        "outputId": "154f05a1-c453-486d-c56a-37f3b775e69e",
        "colab": {
          "base_uri": "https://localhost:8080/",
          "height": 34
        }
      },
      "source": [
        "len(c)"
      ],
      "execution_count": 0,
      "outputs": [
        {
          "output_type": "execute_result",
          "data": {
            "text/plain": [
              "2"
            ]
          },
          "metadata": {
            "tags": []
          },
          "execution_count": 61
        }
      ]
    },
    {
      "cell_type": "markdown",
      "metadata": {
        "id": "NRSoM-X5D3dH",
        "colab_type": "text"
      },
      "source": [
        "#### Functions for Creating arrays"
      ]
    },
    {
      "cell_type": "code",
      "metadata": {
        "id": "RLjBbqbBD2xL",
        "colab_type": "code",
        "outputId": "f1c36174-6c3b-48ea-d12c-b5b750a6313a",
        "colab": {
          "base_uri": "https://localhost:8080/",
          "height": 34
        }
      },
      "source": [
        "# Evenly spaced:\n",
        "\n",
        "a = np.arange(10)\n",
        "a"
      ],
      "execution_count": 0,
      "outputs": [
        {
          "output_type": "execute_result",
          "data": {
            "text/plain": [
              "array([0, 1, 2, 3, 4, 5, 6, 7, 8, 9])"
            ]
          },
          "metadata": {
            "tags": []
          },
          "execution_count": 68
        }
      ]
    },
    {
      "cell_type": "code",
      "metadata": {
        "id": "AfvVRBX8DrZQ",
        "colab_type": "code",
        "outputId": "3dce83f2-fab2-47d7-a925-66405c10ff90",
        "colab": {
          "base_uri": "https://localhost:8080/",
          "height": 34
        }
      },
      "source": [
        "b = np.arange(1,9,2)\n",
        "b"
      ],
      "execution_count": 0,
      "outputs": [
        {
          "output_type": "execute_result",
          "data": {
            "text/plain": [
              "array([1, 3, 5, 7])"
            ]
          },
          "metadata": {
            "tags": []
          },
          "execution_count": 70
        }
      ]
    },
    {
      "cell_type": "code",
      "metadata": {
        "id": "0tzXpEglEh87",
        "colab_type": "code",
        "outputId": "c5e5eccb-9ab3-46f7-d45a-90d91102bad8",
        "colab": {
          "base_uri": "https://localhost:8080/",
          "height": 34
        }
      },
      "source": [
        "# Or use linspace by number of points\n",
        "c = np.linspace(0,1,6)\n",
        "c"
      ],
      "execution_count": 0,
      "outputs": [
        {
          "output_type": "execute_result",
          "data": {
            "text/plain": [
              "array([0. , 0.2, 0.4, 0.6, 0.8, 1. ])"
            ]
          },
          "metadata": {
            "tags": []
          },
          "execution_count": 76
        }
      ]
    },
    {
      "cell_type": "code",
      "metadata": {
        "id": "q-ihHRMOEqkd",
        "colab_type": "code",
        "colab": {}
      },
      "source": [
        "np.linspace?\n"
      ],
      "execution_count": 0,
      "outputs": []
    },
    {
      "cell_type": "code",
      "metadata": {
        "id": "jdbNwEc2bOAO",
        "colab_type": "code",
        "colab": {}
      },
      "source": [
        "# Common arrays\n",
        "\n",
        "a = np.ones((3,3)) # Reminder, (3,3) is a tuple\n",
        "b = np.zeros((2,2))\n",
        "c = np.eye(3)\n",
        "d = np.diag(np.array([1,2,3,4]))"
      ],
      "execution_count": 0,
      "outputs": []
    },
    {
      "cell_type": "code",
      "metadata": {
        "id": "_cS1bFs1b-9r",
        "colab_type": "code",
        "colab": {}
      },
      "source": [
        "# np.random\n",
        "\n",
        "np.random.seed(1234)\n",
        "a = np.random.rand(4) # uniform in [0,1]\n",
        "b = np.random.randn(4) # Guassian"
      ],
      "execution_count": 0,
      "outputs": []
    },
    {
      "cell_type": "code",
      "metadata": {
        "id": "egmRu5DMci3N",
        "colab_type": "code",
        "colab": {}
      },
      "source": [
        "np.empty?"
      ],
      "execution_count": 0,
      "outputs": []
    },
    {
      "cell_type": "markdown",
      "metadata": {
        "id": "nrJYR39udHBg",
        "colab_type": "text"
      },
      "source": [
        "## Basic Data Types"
      ]
    },
    {
      "cell_type": "code",
      "metadata": {
        "id": "C7YzTK4rcjxO",
        "colab_type": "code",
        "outputId": "9661ded6-762a-450c-db86-1f87101055f2",
        "colab": {
          "base_uri": "https://localhost:8080/",
          "height": 68
        }
      },
      "source": [
        "a = np.array([1,2,3])\n",
        "b = np.array([1.,2., 3.]) \n",
        "print(a.dtype)\n",
        "print(b.dtype)\n",
        "c = np.array([1,2,3], dtype=float)\n",
        "print(c.dtype)"
      ],
      "execution_count": 0,
      "outputs": [
        {
          "output_type": "stream",
          "text": [
            "int64\n",
            "float64\n",
            "float64\n"
          ],
          "name": "stdout"
        }
      ]
    },
    {
      "cell_type": "code",
      "metadata": {
        "id": "C7vTrgJDckm_",
        "colab_type": "code",
        "outputId": "34d32a15-86f9-4a45-cc92-32d774f65bd6",
        "colab": {
          "base_uri": "https://localhost:8080/",
          "height": 51
        }
      },
      "source": [
        "d = np.array([1+2j,3+4j])\n",
        "print(d.dtype)\n",
        "e = np.array([True, False])\n",
        "print(e.dtype)"
      ],
      "execution_count": 0,
      "outputs": [
        {
          "output_type": "stream",
          "text": [
            "complex128\n",
            "bool\n"
          ],
          "name": "stdout"
        }
      ]
    },
    {
      "cell_type": "markdown",
      "metadata": {
        "id": "Q8HEVgD4tBcK",
        "colab_type": "text"
      },
      "source": [
        "### Basic viasualization"
      ]
    },
    {
      "cell_type": "code",
      "metadata": {
        "id": "eOpmhQy6s_Nw",
        "colab_type": "code",
        "colab": {}
      },
      "source": [
        "%matplotlib inline\n",
        "## If in IPython, just use %matplotlib"
      ],
      "execution_count": 0,
      "outputs": []
    },
    {
      "cell_type": "code",
      "metadata": {
        "id": "ESlLAOrWtXlN",
        "colab_type": "code",
        "colab": {}
      },
      "source": [
        "import matplotlib.pyplot as plt"
      ],
      "execution_count": 0,
      "outputs": []
    },
    {
      "cell_type": "code",
      "metadata": {
        "id": "Vejt7-aYtbIQ",
        "colab_type": "code",
        "outputId": "2f4b5079-1ab2-46e9-e4a3-d9e6a565cc7e",
        "colab": {
          "base_uri": "https://localhost:8080/",
          "height": 286
        }
      },
      "source": [
        "x = np.linspace(0,3,20)\n",
        "y = np.linspace(0,9,20)\n",
        "\n",
        "plt.plot(x,y)\n",
        "plt.plot(x,y,'o')"
      ],
      "execution_count": 0,
      "outputs": [
        {
          "output_type": "execute_result",
          "data": {
            "text/plain": [
              "[<matplotlib.lines.Line2D at 0x7fb418291550>]"
            ]
          },
          "metadata": {
            "tags": []
          },
          "execution_count": 97
        },
        {
          "output_type": "display_data",
          "data": {
            "image/png": "[encoded data removed]",
            "text/plain": [
              "<Figure size 432x288 with 1 Axes>"
            ]
          },
          "metadata": {
            "tags": []
          }
        }
      ]
    },
    {
      "cell_type": "code",
      "metadata": {
        "id": "aFFknCK5tnAU",
        "colab_type": "code",
        "outputId": "28b01d43-cd5e-4cc4-8e4b-2e2403f22fdc",
        "colab": {
          "base_uri": "https://localhost:8080/",
          "height": 286
        }
      },
      "source": [
        "image = np.random.rand(30,30)\n",
        "plt.imshow(image, cmap=plt.cm.hot)\n",
        "plt.colorbar()"
      ],
      "execution_count": 0,
      "outputs": [
        {
          "output_type": "execute_result",
          "data": {
            "text/plain": [
              "<matplotlib.colorbar.Colorbar at 0x7fb4181bd748>"
            ]
          },
          "metadata": {
            "tags": []
          },
          "execution_count": 98
        },
        {
          "output_type": "display_data",
          "data": {
            "image/png": "[encoded data removed]",
            "text/plain": [
              "<Figure size 432x288 with 2 Axes>"
            ]
          },
          "metadata": {
            "tags": []
          }
        }
      ]
    },
    {
      "cell_type": "markdown",
      "metadata": {
        "id": "xJeRmQKkukKn",
        "colab_type": "text"
      },
      "source": [
        "### Indexing and Slicing"
      ]
    },
    {
      "cell_type": "code",
      "metadata": {
        "id": "v41wbaQPtuqw",
        "colab_type": "code",
        "outputId": "bc5df96f-05fe-4933-9d94-2dd42587154c",
        "colab": {
          "base_uri": "https://localhost:8080/",
          "height": 68
        }
      },
      "source": [
        "a = np.diag(np.arange(3))\n",
        "a"
      ],
      "execution_count": 0,
      "outputs": [
        {
          "output_type": "execute_result",
          "data": {
            "text/plain": [
              "array([[0, 0, 0],\n",
              "       [0, 1, 0],\n",
              "       [0, 0, 2]])"
            ]
          },
          "metadata": {
            "tags": []
          },
          "execution_count": 100
        }
      ]
    },
    {
      "cell_type": "code",
      "metadata": {
        "id": "X1R2-IPctz0J",
        "colab_type": "code",
        "outputId": "7e39d09e-0a27-4b10-ec2b-e027163b1bd7",
        "colab": {
          "base_uri": "https://localhost:8080/",
          "height": 51
        }
      },
      "source": [
        "print(a[1,1])\n",
        "a[2,1]=10\n",
        "a[2]"
      ],
      "execution_count": 0,
      "outputs": [
        {
          "output_type": "stream",
          "text": [
            "1\n"
          ],
          "name": "stdout"
        },
        {
          "output_type": "execute_result",
          "data": {
            "text/plain": [
              "array([ 0, 10,  2])"
            ]
          },
          "metadata": {
            "tags": []
          },
          "execution_count": 101
        }
      ]
    },
    {
      "cell_type": "code",
      "metadata": {
        "id": "XTUWIjZWu6UA",
        "colab_type": "code",
        "outputId": "91c2dc16-d9e9-48c1-b313-686b68c16371",
        "colab": {
          "base_uri": "https://localhost:8080/",
          "height": 34
        }
      },
      "source": [
        "a = np.arange(10)\n",
        "a[::2]"
      ],
      "execution_count": 0,
      "outputs": [
        {
          "output_type": "execute_result",
          "data": {
            "text/plain": [
              "array([0, 2, 4, 6, 8])"
            ]
          },
          "metadata": {
            "tags": []
          },
          "execution_count": 102
        }
      ]
    },
    {
      "cell_type": "code",
      "metadata": {
        "id": "9R44JcF7vL8y",
        "colab_type": "code",
        "outputId": "382e3d1d-576e-4501-96da-1c8b60827016",
        "colab": {
          "base_uri": "https://localhost:8080/",
          "height": 34
        }
      },
      "source": [
        "# Combine assignment and slicing\n",
        "a[5:]=10\n",
        "a"
      ],
      "execution_count": 0,
      "outputs": [
        {
          "output_type": "execute_result",
          "data": {
            "text/plain": [
              "array([ 0,  1,  2,  3,  4, 10, 10, 10, 10, 10])"
            ]
          },
          "metadata": {
            "tags": []
          },
          "execution_count": 103
        }
      ]
    },
    {
      "cell_type": "code",
      "metadata": {
        "id": "XlmNptLyvWxW",
        "colab_type": "code",
        "outputId": "9f18aa74-4115-4247-8e61-a6a5cbb1531a",
        "colab": {
          "base_uri": "https://localhost:8080/",
          "height": 34
        }
      },
      "source": [
        "b = np.arange(5)\n",
        "a[5:] = b[::-1]\n",
        "a"
      ],
      "execution_count": 0,
      "outputs": [
        {
          "output_type": "execute_result",
          "data": {
            "text/plain": [
              "array([0, 1, 2, 3, 4, 4, 3, 2, 1, 0])"
            ]
          },
          "metadata": {
            "tags": []
          },
          "execution_count": 105
        }
      ]
    },
    {
      "cell_type": "code",
      "metadata": {
        "id": "DHEvmPB-vhmk",
        "colab_type": "code",
        "outputId": "787574d7-754b-4e9a-b076-299eb2d2c27f",
        "colab": {
          "base_uri": "https://localhost:8080/",
          "height": 119
        }
      },
      "source": [
        "a = np.arange(6) + np.arange(0, 51, 10)[:, np.newaxis]\n",
        "a"
      ],
      "execution_count": 0,
      "outputs": [
        {
          "output_type": "execute_result",
          "data": {
            "text/plain": [
              "array([[ 0,  1,  2,  3,  4,  5],\n",
              "       [10, 11, 12, 13, 14, 15],\n",
              "       [20, 21, 22, 23, 24, 25],\n",
              "       [30, 31, 32, 33, 34, 35],\n",
              "       [40, 41, 42, 43, 44, 45],\n",
              "       [50, 51, 52, 53, 54, 55]])"
            ]
          },
          "metadata": {
            "tags": []
          },
          "execution_count": 138
        }
      ]
    },
    {
      "cell_type": "markdown",
      "metadata": {
        "id": "WvYGJ7J-zIyD",
        "colab_type": "text"
      },
      "source": [
        "Note: `np.newaxis` just add 1 dimension to it, for example ,when you are 1D, it will become a 2D array, if 2D, gets 3D. "
      ]
    },
    {
      "cell_type": "code",
      "metadata": {
        "id": "lrhRm7d2wJ9n",
        "colab_type": "code",
        "outputId": "9918f738-a35e-4bb5-b944-6be73510fd61",
        "colab": {
          "base_uri": "https://localhost:8080/",
          "height": 51
        }
      },
      "source": [
        "b = a[a % 2 ==0][::-1] # Slice from the back\n",
        "b"
      ],
      "execution_count": 0,
      "outputs": [
        {
          "output_type": "execute_result",
          "data": {
            "text/plain": [
              "array([54, 52, 50, 44, 42, 40, 34, 32, 30, 24, 22, 20, 14, 12, 10,  4,  2,\n",
              "        0])"
            ]
          },
          "metadata": {
            "tags": []
          },
          "execution_count": 147
        }
      ]
    },
    {
      "cell_type": "code",
      "metadata": {
        "id": "fZQhVf-lwLFE",
        "colab_type": "code",
        "outputId": "6fcce139-781d-4a0e-cb36-6acbf2794e2b",
        "colab": {
          "base_uri": "https://localhost:8080/",
          "height": 119
        }
      },
      "source": [
        "a = ones()"
      ],
      "execution_count": 0,
      "outputs": [
        {
          "output_type": "execute_result",
          "data": {
            "text/plain": [
              "array([[ 0,  1,  2,  3,  4,  5],\n",
              "       [10, 11, 12, 13, 14, 15],\n",
              "       [20, 21, 22, 23, 24, 25],\n",
              "       [30, 31, 32, 33, 34, 35],\n",
              "       [40, 41, 42, 43, 44, 45],\n",
              "       [50, 51, 52, 53, 54, 55]])"
            ]
          },
          "metadata": {
            "tags": []
          },
          "execution_count": 144
        }
      ]
    },
    {
      "cell_type": "code",
      "metadata": {
        "id": "kDFTJAVHxMwO",
        "colab_type": "code",
        "outputId": "d6b649d9-5aa7-4710-a46b-0da1ea52cc07",
        "colab": {
          "base_uri": "https://localhost:8080/",
          "height": 119
        }
      },
      "source": [
        "np.arange(0,51,10)[:,np.newaxis]+np.arange(6)"
      ],
      "execution_count": 0,
      "outputs": [
        {
          "output_type": "execute_result",
          "data": {
            "text/plain": [
              "array([[ 0,  1,  2,  3,  4,  5],\n",
              "       [10, 11, 12, 13, 14, 15],\n",
              "       [20, 21, 22, 23, 24, 25],\n",
              "       [30, 31, 32, 33, 34, 35],\n",
              "       [40, 41, 42, 43, 44, 45],\n",
              "       [50, 51, 52, 53, 54, 55]])"
            ]
          },
          "metadata": {
            "tags": []
          },
          "execution_count": 133
        }
      ]
    },
    {
      "cell_type": "markdown",
      "metadata": {
        "id": "MVmSeqDM64BC",
        "colab_type": "text"
      },
      "source": [
        "##### Exercise: Create a diagonal matrix"
      ]
    },
    {
      "cell_type": "code",
      "metadata": {
        "id": "U8nVCuqtxQJA",
        "colab_type": "code",
        "outputId": "d0becc70-db7d-4837-a90f-820f49f0d834",
        "colab": {
          "base_uri": "https://localhost:8080/",
          "height": 119
        }
      },
      "source": [
        "a = np.array([2,3,4,5,6], dtype=float)\n",
        "b = np.diag(a,-1)\n",
        "b"
      ],
      "execution_count": 0,
      "outputs": [
        {
          "output_type": "execute_result",
          "data": {
            "text/plain": [
              "array([[0., 0., 0., 0., 0., 0.],\n",
              "       [2., 0., 0., 0., 0., 0.],\n",
              "       [0., 3., 0., 0., 0., 0.],\n",
              "       [0., 0., 4., 0., 0., 0.],\n",
              "       [0., 0., 0., 5., 0., 0.],\n",
              "       [0., 0., 0., 0., 6., 0.]])"
            ]
          },
          "metadata": {
            "tags": []
          },
          "execution_count": 162
        }
      ]
    },
    {
      "cell_type": "code",
      "metadata": {
        "id": "eq9qUf6zxlfx",
        "colab_type": "code",
        "outputId": "48fcb006-c355-4902-cd76-495c5bd65dfc",
        "colab": {
          "base_uri": "https://localhost:8080/",
          "height": 119
        }
      },
      "source": [
        "a = np.arange(2,7,dtype=float)\n",
        "b = np.diag(a,-1)\n",
        "b"
      ],
      "execution_count": 0,
      "outputs": [
        {
          "output_type": "execute_result",
          "data": {
            "text/plain": [
              "array([[0., 0., 0., 0., 0., 0.],\n",
              "       [2., 0., 0., 0., 0., 0.],\n",
              "       [0., 3., 0., 0., 0., 0.],\n",
              "       [0., 0., 4., 0., 0., 0.],\n",
              "       [0., 0., 0., 5., 0., 0.],\n",
              "       [0., 0., 0., 0., 6., 0.]])"
            ]
          },
          "metadata": {
            "tags": []
          },
          "execution_count": 163
        }
      ]
    },
    {
      "cell_type": "markdown",
      "metadata": {
        "id": "GieVNTdf7jnk",
        "colab_type": "text"
      },
      "source": [
        "#### Exercise : `np.tile`"
      ]
    },
    {
      "cell_type": "code",
      "metadata": {
        "id": "DB-CSS2gyoSs",
        "colab_type": "code",
        "outputId": "9033d31a-04f5-47ec-da79-97e497804bfb",
        "colab": {
          "base_uri": "https://localhost:8080/",
          "height": 34
        }
      },
      "source": [
        "a = np.array([0,1,2])\n",
        "b = np.tile(a,2)\n",
        "b"
      ],
      "execution_count": 0,
      "outputs": [
        {
          "output_type": "execute_result",
          "data": {
            "text/plain": [
              "array([0, 1, 2, 0, 1, 2])"
            ]
          },
          "metadata": {
            "tags": []
          },
          "execution_count": 165
        }
      ]
    },
    {
      "cell_type": "markdown",
      "metadata": {
        "id": "kWLafTAp82av",
        "colab_type": "text"
      },
      "source": [
        "### Copies and Views\n",
        "\n",
        "A slicing operation creates a **view** on the original array, which is just a way of accessing array data. Thus the original array is not copied in memory. You can use `np.may_share_memory()` to check if two arrays share the same memory block. Note however, that this uses heuristics and may give you false positives."
      ]
    },
    {
      "cell_type": "code",
      "metadata": {
        "id": "7ajpIYmk7uIU",
        "colab_type": "code",
        "outputId": "c1bd6cf4-8fda-4c34-e752-943e6bd239dd",
        "colab": {
          "base_uri": "https://localhost:8080/",
          "height": 34
        }
      },
      "source": [
        "a = np.arange(10)\n",
        "b = a[::2]\n",
        "np.may_share_memory(a,b)"
      ],
      "execution_count": 0,
      "outputs": [
        {
          "output_type": "execute_result",
          "data": {
            "text/plain": [
              "True"
            ]
          },
          "metadata": {
            "tags": []
          },
          "execution_count": 166
        }
      ]
    },
    {
      "cell_type": "code",
      "metadata": {
        "id": "02rdSRwv-Ym3",
        "colab_type": "code",
        "outputId": "8af6a14b-e1f2-4baa-a730-87579cb7e550",
        "colab": {
          "base_uri": "https://localhost:8080/",
          "height": 68
        }
      },
      "source": [
        "b[0] = 12\n",
        "print(a)\n",
        "print(b)\n",
        "np.may_share_memory(a,b)"
      ],
      "execution_count": 0,
      "outputs": [
        {
          "output_type": "stream",
          "text": [
            "[12  1  2  3  4  5  6  7  8  9]\n",
            "[12  2  4  6  8]\n"
          ],
          "name": "stdout"
        },
        {
          "output_type": "execute_result",
          "data": {
            "text/plain": [
              "True"
            ]
          },
          "metadata": {
            "tags": []
          },
          "execution_count": 168
        }
      ]
    },
    {
      "cell_type": "code",
      "metadata": {
        "id": "wtaQLHul-c1x",
        "colab_type": "code",
        "outputId": "c69ce50c-1f61-45fd-d579-dc394af43582",
        "colab": {
          "base_uri": "https://localhost:8080/",
          "height": 85
        }
      },
      "source": [
        "c = a[::2].copy() # force copy\n",
        "print(np.may_share_memory(a,c))\n",
        "c[0] = 42\n",
        "print(a)\n",
        "print(c)\n",
        "print(np.may_share_memory(a,c))"
      ],
      "execution_count": 0,
      "outputs": [
        {
          "output_type": "stream",
          "text": [
            "False\n",
            "[12  1  2  3  4  5  6  7  8  9]\n",
            "[42  2  4  6  8]\n",
            "False\n"
          ],
          "name": "stdout"
        }
      ]
    },
    {
      "cell_type": "markdown",
      "metadata": {
        "id": "uA7o0KnQ_BI3",
        "colab_type": "text"
      },
      "source": [
        "#### Worked Example: Prime number sieve( 素数筛)"
      ]
    },
    {
      "cell_type": "code",
      "metadata": {
        "id": "Vf9GvL1I-1UD",
        "colab_type": "code",
        "colab": {}
      },
      "source": [
        "is_prime = np.ones((100,),dtype=bool)\n",
        "# Cross out 0 and 1 which are not primes\n",
        "is_prime[:2]=0\n",
        "\n",
        "# Cross out higher multiples\n",
        "N_max = int(np.sqrt(len(is_prime) -1))\n",
        "for j in range(2,N_max+1):\n",
        "  is_prime[2*j::j] = False"
      ],
      "execution_count": 0,
      "outputs": []
    },
    {
      "cell_type": "code",
      "metadata": {
        "id": "lruCirIH_NFk",
        "colab_type": "code",
        "outputId": "8751db83-2ac6-43dd-99e1-8b553dc01b0d",
        "colab": {
          "base_uri": "https://localhost:8080/",
          "height": 51
        }
      },
      "source": [
        "prime_nums = np.flatnonzero(is_prime)\n",
        "prime_nums"
      ],
      "execution_count": 0,
      "outputs": [
        {
          "output_type": "execute_result",
          "data": {
            "text/plain": [
              "array([ 2,  3,  5,  7, 11, 13, 17, 19, 23, 29, 31, 37, 41, 43, 47, 53, 59,\n",
              "       61, 67, 71, 73, 79, 83, 89, 97])"
            ]
          },
          "metadata": {
            "tags": []
          },
          "execution_count": 194
        }
      ]
    },
    {
      "cell_type": "markdown",
      "metadata": {
        "id": "qlwTJDjEMWqN",
        "colab_type": "text"
      },
      "source": [
        "### Fancy Indexing\n",
        "\n",
        " NumPy arrays can be indexed with slices, but also with boolean or integer arrays (**masks**). This method is called *fancy indexing*. It creates **copies not views**."
      ]
    },
    {
      "cell_type": "code",
      "metadata": {
        "id": "cqk4jilMAqDz",
        "colab_type": "code",
        "outputId": "79fbab5b-1ab9-4f27-89bb-4073371b307f",
        "colab": {
          "base_uri": "https://localhost:8080/",
          "height": 51
        }
      },
      "source": [
        "np.random.seed(3)\n",
        "a = np.random.randint(0,21,15)\n",
        "print(a)\n",
        "mask = (a%3==0)\n",
        "extract_from_a = a[mask]\n",
        "print(extract_from_a)"
      ],
      "execution_count": 0,
      "outputs": [
        {
          "output_type": "stream",
          "text": [
            "[10  3  8  0 19 10 11  9 10  6  0 20 12  7 14]\n",
            "[ 3  0  9  6  0 12]\n"
          ],
          "name": "stdout"
        }
      ]
    },
    {
      "cell_type": "code",
      "metadata": {
        "id": "LpUlMwe-DDmF",
        "colab_type": "code",
        "outputId": "310ab5a0-fbf8-4de3-8a7f-32fee1b4ef03",
        "colab": {
          "base_uri": "https://localhost:8080/",
          "height": 34
        }
      },
      "source": [
        "a[a%3==0] = -1\n",
        "a"
      ],
      "execution_count": 0,
      "outputs": [
        {
          "output_type": "execute_result",
          "data": {
            "text/plain": [
              "array([10, -1,  8, -1, 19, 10, 11, -1, 10, -1, -1, 20, -1,  7, 14])"
            ]
          },
          "metadata": {
            "tags": []
          },
          "execution_count": 196
        }
      ]
    },
    {
      "cell_type": "code",
      "metadata": {
        "id": "CNoXCIRfFGRg",
        "colab_type": "code",
        "outputId": "744d43ba-32e9-4c48-8db9-6530b53b194e",
        "colab": {
          "base_uri": "https://localhost:8080/",
          "height": 34
        }
      },
      "source": [
        "a = np.arange(0,100,10)\n",
        "a[[2,3,2,4,5]]"
      ],
      "execution_count": 0,
      "outputs": [
        {
          "output_type": "execute_result",
          "data": {
            "text/plain": [
              "array([20, 30, 20, 40, 50])"
            ]
          },
          "metadata": {
            "tags": []
          },
          "execution_count": 197
        }
      ]
    },
    {
      "cell_type": "markdown",
      "metadata": {
        "id": "aeSxWeSTVbLJ",
        "colab_type": "text"
      },
      "source": [
        "## Numerical Operations"
      ]
    },
    {
      "cell_type": "markdown",
      "metadata": {
        "id": "FrzNUtFKgLX8",
        "colab_type": "text"
      },
      "source": [
        "Note: Array multiplication is not matrix matiplication!"
      ]
    },
    {
      "cell_type": "code",
      "metadata": {
        "id": "QHBlDn0mNQmU",
        "colab_type": "code",
        "outputId": "a233c4da-928b-4c88-96b6-5b6e9c3b8e91",
        "colab": {
          "base_uri": "https://localhost:8080/",
          "height": 170
        }
      },
      "source": [
        "c = np.ones((3,3))\n",
        "print(\"Array Mul \\n\",c*c,\"\\n\")\n",
        "print(\"Matrix Mul \\n\",c.dot(c))"
      ],
      "execution_count": 0,
      "outputs": [
        {
          "output_type": "stream",
          "text": [
            "Array Mul \n",
            " [[1. 1. 1.]\n",
            " [1. 1. 1.]\n",
            " [1. 1. 1.]] \n",
            "\n",
            "Matrix Mul \n",
            " [[3. 3. 3.]\n",
            " [3. 3. 3.]\n",
            " [3. 3. 3.]]\n"
          ],
          "name": "stdout"
        }
      ]
    },
    {
      "cell_type": "markdown",
      "metadata": {
        "id": "LwmnWrC2gR12",
        "colab_type": "text"
      },
      "source": [
        "#### Other operations\n",
        "##### Comparisions:"
      ]
    },
    {
      "cell_type": "code",
      "metadata": {
        "id": "Ul8o7Mq5X_Zj",
        "colab_type": "code",
        "outputId": "88eed129-40be-4300-fbad-cf5b09a24195",
        "colab": {
          "base_uri": "https://localhost:8080/",
          "height": 102
        }
      },
      "source": [
        "a = np.array([1,2,3,4])\n",
        "b = np.array([4,2,2,4])\n",
        "print(\"a == b\\n\",a == b)\n",
        "print(\"-\"*10)\n",
        "print(\"np.qrray_equal(a,b)\\n\", np.array_equal(a,b))"
      ],
      "execution_count": 0,
      "outputs": [
        {
          "output_type": "stream",
          "text": [
            "a == b\n",
            " [False  True False  True]\n",
            "----------\n",
            "np.qrray_equal(a,b)\n",
            " False\n"
          ],
          "name": "stdout"
        }
      ]
    },
    {
      "cell_type": "markdown",
      "metadata": {
        "id": "ANWSNcGmjaKn",
        "colab_type": "text"
      },
      "source": [
        "##### Logical Operations:"
      ]
    },
    {
      "cell_type": "code",
      "metadata": {
        "id": "KuDDPCmCgGUD",
        "colab_type": "code",
        "outputId": "b77ad12c-a605-4193-dd7b-1f445af2a2c7",
        "colab": {
          "base_uri": "https://localhost:8080/",
          "height": 34
        }
      },
      "source": [
        "a = np.array([1,1,0,0],dtype=bool)\n",
        "b = np.array([1,0,1,0],dtype=bool)\n",
        "\n",
        "np.logical_or(a,b)\n",
        "# np.logical_and(a,b)"
      ],
      "execution_count": 0,
      "outputs": [
        {
          "output_type": "execute_result",
          "data": {
            "text/plain": [
              "array([ True,  True,  True, False])"
            ]
          },
          "metadata": {
            "tags": []
          },
          "execution_count": 15
        }
      ]
    },
    {
      "cell_type": "markdown",
      "metadata": {
        "id": "JO0AnwmpjzFt",
        "colab_type": "text"
      },
      "source": [
        "##### Transcedental functions:"
      ]
    },
    {
      "cell_type": "code",
      "metadata": {
        "id": "xEMOAf2zjmgM",
        "colab_type": "code",
        "outputId": "0149f04d-0c2c-405e-b9b8-01891cb13fc8",
        "colab": {
          "base_uri": "https://localhost:8080/",
          "height": 34
        }
      },
      "source": [
        "a = np.arange(5)\n",
        "np.sin(a)\n",
        "# np.log(a)\n",
        "# np.exp(a)"
      ],
      "execution_count": 0,
      "outputs": [
        {
          "output_type": "execute_result",
          "data": {
            "text/plain": [
              "array([ 0.        ,  0.84147098,  0.90929743,  0.14112001, -0.7568025 ])"
            ]
          },
          "metadata": {
            "tags": []
          },
          "execution_count": 19
        }
      ]
    },
    {
      "cell_type": "markdown",
      "metadata": {
        "id": "xUhxDp1PkFki",
        "colab_type": "text"
      },
      "source": [
        "##### Transposition"
      ]
    },
    {
      "cell_type": "code",
      "metadata": {
        "id": "7NPHvgKhjsWI",
        "colab_type": "code",
        "outputId": "ab4b92df-e8f9-4451-9d3e-0e8b39f611b7",
        "colab": {
          "base_uri": "https://localhost:8080/",
          "height": 170
        }
      },
      "source": [
        "a = np.triu(np.ones((3,3)), 1)\n",
        "print(\"a : \\n\", a)\n",
        "print(\"-\"*15)\n",
        "print(\"a.T \\n\",a.T)"
      ],
      "execution_count": 0,
      "outputs": [
        {
          "output_type": "stream",
          "text": [
            "a : \n",
            " [[0. 1. 1.]\n",
            " [0. 0. 1.]\n",
            " [0. 0. 0.]]\n",
            "---------------\n",
            "a.T \n",
            " [[0. 0. 0.]\n",
            " [1. 0. 0.]\n",
            " [1. 1. 0.]]\n"
          ],
          "name": "stdout"
        }
      ]
    },
    {
      "cell_type": "markdown",
      "metadata": {
        "id": "P-S0hChO6FCq",
        "colab_type": "text"
      },
      "source": [
        "Notice: The transposition is a view. \n",
        "\n",
        "The following code **is wrong** and will **not make a matrix symmetric**"
      ]
    },
    {
      "cell_type": "code",
      "metadata": {
        "id": "8ePOGcjPkWhj",
        "colab_type": "code",
        "colab": {}
      },
      "source": [
        "a +=a.T"
      ],
      "execution_count": 0,
      "outputs": []
    },
    {
      "cell_type": "markdown",
      "metadata": {
        "id": "aDiIPYPv6V4A",
        "colab_type": "text"
      },
      "source": [
        "It will work for small arrays (because of buffering) but fail for large one , in unpredictable ways."
      ]
    },
    {
      "cell_type": "markdown",
      "metadata": {
        "id": "Xh_O0bYm-O_v",
        "colab_type": "text"
      },
      "source": [
        "#### Reductions"
      ]
    },
    {
      "cell_type": "code",
      "metadata": {
        "id": "a_Fjz81t3wl0",
        "colab_type": "code",
        "outputId": "d7072aae-a6ce-4aad-a0a3-449d72447159",
        "colab": {
          "base_uri": "https://localhost:8080/",
          "height": 85
        }
      },
      "source": [
        "x = np.array([[1,1],[2,2]])\n",
        "print(x)\n",
        "print(x[:,0].sum(), x[:,1].sum())\n",
        "print(x.sum(axis=0))"
      ],
      "execution_count": 0,
      "outputs": [
        {
          "output_type": "stream",
          "text": [
            "[[1 1]\n",
            " [2 2]]\n",
            "3 3\n",
            "[3 3]\n"
          ],
          "name": "stdout"
        }
      ]
    },
    {
      "cell_type": "code",
      "metadata": {
        "id": "-U9nIms-6T7z",
        "colab_type": "code",
        "outputId": "240e0f49-4e4a-4c1c-b21a-f8dac23667a2",
        "colab": {
          "base_uri": "https://localhost:8080/",
          "height": 34
        }
      },
      "source": [
        "x = np.array([8,2,4])\n",
        "x.argmin() # index of minimum"
      ],
      "execution_count": 0,
      "outputs": [
        {
          "output_type": "execute_result",
          "data": {
            "text/plain": [
              "1"
            ]
          },
          "metadata": {
            "tags": []
          },
          "execution_count": 29
        }
      ]
    },
    {
      "cell_type": "code",
      "metadata": {
        "id": "205X_zg1-dxC",
        "colab_type": "code",
        "outputId": "8311064f-f1d2-4e98-ce8a-8e2aa338dc33",
        "colab": {
          "base_uri": "https://localhost:8080/",
          "height": 34
        }
      },
      "source": [
        "# Logical operations\n",
        "np.all([True, False, True])\n",
        "# np.any()"
      ],
      "execution_count": 0,
      "outputs": [
        {
          "output_type": "execute_result",
          "data": {
            "text/plain": [
              "False"
            ]
          },
          "metadata": {
            "tags": []
          },
          "execution_count": 30
        }
      ]
    },
    {
      "cell_type": "markdown",
      "metadata": {
        "id": "--j-W6xQ-zbd",
        "colab_type": "text"
      },
      "source": [
        "Also can use `np.median(x[,axis=-1])`, `x.std()`,`x.mean()`"
      ]
    },
    {
      "cell_type": "markdown",
      "metadata": {
        "id": "sLGoDr1CFhQx",
        "colab_type": "text"
      },
      "source": [
        "#### Broadcasting"
      ]
    },
    {
      "cell_type": "markdown",
      "metadata": {
        "id": "AtXx4mRmFmDw",
        "colab_type": "text"
      },
      "source": [
        "Basic operations on `numpy` arrays are elementwise. It works on arryas of the same size.\n",
        "\n",
        "Nevertheless, It's also possible to do operations on arrays of different sizes if Numpy can transfrom these arrays so that they all have the same size, and this conversion is called [**broadcasting**](https://scipy-lectures.org/intro/numpy/operations.html#broadcasting)\n",
        "![Broadcasting](https://scipy-lectures.org/_images/numpy_broadcasting.png)"
      ]
    },
    {
      "cell_type": "code",
      "metadata": {
        "id": "_y0dkxAvFgZp",
        "colab_type": "code",
        "outputId": "71b76440-e2d4-4121-bc49-d55ac83e6290",
        "colab": {
          "base_uri": "https://localhost:8080/",
          "height": 85
        }
      },
      "source": [
        "a = np.tile(np.arange(0,40,10),(3,1)).T\n",
        "a"
      ],
      "execution_count": 0,
      "outputs": [
        {
          "output_type": "execute_result",
          "data": {
            "text/plain": [
              "array([[ 0,  0,  0],\n",
              "       [10, 10, 10],\n",
              "       [20, 20, 20],\n",
              "       [30, 30, 30]])"
            ]
          },
          "metadata": {
            "tags": []
          },
          "execution_count": 31
        }
      ]
    },
    {
      "cell_type": "code",
      "metadata": {
        "id": "lSGm4rX2-rxi",
        "colab_type": "code",
        "outputId": "0c7cc760-559b-40f5-a9e8-7249b827af8a",
        "colab": {
          "base_uri": "https://localhost:8080/",
          "height": 85
        }
      },
      "source": [
        "b = np.array([0,1,2])\n",
        "a+b"
      ],
      "execution_count": 0,
      "outputs": [
        {
          "output_type": "execute_result",
          "data": {
            "text/plain": [
              "array([[ 0,  1,  2],\n",
              "       [10, 11, 12],\n",
              "       [20, 21, 22],\n",
              "       [30, 31, 32]])"
            ]
          },
          "metadata": {
            "tags": []
          },
          "execution_count": 32
        }
      ]
    },
    {
      "cell_type": "code",
      "metadata": {
        "id": "lddXnoFsHAeE",
        "colab_type": "code",
        "outputId": "a4bc79c3-3afc-452d-f40b-9aa1d3360a20",
        "colab": {
          "base_uri": "https://localhost:8080/",
          "height": 153
        }
      },
      "source": [
        "a = np.ones((4,5))\n",
        "print(a)\n",
        "a[0]=2 # We assign an array of dimension 0 to an array of dimension 1\n",
        "print(a)"
      ],
      "execution_count": 0,
      "outputs": [
        {
          "output_type": "stream",
          "text": [
            "[[1. 1. 1. 1. 1.]\n",
            " [1. 1. 1. 1. 1.]\n",
            " [1. 1. 1. 1. 1.]\n",
            " [1. 1. 1. 1. 1.]]\n",
            "[[2. 2. 2. 2. 2.]\n",
            " [1. 1. 1. 1. 1.]\n",
            " [1. 1. 1. 1. 1.]\n",
            " [1. 1. 1. 1. 1.]]\n"
          ],
          "name": "stdout"
        }
      ]
    },
    {
      "cell_type": "markdown",
      "metadata": {
        "id": "H3mOKOS_JgPO",
        "colab_type": "text"
      },
      "source": [
        "A lot of grid-based or network-based problems can also use broadcasting. For instance, if we want to compute the distance from the origin of points on a 10x10 grid, we can do"
      ]
    },
    {
      "cell_type": "code",
      "metadata": {
        "id": "VBxcHhllHLZy",
        "colab_type": "code",
        "outputId": "66c263b3-8f4c-4729-f871-f49574362829",
        "colab": {
          "base_uri": "https://localhost:8080/",
          "height": 102
        }
      },
      "source": [
        "x, y = np.arange(5),np.arange(5)[:,np.newaxis]\n",
        "distance = np.sqrt(x**2+y**2)\n",
        "distance"
      ],
      "execution_count": 0,
      "outputs": [
        {
          "output_type": "execute_result",
          "data": {
            "text/plain": [
              "array([[0.        , 1.        , 2.        , 3.        , 4.        ],\n",
              "       [1.        , 1.41421356, 2.23606798, 3.16227766, 4.12310563],\n",
              "       [2.        , 2.23606798, 2.82842712, 3.60555128, 4.47213595],\n",
              "       [3.        , 3.16227766, 3.60555128, 4.24264069, 5.        ],\n",
              "       [4.        , 4.12310563, 4.47213595, 5.        , 5.65685425]])"
            ]
          },
          "metadata": {
            "tags": []
          },
          "execution_count": 35
        }
      ]
    },
    {
      "cell_type": "markdown",
      "metadata": {
        "id": "YDOZzB0uJsfl",
        "colab_type": "text"
      },
      "source": [
        "Or in color:"
      ]
    },
    {
      "cell_type": "code",
      "metadata": {
        "id": "cOZoHaomJp9u",
        "colab_type": "code",
        "outputId": "a20981fc-322b-4d99-f775-8e49b5b1414f",
        "colab": {
          "base_uri": "https://localhost:8080/",
          "height": 286
        }
      },
      "source": [
        "import matplotlib.pyplot as plt\n",
        "plt.pcolor(distance)    \n",
        "plt.colorbar() "
      ],
      "execution_count": 0,
      "outputs": [
        {
          "output_type": "execute_result",
          "data": {
            "text/plain": [
              "<matplotlib.colorbar.Colorbar at 0x7fb7a605dc88>"
            ]
          },
          "metadata": {
            "tags": []
          },
          "execution_count": 37
        },
        {
          "output_type": "display_data",
          "data": {
            "image/png": "[encoded data removed]",
            "text/plain": [
              "<Figure size 432x288 with 2 Axes>"
            ]
          },
          "metadata": {
            "tags": []
          }
        }
      ]
    },
    {
      "cell_type": "markdown",
      "metadata": {
        "id": "disMzzKGKvGd",
        "colab_type": "text"
      },
      "source": [
        "Remark: the `numpy.ogrid()` function allows to directly create vectors x and y of the previous example, with two \"significant dimensions\":"
      ]
    },
    {
      "cell_type": "code",
      "metadata": {
        "id": "XdlWiejzJyvF",
        "colab_type": "code",
        "outputId": "281486bb-d64f-4e60-eecb-84c431719774",
        "colab": {
          "base_uri": "https://localhost:8080/",
          "height": 136
        }
      },
      "source": [
        "x, y = np.ogrid[0:5, 0:5]\n",
        "print(x)\n",
        "print(y)\n",
        "print(x.shape, y.shape)\n",
        "distance = np.sqrt(x**2 + y**2)"
      ],
      "execution_count": 0,
      "outputs": [
        {
          "output_type": "stream",
          "text": [
            "[[0]\n",
            " [1]\n",
            " [2]\n",
            " [3]\n",
            " [4]]\n",
            "[[0 1 2 3 4]]\n",
            "(5, 1) (1, 5)\n"
          ],
          "name": "stdout"
        }
      ]
    },
    {
      "cell_type": "markdown",
      "metadata": {
        "id": "VedRZb8GLfzL",
        "colab_type": "text"
      },
      "source": [
        "#### Array shape manipulation"
      ]
    },
    {
      "cell_type": "markdown",
      "metadata": {
        "id": "IZaU3HanOdW4",
        "colab_type": "text"
      },
      "source": [
        "##### Flattening"
      ]
    },
    {
      "cell_type": "code",
      "metadata": {
        "id": "blVdaxBFKehw",
        "colab_type": "code",
        "outputId": "7288f867-e86e-44e0-8f5e-db4af24b0eb1",
        "colab": {
          "base_uri": "https://localhost:8080/",
          "height": 34
        }
      },
      "source": [
        "a = np.array([[1,2,3],[4,5,6]])\n",
        "a.ravel()"
      ],
      "execution_count": 0,
      "outputs": [
        {
          "output_type": "execute_result",
          "data": {
            "text/plain": [
              "array([1, 2, 3, 4, 5, 6])"
            ]
          },
          "metadata": {
            "tags": []
          },
          "execution_count": 48
        }
      ]
    },
    {
      "cell_type": "code",
      "metadata": {
        "id": "omd8dXE-KfwD",
        "colab_type": "code",
        "outputId": "5332d269-09c2-46dc-f878-03e7b7b0c937",
        "colab": {
          "base_uri": "https://localhost:8080/",
          "height": 68
        }
      },
      "source": [
        "a.T"
      ],
      "execution_count": 0,
      "outputs": [
        {
          "output_type": "execute_result",
          "data": {
            "text/plain": [
              "array([[1, 4],\n",
              "       [2, 5],\n",
              "       [3, 6]])"
            ]
          },
          "metadata": {
            "tags": []
          },
          "execution_count": 49
        }
      ]
    },
    {
      "cell_type": "code",
      "metadata": {
        "id": "_TtaLqoVO63Q",
        "colab_type": "code",
        "outputId": "13e0fcb4-390f-4d90-bd13-923309f58ef3",
        "colab": {
          "base_uri": "https://localhost:8080/",
          "height": 34
        }
      },
      "source": [
        "a.T.ravel()"
      ],
      "execution_count": 0,
      "outputs": [
        {
          "output_type": "execute_result",
          "data": {
            "text/plain": [
              "array([1, 4, 2, 5, 3, 6])"
            ]
          },
          "metadata": {
            "tags": []
          },
          "execution_count": 50
        }
      ]
    },
    {
      "cell_type": "markdown",
      "metadata": {
        "id": "-oKZWjmxR8ci",
        "colab_type": "text"
      },
      "source": [
        "Differences between `flatten` and `ravel` :\n",
        " - `flatten` always returns a **copy**\n",
        " - `ravel` returns a **view** whenever possible"
      ]
    },
    {
      "cell_type": "code",
      "metadata": {
        "id": "tP9b8LhsSLte",
        "colab_type": "code",
        "outputId": "21b2d52a-0b8e-4da2-f869-cfaddffb833b",
        "colab": {
          "base_uri": "https://localhost:8080/",
          "height": 85
        }
      },
      "source": [
        "a = np.array([[1,2,3],[4,5,6]])\n",
        "b = a.ravel()\n",
        "b[0] = 9\n",
        "c = a.flatten()\n",
        "c[0] = 8\n",
        "print(b)\n",
        "print(c)\n",
        "print(a)"
      ],
      "execution_count": 0,
      "outputs": [
        {
          "output_type": "stream",
          "text": [
            "[9 2 3 4 5 6]\n",
            "[8 2 3 4 5 6]\n",
            "[[9 2 3]\n",
            " [4 5 6]]\n"
          ],
          "name": "stdout"
        }
      ]
    },
    {
      "cell_type": "markdown",
      "metadata": {
        "id": "WOcjDCmwO_y0",
        "colab_type": "text"
      },
      "source": [
        "##### Reshaping"
      ]
    },
    {
      "cell_type": "code",
      "metadata": {
        "id": "-Z83_OHMO8WG",
        "colab_type": "code",
        "outputId": "36d03584-11ff-477a-f114-667d110333b9",
        "colab": {
          "base_uri": "https://localhost:8080/",
          "height": 68
        }
      },
      "source": [
        "a.reshape((3,-1))# unspecified (-1) value is inferred"
      ],
      "execution_count": 0,
      "outputs": [
        {
          "output_type": "execute_result",
          "data": {
            "text/plain": [
              "array([[1, 2],\n",
              "       [3, 4],\n",
              "       [5, 6]])"
            ]
          },
          "metadata": {
            "tags": []
          },
          "execution_count": 52
        }
      ]
    },
    {
      "cell_type": "markdown",
      "metadata": {
        "id": "C0z1vcIeQhzM",
        "colab_type": "text"
      },
      "source": [
        "##### Adding a dimension"
      ]
    },
    {
      "cell_type": "code",
      "metadata": {
        "id": "qRfFQcoKPLYM",
        "colab_type": "code",
        "outputId": "deac3896-f7fa-4e75-9685-c3914d7ec75c",
        "colab": {
          "base_uri": "https://localhost:8080/",
          "height": 34
        }
      },
      "source": [
        "z = np.array([1,2,3])\n",
        "z"
      ],
      "execution_count": 0,
      "outputs": [
        {
          "output_type": "execute_result",
          "data": {
            "text/plain": [
              "array([1, 2, 3])"
            ]
          },
          "metadata": {
            "tags": []
          },
          "execution_count": 53
        }
      ]
    },
    {
      "cell_type": "code",
      "metadata": {
        "id": "-qifFcHsQocW",
        "colab_type": "code",
        "outputId": "c28a0f44-1e93-4bc1-cf06-33571dd689c4",
        "colab": {
          "base_uri": "https://localhost:8080/",
          "height": 68
        }
      },
      "source": [
        "z[:,np.newaxis]"
      ],
      "execution_count": 0,
      "outputs": [
        {
          "output_type": "execute_result",
          "data": {
            "text/plain": [
              "array([[1],\n",
              "       [2],\n",
              "       [3]])"
            ]
          },
          "metadata": {
            "tags": []
          },
          "execution_count": 54
        }
      ]
    },
    {
      "cell_type": "code",
      "metadata": {
        "id": "XjXsQwJRQrXp",
        "colab_type": "code",
        "outputId": "09683e31-7694-4d6c-b941-8b57c5f6119a",
        "colab": {
          "base_uri": "https://localhost:8080/",
          "height": 34
        }
      },
      "source": [
        "z[np.newaxis,:]"
      ],
      "execution_count": 0,
      "outputs": [
        {
          "output_type": "execute_result",
          "data": {
            "text/plain": [
              "array([[1, 2, 3]])"
            ]
          },
          "metadata": {
            "tags": []
          },
          "execution_count": 55
        }
      ]
    },
    {
      "cell_type": "markdown",
      "metadata": {
        "id": "shFrW4cIQ5Pg",
        "colab_type": "text"
      },
      "source": [
        "##### Dimension shuffling"
      ]
    },
    {
      "cell_type": "code",
      "metadata": {
        "id": "rVtF4dPmQuLA",
        "colab_type": "code",
        "outputId": "9aac3e1a-ec1d-44e6-9be2-cf8903b3878c",
        "colab": {
          "base_uri": "https://localhost:8080/",
          "height": 85
        }
      },
      "source": [
        "a = np.arange(4*3*2).reshape(4,3,2)\n",
        "print(a.shape)\n",
        "b = a.transpose(1,2,0)\n",
        "print(b.shape)\n",
        "print(a[0,2,1])\n",
        "print(b[2,1,0])"
      ],
      "execution_count": 0,
      "outputs": [
        {
          "output_type": "stream",
          "text": [
            "(4, 3, 2)\n",
            "(3, 2, 4)\n",
            "5\n",
            "5\n"
          ],
          "name": "stdout"
        }
      ]
    },
    {
      "cell_type": "markdown",
      "metadata": {
        "id": "cUXdhV9eRd5E",
        "colab_type": "text"
      },
      "source": [
        "##### Resizing"
      ]
    },
    {
      "cell_type": "code",
      "metadata": {
        "id": "Im2d9e3lRXxL",
        "colab_type": "code",
        "outputId": "b9bcb2d6-58d8-4510-ecb0-6d1d8edc45be",
        "colab": {
          "base_uri": "https://localhost:8080/",
          "height": 34
        }
      },
      "source": [
        "a = np.arange(4)\n",
        "a.resize((8,))\n",
        "a"
      ],
      "execution_count": 0,
      "outputs": [
        {
          "output_type": "execute_result",
          "data": {
            "text/plain": [
              "array([0, 1, 2, 3, 0, 0, 0, 0])"
            ]
          },
          "metadata": {
            "tags": []
          },
          "execution_count": 57
        }
      ]
    },
    {
      "cell_type": "markdown",
      "metadata": {
        "id": "hO07puY0RnUu",
        "colab_type": "text"
      },
      "source": [
        "It must not be reffered to somewhere else:"
      ]
    },
    {
      "cell_type": "code",
      "metadata": {
        "id": "2sEAi5dbRksY",
        "colab_type": "code",
        "outputId": "a8dfeb09-f1c7-4633-d6f6-cefeb120972a",
        "colab": {
          "base_uri": "https://localhost:8080/",
          "height": 214
        }
      },
      "source": [
        "b = a\n",
        "a.resize((4,))"
      ],
      "execution_count": 0,
      "outputs": [
        {
          "output_type": "error",
          "ename": "ValueError",
          "evalue": "ignored",
          "traceback": [
            "\u001b[0;31m---------------------------------------------------------------------------\u001b[0m",
            "\u001b[0;31mValueError\u001b[0m                                Traceback (most recent call last)",
            "\u001b[0;32m<ipython-input-58-665bd5cc7e2d>\u001b[0m in \u001b[0;36m<module>\u001b[0;34m()\u001b[0m\n\u001b[1;32m      1\u001b[0m \u001b[0mb\u001b[0m \u001b[0;34m=\u001b[0m \u001b[0ma\u001b[0m\u001b[0;34m\u001b[0m\u001b[0;34m\u001b[0m\u001b[0m\n\u001b[0;32m----> 2\u001b[0;31m \u001b[0ma\u001b[0m\u001b[0;34m.\u001b[0m\u001b[0mresize\u001b[0m\u001b[0;34m(\u001b[0m\u001b[0;34m(\u001b[0m\u001b[0;36m4\u001b[0m\u001b[0;34m,\u001b[0m\u001b[0;34m)\u001b[0m\u001b[0;34m)\u001b[0m\u001b[0;34m\u001b[0m\u001b[0;34m\u001b[0m\u001b[0m\n\u001b[0m",
            "\u001b[0;31mValueError\u001b[0m: cannot resize an array that references or is referenced\nby another array in this way.\nUse the np.resize function or refcheck=False"
          ]
        }
      ]
    },
    {
      "cell_type": "markdown",
      "metadata": {
        "id": "6mjZ-wVXS8Hc",
        "colab_type": "text"
      },
      "source": [
        "#### Sorting data"
      ]
    },
    {
      "cell_type": "code",
      "metadata": {
        "id": "Tv4mhKxvRtPb",
        "colab_type": "code",
        "outputId": "8dcb1549-c9a5-4fd9-c9af-80289cbe64ab",
        "colab": {
          "base_uri": "https://localhost:8080/",
          "height": 51
        }
      },
      "source": [
        "a = np.array([[4,3,5],[1,2,1]])\n",
        "b = np.sort(a, axis=1)\n",
        "b"
      ],
      "execution_count": 0,
      "outputs": [
        {
          "output_type": "execute_result",
          "data": {
            "text/plain": [
              "array([[3, 4, 5],\n",
              "       [1, 1, 2]])"
            ]
          },
          "metadata": {
            "tags": []
          },
          "execution_count": 63
        }
      ]
    },
    {
      "cell_type": "markdown",
      "metadata": {
        "id": "z_lIMH1MTOO7",
        "colab_type": "text"
      },
      "source": [
        "In-place sort"
      ]
    },
    {
      "cell_type": "code",
      "metadata": {
        "id": "H14ZfKV7THns",
        "colab_type": "code",
        "outputId": "449c3965-d6f1-441e-db27-155c6de72b31",
        "colab": {
          "base_uri": "https://localhost:8080/",
          "height": 51
        }
      },
      "source": [
        "a.sort(axis=1)\n",
        "a"
      ],
      "execution_count": 0,
      "outputs": [
        {
          "output_type": "execute_result",
          "data": {
            "text/plain": [
              "array([[3, 4, 5],\n",
              "       [1, 1, 2]])"
            ]
          },
          "metadata": {
            "tags": []
          },
          "execution_count": 64
        }
      ]
    },
    {
      "cell_type": "markdown",
      "metadata": {
        "id": "IeWX_SoDTUlj",
        "colab_type": "text"
      },
      "source": [
        "Sorting with fancy indexing:"
      ]
    },
    {
      "cell_type": "code",
      "metadata": {
        "id": "Jut06BjjTTZc",
        "colab_type": "code",
        "outputId": "9f97449c-3379-4ad3-ab51-38c80dc795c6",
        "colab": {
          "base_uri": "https://localhost:8080/",
          "height": 51
        }
      },
      "source": [
        "a = np.array([4,3,1,2])\n",
        "j = np.argsort(a)\n",
        "print(j)\n",
        "print(a[j])"
      ],
      "execution_count": 0,
      "outputs": [
        {
          "output_type": "stream",
          "text": [
            "[2 3 1 0]\n",
            "[1 2 3 4]\n"
          ],
          "name": "stdout"
        }
      ]
    },
    {
      "cell_type": "code",
      "metadata": {
        "id": "d9EFkXV8TddW",
        "colab_type": "code",
        "outputId": "9b2b7af7-9863-4553-e087-141b63a6dc59",
        "colab": {
          "base_uri": "https://localhost:8080/",
          "height": 34
        }
      },
      "source": [
        "# Or using this to get a sortable array faster\n",
        "arr = np.arange(10)#.reshape((3,3))\n",
        "np.random.shuffle(arr)\n",
        "arr\n"
      ],
      "execution_count": 0,
      "outputs": [
        {
          "output_type": "execute_result",
          "data": {
            "text/plain": [
              "array([5, 0, 8, 6, 7, 3, 9, 4, 2, 1])"
            ]
          },
          "metadata": {
            "tags": []
          },
          "execution_count": 69
        }
      ]
    },
    {
      "cell_type": "markdown",
      "metadata": {
        "id": "3YCftgccP_62",
        "colab_type": "text"
      },
      "source": [
        "### More elaborate arrays"
      ]
    },
    {
      "cell_type": "markdown",
      "metadata": {
        "id": "Qhn1DOfrR1Aw",
        "colab_type": "text"
      },
      "source": [
        "Assignment never changes the type !"
      ]
    },
    {
      "cell_type": "code",
      "metadata": {
        "id": "v-ZRC66DT63c",
        "colab_type": "code",
        "outputId": "c59643c4-78aa-467a-a544-82f8726b9449",
        "colab": {
          "base_uri": "https://localhost:8080/",
          "height": 51
        }
      },
      "source": [
        "a = np.array([1,2,3,4])\n",
        "print(a.dtype)\n",
        "a[0]= 9.8 # float is truncated to int\n",
        "print(a)"
      ],
      "execution_count": 0,
      "outputs": [
        {
          "output_type": "stream",
          "text": [
            "int64\n",
            "[9 2 3 4]\n"
          ],
          "name": "stdout"
        }
      ]
    },
    {
      "cell_type": "code",
      "metadata": {
        "id": "MR1vlr-0SFRn",
        "colab_type": "code",
        "outputId": "ca3dd542-8dcd-4d8d-91d3-838bb6c715ea",
        "colab": {
          "base_uri": "https://localhost:8080/",
          "height": 34
        }
      },
      "source": [
        "# forced cast\n",
        "a = np.array([2.4,234.6, 2.3])\n",
        "b = a.astype(int)\n",
        "b"
      ],
      "execution_count": 0,
      "outputs": [
        {
          "output_type": "execute_result",
          "data": {
            "text/plain": [
              "array([  2, 234,   2])"
            ]
          },
          "metadata": {
            "tags": []
          },
          "execution_count": 6
        }
      ]
    },
    {
      "cell_type": "markdown",
      "metadata": {
        "id": "kMIGnO62SkRh",
        "colab_type": "text"
      },
      "source": [
        "Rounding"
      ]
    },
    {
      "cell_type": "code",
      "metadata": {
        "id": "AsthJf7BSePE",
        "colab_type": "code",
        "outputId": "c67f3ac2-7ccf-4a04-fdd2-1bb08f6878c2",
        "colab": {
          "base_uri": "https://localhost:8080/",
          "height": 34
        }
      },
      "source": [
        "a = np.array([1,1.5,1.6,2.3,23.6])\n",
        "b = np.around(a)\n",
        "b # still floating-point"
      ],
      "execution_count": 0,
      "outputs": [
        {
          "output_type": "execute_result",
          "data": {
            "text/plain": [
              "array([ 1.,  2.,  2.,  2., 24.])"
            ]
          },
          "metadata": {
            "tags": []
          },
          "execution_count": 7
        }
      ]
    },
    {
      "cell_type": "markdown",
      "metadata": {
        "id": "QKHM8THMS3VI",
        "colab_type": "text"
      },
      "source": [
        "Get the max of the type"
      ]
    },
    {
      "cell_type": "code",
      "metadata": {
        "id": "8GiDNzhoSuTP",
        "colab_type": "code",
        "outputId": "7e88bd80-45bf-4d75-97d4-b9ef01b9cd3f",
        "colab": {
          "base_uri": "https://localhost:8080/",
          "height": 34
        }
      },
      "source": [
        "np.iinfo(np.int32).max , 2**31-1"
      ],
      "execution_count": 0,
      "outputs": [
        {
          "output_type": "execute_result",
          "data": {
            "text/plain": [
              "(2147483647, 2147483647)"
            ]
          },
          "metadata": {
            "tags": []
          },
          "execution_count": 10
        }
      ]
    },
    {
      "cell_type": "code",
      "metadata": {
        "id": "RPLlIXofS8im",
        "colab_type": "code",
        "outputId": "12bdd409-6030-4645-bdc8-19c127551ae4",
        "colab": {
          "base_uri": "https://localhost:8080/",
          "height": 34
        }
      },
      "source": [
        "np.iinfo(np.uint32).max , 2**32-1"
      ],
      "execution_count": 0,
      "outputs": [
        {
          "output_type": "execute_result",
          "data": {
            "text/plain": [
              "(4294967295, 4294967295)"
            ]
          },
          "metadata": {
            "tags": []
          },
          "execution_count": 11
        }
      ]
    },
    {
      "cell_type": "code",
      "metadata": {
        "id": "QcjN93a2TJiG",
        "colab_type": "code",
        "outputId": "38f1dbf3-8af4-4e83-9707-42d6d3bc3f0d",
        "colab": {
          "base_uri": "https://localhost:8080/",
          "height": 51
        }
      },
      "source": [
        "print(np.finfo(np.float64).eps)\n",
        "print(np.finfo(np.float32).eps)"
      ],
      "execution_count": 0,
      "outputs": [
        {
          "output_type": "stream",
          "text": [
            "2.220446049250313e-16\n",
            "1.1920929e-07\n"
          ],
          "name": "stdout"
        }
      ]
    },
    {
      "cell_type": "code",
      "metadata": {
        "id": "0-9fgwuMTTtm",
        "colab_type": "code",
        "outputId": "c7fda77d-727b-493a-c48d-9488e7db31c8",
        "colab": {
          "base_uri": "https://localhost:8080/",
          "height": 68
        }
      },
      "source": [
        "print(np.float64(1e-8) + np.float64(1) == 1)\n",
        "print(np.float64(1e-16) + np.float64(1) == 1)\n",
        "\n",
        "print(np.float32(1e-8) + np.float32(1) ==1)"
      ],
      "execution_count": 0,
      "outputs": [
        {
          "output_type": "stream",
          "text": [
            "False\n",
            "True\n",
            "True\n"
          ],
          "name": "stdout"
        }
      ]
    },
    {
      "cell_type": "markdown",
      "metadata": {
        "id": "bkTGgAO3Usbx",
        "colab_type": "text"
      },
      "source": [
        "#### Structured data types"
      ]
    },
    {
      "cell_type": "markdown",
      "metadata": {
        "id": "0kF6ZktTUwJ9",
        "colab_type": "text"
      },
      "source": [
        "`sensor_code` |  (4-character string)\n",
        "\n",
        "\n",
        "`position` |  (float)\n",
        "\n",
        "\n",
        "`value` | (float)"
      ]
    },
    {
      "cell_type": "code",
      "metadata": {
        "id": "qm6rAo3ETbgo",
        "colab_type": "code",
        "outputId": "dc5d7360-674a-476c-a7c5-afbf4649c58d",
        "colab": {
          "base_uri": "https://localhost:8080/",
          "height": 51
        }
      },
      "source": [
        "samples = np.zeros((6,),dtype=[('sensor_code','S4'), \n",
        "                               ('position',float),('value',float)])\n",
        "print(samples.shape)\n",
        "print(samples.dtype.names)"
      ],
      "execution_count": 0,
      "outputs": [
        {
          "output_type": "stream",
          "text": [
            "(6,)\n",
            "('sensor_code', 'position', 'value')\n"
          ],
          "name": "stdout"
        }
      ]
    },
    {
      "cell_type": "code",
      "metadata": {
        "id": "xIHViA3qUGIJ",
        "colab_type": "code",
        "outputId": "743e66ce-cd1b-4bf6-e733-a3457cf70995",
        "colab": {
          "base_uri": "https://localhost:8080/",
          "height": 68
        }
      },
      "source": [
        "samples[:] = [('ALFA',   1, 0.37), ('BETA', 1, 0.11), ('TAU', 1,   0.13),\n",
        "              ('ALFA', 1.5, 0.37), ('ALFA', 3, 0.11), ('TAU', 1.2, 0.13)]\n",
        "samples"
      ],
      "execution_count": 0,
      "outputs": [
        {
          "output_type": "execute_result",
          "data": {
            "text/plain": [
              "array([(b'ALFA', 1. , 0.37), (b'BETA', 1. , 0.11), (b'TAU', 1. , 0.13),\n",
              "       (b'ALFA', 1.5, 0.37), (b'ALFA', 3. , 0.11), (b'TAU', 1.2, 0.13)],\n",
              "      dtype=[('sensor_code', 'S4'), ('position', '<f8'), ('value', '<f8')])"
            ]
          },
          "metadata": {
            "tags": []
          },
          "execution_count": 43
        }
      ]
    },
    {
      "cell_type": "code",
      "metadata": {
        "id": "xZ6eziQ0VyU8",
        "colab_type": "code",
        "outputId": "4e09e7db-4e54-43c7-e8f6-0a78a990f1ed",
        "colab": {
          "base_uri": "https://localhost:8080/",
          "height": 34
        }
      },
      "source": [
        "#  Field access works by indexing with field names:\n",
        "samples['sensor_code']"
      ],
      "execution_count": 0,
      "outputs": [
        {
          "output_type": "execute_result",
          "data": {
            "text/plain": [
              "array([b'ALFA', b'BETA', b'TAU', b'ALFA', b'ALFA', b'TAU'], dtype='|S4')"
            ]
          },
          "metadata": {
            "tags": []
          },
          "execution_count": 38
        }
      ]
    },
    {
      "cell_type": "code",
      "metadata": {
        "id": "mliTQyCqWFRS",
        "colab_type": "code",
        "outputId": "742b0fb8-d425-425d-8839-4e4ddc91c891",
        "colab": {
          "base_uri": "https://localhost:8080/",
          "height": 68
        }
      },
      "source": [
        "samples[0]['sensor_code']='TAU'\n",
        "samples[0]\n",
        "samples"
      ],
      "execution_count": 0,
      "outputs": [
        {
          "output_type": "execute_result",
          "data": {
            "text/plain": [
              "array([(b'TAU', 1. , 0.37), (b'BETA', 1. , 0.11), (b'TAU', 1. , 0.13),\n",
              "       (b'ALFA', 1.5, 0.37), (b'ALFA', 3. , 0.11), (b'TAU', 1.2, 0.13)],\n",
              "      dtype=[('sensor_code', 'S4'), ('position', '<f8'), ('value', '<f8')])"
            ]
          },
          "metadata": {
            "tags": []
          },
          "execution_count": 39
        }
      ]
    },
    {
      "cell_type": "code",
      "metadata": {
        "id": "ELRSZcSLWOLA",
        "colab_type": "code",
        "outputId": "d594bf1b-abd8-415c-f0f1-a69e323e6508",
        "colab": {
          "base_uri": "https://localhost:8080/",
          "height": 68
        }
      },
      "source": [
        "samples[['position','value']]"
      ],
      "execution_count": 0,
      "outputs": [
        {
          "output_type": "execute_result",
          "data": {
            "text/plain": [
              "array([(1. , 0.37), (1. , 0.11), (1. , 0.13), (1.5, 0.37), (3. , 0.11),\n",
              "       (1.2, 0.13)],\n",
              "      dtype={'names':['position','value'], 'formats':['<f8','<f8'], 'offsets':[4,12], 'itemsize':20})"
            ]
          },
          "metadata": {
            "tags": []
          },
          "execution_count": 40
        }
      ]
    },
    {
      "cell_type": "markdown",
      "metadata": {
        "id": "7JQwjoNxYMGw",
        "colab_type": "text"
      },
      "source": [
        "### Advanced operations"
      ]
    },
    {
      "cell_type": "markdown",
      "metadata": {
        "id": "PptOuiCFY1vW",
        "colab_type": "text"
      },
      "source": [
        "#### Polynomials"
      ]
    },
    {
      "cell_type": "code",
      "metadata": {
        "id": "oD3yGab2WS7x",
        "colab_type": "code",
        "outputId": "65dda284-5bb0-4726-d7d4-d54ca400f65f",
        "colab": {
          "base_uri": "https://localhost:8080/",
          "height": 68
        }
      },
      "source": [
        "# 3x**2 + 2x -1\n",
        "import numpy as np\n",
        "p = np.poly1d([3,2,-1])\n",
        "print(p(0))\n",
        "print(p.roots)\n",
        "print(p.order)"
      ],
      "execution_count": 0,
      "outputs": [
        {
          "output_type": "stream",
          "text": [
            "-1\n",
            "[-1.          0.33333333]\n",
            "2\n"
          ],
          "name": "stdout"
        }
      ]
    },
    {
      "cell_type": "code",
      "metadata": {
        "id": "e-rfoxBCWchW",
        "colab_type": "code",
        "outputId": "588746ca-5019-4de3-c95b-6b2a1b059621",
        "colab": {
          "base_uri": "https://localhost:8080/",
          "height": 303
        }
      },
      "source": [
        "import matplotlib.pyplot as plt\n",
        "x = np.linspace(0,1,20)\n",
        "y = np.cos(x) + 0.3*np.random.rand(20)\n",
        "p = np.poly1d(np.polyfit(x,y,3))\n",
        "\n",
        "t = np.linspace(0,1,200)\n",
        "plt.plot(x,y,'o',t, p(t), '-')"
      ],
      "execution_count": 0,
      "outputs": [
        {
          "output_type": "execute_result",
          "data": {
            "text/plain": [
              "[<matplotlib.lines.Line2D at 0x7ffb76857cc0>,\n",
              " <matplotlib.lines.Line2D at 0x7ffb767c02b0>]"
            ]
          },
          "metadata": {
            "tags": []
          },
          "execution_count": 6
        },
        {
          "output_type": "display_data",
          "data": {
            "image/png": "[encoded data removed]",
            "text/plain": [
              "<Figure size 432x288 with 1 Axes>"
            ]
          },
          "metadata": {
            "tags": []
          }
        }
      ]
    },
    {
      "cell_type": "code",
      "metadata": {
        "id": "ua3TLsWaXCy2",
        "colab_type": "code",
        "outputId": "4305a658-68f1-49db-8586-1ba49184a3d5",
        "colab": {
          "base_uri": "https://localhost:8080/",
          "height": 68
        }
      },
      "source": [
        "p = np.polynomial.Polynomial([-1, 2, 3]) # coefs in different order!\n",
        "print(p(0))\n",
        "print(p.roots())\n",
        "\n",
        "p.degree()  # In general polynomials do not always expose 'order'"
      ],
      "execution_count": 0,
      "outputs": [
        {
          "output_type": "stream",
          "text": [
            "-1.0\n",
            "[-1.          0.33333333]\n"
          ],
          "name": "stdout"
        },
        {
          "output_type": "execute_result",
          "data": {
            "text/plain": [
              "2"
            ]
          },
          "metadata": {
            "tags": []
          },
          "execution_count": 9
        }
      ]
    },
    {
      "cell_type": "markdown",
      "metadata": {
        "id": "NtGc1IhUh1Ya",
        "colab_type": "text"
      },
      "source": [
        "### Some exercises\n",
        "\n",
        "[Exercise](https://scipy-lectures.org/intro/numpy/exercises.html)"
      ]
    },
    {
      "cell_type": "code",
      "metadata": {
        "id": "UcJjJL8rX-eL",
        "colab_type": "code",
        "outputId": "e36785a5-3e30-4c8b-da97-d34ee2be827f",
        "colab": {
          "base_uri": "https://localhost:8080/",
          "height": 153
        }
      },
      "source": [
        "# Exercise 1\n",
        "a = np.arange(15).reshape(3,5).T+1 # Generate a 2-D array\n",
        "print(a)\n",
        "print(\"-\"*15)\n",
        "b = a[[1,3],:] # get the 2nd and 4th rows\n",
        "print(b)"
      ],
      "execution_count": 0,
      "outputs": [
        {
          "output_type": "stream",
          "text": [
            "[[ 1  6 11]\n",
            " [ 2  7 12]\n",
            " [ 3  8 13]\n",
            " [ 4  9 14]\n",
            " [ 5 10 15]]\n",
            "---------------\n",
            "[[ 2  7 12]\n",
            " [ 4  9 14]]\n"
          ],
          "name": "stdout"
        }
      ]
    },
    {
      "cell_type": "code",
      "metadata": {
        "id": "MiHWJSduiIvO",
        "colab_type": "code",
        "outputId": "b3891d8b-107d-45da-b309-8dbdc84df1c6",
        "colab": {
          "base_uri": "https://localhost:8080/",
          "height": 204
        }
      },
      "source": [
        "# Exercise 2\n",
        "a = np.arange(25).reshape(5,5)\n",
        "print(a,\"\\n\",\"-\"*15)\n",
        "b = np.array([1.,5,10,15,20])\n",
        "# Divide each column of the array\n",
        "c = b[:,np.newaxis]\n",
        "a/c"
      ],
      "execution_count": 0,
      "outputs": [
        {
          "output_type": "stream",
          "text": [
            "[[ 0  1  2  3  4]\n",
            " [ 5  6  7  8  9]\n",
            " [10 11 12 13 14]\n",
            " [15 16 17 18 19]\n",
            " [20 21 22 23 24]] \n",
            " ---------------\n"
          ],
          "name": "stdout"
        },
        {
          "output_type": "execute_result",
          "data": {
            "text/plain": [
              "array([[0.        , 1.        , 2.        , 3.        , 4.        ],\n",
              "       [1.        , 1.2       , 1.4       , 1.6       , 1.8       ],\n",
              "       [1.        , 1.1       , 1.2       , 1.3       , 1.4       ],\n",
              "       [1.        , 1.06666667, 1.13333333, 1.2       , 1.26666667],\n",
              "       [1.        , 1.05      , 1.1       , 1.15      , 1.2       ]])"
            ]
          },
          "metadata": {
            "tags": []
          },
          "execution_count": 18
        }
      ]
    },
    {
      "cell_type": "code",
      "metadata": {
        "id": "-9iHhh7njhe6",
        "colab_type": "code",
        "outputId": "42b76dea-077b-4cb0-ac72-db774995e409",
        "colab": {
          "base_uri": "https://localhost:8080/",
          "height": 51
        }
      },
      "source": [
        "a = np.random.rand(10,3)\n",
        "b = np.argmin(abs(a-.5),axis=1).choose(a.T)\n",
        "b"
      ],
      "execution_count": 0,
      "outputs": [
        {
          "output_type": "execute_result",
          "data": {
            "text/plain": [
              "array([0.65886132, 0.28393042, 0.56585939, 0.22105853, 0.52350612,\n",
              "       0.35054884, 0.27841702, 0.69402879, 0.18696692, 0.67898198])"
            ]
          },
          "metadata": {
            "tags": []
          },
          "execution_count": 35
        }
      ]
    },
    {
      "cell_type": "markdown",
      "metadata": {
        "id": "uUf0Dpq_hzqM",
        "colab_type": "text"
      },
      "source": [
        "#### Pictrue manipulation: Framing a Face"
      ]
    },
    {
      "cell_type": "code",
      "metadata": {
        "id": "20icLLEdw_6n",
        "colab_type": "code",
        "outputId": "9e0d0736-e2fa-46c0-c692-254bc9e786c3",
        "colab": {
          "base_uri": "https://localhost:8080/",
          "height": 286
        }
      },
      "source": [
        "from scipy import misc\n",
        "import pylab as plt\n",
        "\n",
        "face = misc.face(gray=True)\n",
        "plt.imshow(face)"
      ],
      "execution_count": 0,
      "outputs": [
        {
          "output_type": "execute_result",
          "data": {
            "text/plain": [
              "<matplotlib.image.AxesImage at 0x7ffb6d576898>"
            ]
          },
          "metadata": {
            "tags": []
          },
          "execution_count": 45
        },
        {
          "output_type": "display_data",
          "data": {
            "image/png": "[encoded data removed]",
            "text/plain": [
              "<Figure size 432x288 with 1 Axes>"
            ]
          },
          "metadata": {
            "tags": []
          }
        }
      ]
    },
    {
      "cell_type": "code",
      "metadata": {
        "id": "-vLUOEkcxHqI",
        "colab_type": "code",
        "outputId": "f8706da8-3738-488d-f903-05b5d91bdea1",
        "colab": {
          "base_uri": "https://localhost:8080/",
          "height": 286
        }
      },
      "source": [
        "plt.imshow(face, cmap=plt.cm.gray)"
      ],
      "execution_count": 0,
      "outputs": [
        {
          "output_type": "execute_result",
          "data": {
            "text/plain": [
              "<matplotlib.image.AxesImage at 0x7ffb6d4d2da0>"
            ]
          },
          "metadata": {
            "tags": []
          },
          "execution_count": 46
        },
        {
          "output_type": "display_data",
          "data": {
            "image/png": "[encoded data removed]",
            "text/plain": [
              "<Figure size 432x288 with 1 Axes>"
            ]
          },
          "metadata": {
            "tags": []
          }
        }
      ]
    },
    {
      "cell_type": "code",
      "metadata": {
        "id": "Zv4wETGmxdEX",
        "colab_type": "code",
        "outputId": "461f87d7-d7fa-4680-c529-c53137679915",
        "colab": {
          "base_uri": "https://localhost:8080/",
          "height": 286
        }
      },
      "source": [
        "crop_face = face[100:-100, 100:-100] # Crop the face\n",
        "plt.imshow(crop_face, cmap=plt.cm.gray)"
      ],
      "execution_count": 0,
      "outputs": [
        {
          "output_type": "execute_result",
          "data": {
            "text/plain": [
              "<matplotlib.image.AxesImage at 0x7ffb6d456588>"
            ]
          },
          "metadata": {
            "tags": []
          },
          "execution_count": 49
        },
        {
          "output_type": "display_data",
          "data": {
            "image/png": "[encoded data removed]",
            "text/plain": [
              "<Figure size 432x288 with 1 Axes>"
            ]
          },
          "metadata": {
            "tags": []
          }
        }
      ]
    },
    {
      "cell_type": "code",
      "metadata": {
        "id": "IkDbksIixxHl",
        "colab_type": "code",
        "outputId": "51d1f014-bf93-4482-de39-83c6af24bd52",
        "colab": {
          "base_uri": "https://localhost:8080/",
          "height": 303
        }
      },
      "source": [
        "# Create a mask corresponding to the pixels we want to be black.\n",
        "# The center of the face is around(660, 330)\n",
        "\n",
        "sy, sx = face.shape\n",
        "y, x = np.ogrid[0:sy,0:sx]\n",
        "print(y.shape, x.shape)\n",
        "centerx, centery = (660, 300)\n",
        "mask = ((y-centery)**2 + (x-centerx)**2) >230**2\n",
        "\n",
        "face[mask] = 0\n",
        "plt.imshow(face, cmap=plt.cm.gray)\n"
      ],
      "execution_count": 0,
      "outputs": [
        {
          "output_type": "stream",
          "text": [
            "(768, 1) (1, 1024)\n"
          ],
          "name": "stdout"
        },
        {
          "output_type": "execute_result",
          "data": {
            "text/plain": [
              "<matplotlib.image.AxesImage at 0x7ffb6d2126d8>"
            ]
          },
          "metadata": {
            "tags": []
          },
          "execution_count": 56
        },
        {
          "output_type": "display_data",
          "data": {
            "image/png": "[encoded data removed]",
            "text/plain": [
              "<Figure size 432x288 with 1 Axes>"
            ]
          },
          "metadata": {
            "tags": []
          }
        }
      ]
    },
    {
      "cell_type": "markdown",
      "metadata": {
        "id": "PJKiITiB0GqW",
        "colab_type": "text"
      },
      "source": [
        "#### Data statistics"
      ]
    },
    {
      "cell_type": "code",
      "metadata": {
        "id": "BhWrGuqqyowU",
        "colab_type": "code",
        "outputId": "07f01af8-f898-4831-daee-25a8fb645b96",
        "colab": {
          "base_uri": "https://localhost:8080/",
          "height": 299
        }
      },
      "source": [
        "data = np.loadtxt('populations.txt')\n",
        "\n",
        "year, hares, lynxes, carrots = data.T\n",
        "\n",
        "import matplotlib.pyplot as plt\n",
        "plt.axes([0.2,0.1,0.5,0.8])\n",
        "plt.plot(year, hares, year, lynxes, year, carrots) \n",
        "plt.legend(('Hare', 'Lynx', 'Carrot'), loc=(1.05, 0.5))"
      ],
      "execution_count": 0,
      "outputs": [
        {
          "output_type": "execute_result",
          "data": {
            "text/plain": [
              "<matplotlib.legend.Legend at 0x7ffb6c6c1198>"
            ]
          },
          "metadata": {
            "tags": []
          },
          "execution_count": 63
        },
        {
          "output_type": "display_data",
          "data": {
            "image/png": "[encoded data removed]",
            "text/plain": [
              "<Figure size 432x288 with 1 Axes>"
            ]
          },
          "metadata": {
            "tags": []
          }
        }
      ]
    },
    {
      "cell_type": "markdown",
      "metadata": {
        "id": "hQK7jxc13Ebb",
        "colab_type": "text"
      },
      "source": [
        "#### Crude integral approximations"
      ]
    }
  ]
}